{
 "cells": [
  {
   "cell_type": "code",
   "execution_count": 2,
   "metadata": {},
   "outputs": [],
   "source": [
    "import geopandas as gpd\n",
    "import os\n",
    "os.chdir('/Users/ichittumuri/Desktop/MINES/COGCC-Risk-Analysis/Data')\n",
    "\n",
    "pop_density=gpd.read_file('Population_Density_(Census_Tracts)')\n",
    "flowlines=gpd.read_file('final_cleaned_gdf.geojson')"
   ]
  },
  {
   "cell_type": "code",
   "execution_count": 2,
   "metadata": {},
   "outputs": [
    {
     "name": "stdout",
     "output_type": "stream",
     "text": [
      "Summary of Census Tract Data:\n",
      "<class 'geopandas.geodataframe.GeoDataFrame'>\n",
      "RangeIndex: 1249 entries, 0 to 1248\n",
      "Data columns (total 8 columns):\n",
      " #   Column      Non-Null Count  Dtype   \n",
      "---  ------      --------------  -----   \n",
      " 0   OBJECTID    1249 non-null   int32   \n",
      " 1   FIPS        1249 non-null   object  \n",
      " 2   County      1249 non-null   object  \n",
      " 3   Tract_Name  1249 non-null   object  \n",
      " 4   Area_Land_  1249 non-null   float64 \n",
      " 5   Population  1249 non-null   int32   \n",
      " 6   Populati_1  1249 non-null   float64 \n",
      " 7   geometry    1249 non-null   geometry\n",
      "dtypes: float64(2), geometry(1), int32(2), object(3)\n",
      "memory usage: 68.4+ KB\n",
      "None\n",
      "\n",
      "First few rows of the data:\n",
      "   OBJECTID         FIPS    County  \\\n",
      "0         1  08043979000   FREMONT   \n",
      "1         2  08045951600  GARFIELD   \n",
      "2         3  08069002803   LARIMER   \n",
      "3         4  08125963200      YUMA   \n",
      "4         5  08069002401   LARIMER   \n",
      "\n",
      "                                     Tract_Name  Area_Land_  Population  \\\n",
      "0   Census Tract 9790, Fremont County, Colorado     1009.02        3456   \n",
      "1  Census Tract 9516, Garfield County, Colorado      573.42        3806   \n",
      "2  Census Tract 28.03, Larimer County, Colorado      218.45          53   \n",
      "3      Census Tract 9632, Yuma County, Colorado     1034.06        5581   \n",
      "4  Census Tract 24.01, Larimer County, Colorado      398.87        1352   \n",
      "\n",
      "   Populati_1                                           geometry  \n",
      "0         3.4  POLYGON ((-105.88353 38.32817, -105.88385 38.3...  \n",
      "1         6.6  POLYGON ((-107.43227 39.57173, -107.43309 39.5...  \n",
      "2         0.2  POLYGON ((-105.57906 40.33209, -105.5791 40.33...  \n",
      "3         5.4  POLYGON ((-102.80355 39.99325, -102.80359 39.9...  \n",
      "4         3.4  POLYGON ((-105.22072 40.79379, -105.22117 40.7...  \n"
     ]
    }
   ],
   "source": [
    "# Check the format of the population data - this code uses the census tract data available at:\n",
    "# https://data-cdphe.opendata.arcgis.com/datasets/CDPHE::population-density-census-tracts/explore?location=38.499827%2C-102.988618%2C6.77\n",
    "\n",
    "print('Summary of Census Tract Data:')\n",
    "print(pop_density.info())  # General information about the dataset\n",
    "print('\\nFirst few rows of the data:')\n",
    "print(pop_density.head())  # Preview the first few rows"
   ]
  },
  {
   "cell_type": "code",
   "execution_count": 3,
   "metadata": {},
   "outputs": [
    {
     "name": "stdout",
     "output_type": "stream",
     "text": [
      "count     1249.000000\n",
      "mean      3664.680384\n",
      "std       3641.594843\n",
      "min          0.000000\n",
      "25%        466.600000\n",
      "50%       3139.000000\n",
      "75%       5487.300000\n",
      "max      33066.700000\n",
      "Name: Populati_1, dtype: float64\n"
     ]
    }
   ],
   "source": [
    "print(pop_density['Populati_1'].describe())\n"
   ]
  },
  {
   "cell_type": "code",
   "execution_count": 4,
   "metadata": {},
   "outputs": [
    {
     "name": "stdout",
     "output_type": "stream",
     "text": [
      "Flowline CRS: EPSG:26913\n",
      "Population CRS: EPSG:26913\n"
     ]
    }
   ],
   "source": [
    "# Ensure matching coordinates\n",
    "\n",
    "pop_density = pop_density.to_crs(flowlines.crs)\n",
    "\n",
    "print(f'Flowline CRS: {flowlines.crs}')\n",
    "print(f'Population CRS: {pop_density.crs}')\n",
    "\n"
   ]
  },
  {
   "cell_type": "code",
   "execution_count": 5,
   "metadata": {},
   "outputs": [],
   "source": [
    "# Create a buffer around each line in which to calculate population density\n",
    "# If a buffer lies within multiple tracts, we will take the average density between the tracts.\n",
    "# A better approach would be an average weighted by the proportion of the buffer in each tract, but I am still working on this.\n",
    "# It may be possible that our lines are cut into small enough chunks that this isn't an issue.\n",
    "\n",
    "buffer_distance = 10  # buffer distance in meters\n",
    "flowlines['buffer'] = flowlines.geometry.buffer(buffer_distance)\n",
    "\n",
    "buffered_flowlines = gpd.GeoDataFrame(flowlines.drop(columns='geometry'), geometry=flowlines[\"buffer\"])  # create a new dataframe that uses the buffered geometry\n",
    "buffered_flowlines = buffered_flowlines.reset_index()  # reset index columns\n",
    "\n",
    "# Perform a left spatial join with the updated predicate parameter\n",
    "joined = gpd.sjoin(buffered_flowlines, pop_density, how='left', predicate='intersects')"
   ]
  },
  {
   "cell_type": "code",
   "execution_count": 6,
   "metadata": {},
   "outputs": [
    {
     "name": "stderr",
     "output_type": "stream",
     "text": [
      "/var/folders/p3/gs65vvgs1wd90mnxb3q3hvy80000gp/T/ipykernel_72680/1035208378.py:3: DeprecationWarning: The 'unary_union' attribute is deprecated, use the 'union_all()' method instead.\n",
      "  intersection_test = buffered_flowlines.geometry.intersects(pop_density.geometry.unary_union)\n"
     ]
    },
    {
     "name": "stdout",
     "output_type": "stream",
     "text": [
      "275142\n"
     ]
    }
   ],
   "source": [
    "# test how many of the buffers intersect at least one tract\n",
    "\n",
    "intersection_test = buffered_flowlines.geometry.intersects(pop_density.geometry.unary_union)\n",
    "print(intersection_test.sum())  "
   ]
  },
  {
   "cell_type": "code",
   "execution_count": 7,
   "metadata": {},
   "outputs": [],
   "source": [
    "# calculate average density for each buffered line and put it in a new column\n",
    "\n",
    "aggregated_density = (joined.groupby(\"index\")[\"Populati_1\"].mean().reset_index(name=\"average_pop_density\")) \n",
    "\n",
    "flowlines=flowlines.merge(aggregated_density, left_index=True, right_on='index', how='left')\n"
   ]
  },
  {
   "cell_type": "code",
   "execution_count": 8,
   "metadata": {},
   "outputs": [],
   "source": [
    "# Save the updated file\n",
    "\n",
    "flowlines.drop(columns='buffer').to_file('flowlines_with_pop_density.geojson',driver='GeoJSON') # drop the temporary buffer column and save the data"
   ]
  }
 ],
 "metadata": {
  "kernelspec": {
   "display_name": "ecmc_env",
   "language": "python",
   "name": "python3"
  },
  "language_info": {
   "codemirror_mode": {
    "name": "ipython",
    "version": 3
   },
   "file_extension": ".py",
   "mimetype": "text/x-python",
   "name": "python",
   "nbconvert_exporter": "python",
   "pygments_lexer": "ipython3",
   "version": "3.11.5"
  }
 },
 "nbformat": 4,
 "nbformat_minor": 2
}
