{
 "cells": [
  {
   "cell_type": "code",
   "execution_count": 1,
   "metadata": {},
   "outputs": [],
   "source": [
    "import os\n",
    "import geopandas as gpd\n",
    "import numpy as np\n",
    "import pandas as pd\n",
    "import scipy.stats as stats\n",
    "import matplotlib.pyplot as plt\n",
    "from statsmodels.tsa.stattools import acf, q_stat, adfuller\n",
    "from statsmodels.graphics.tsaplots import plot_acf\n",
    "from statsmodels.sandbox.stats.runs import runstest_1samp\n",
    "\n",
    "os.chdir('/Users/ichittumuri/Desktop/MINES/COGCC-Risk-Analysis/Data')\n",
    "\n",
    "# 1) Read GeoJSON file\n",
    "data = gpd.read_file(\"similarity_matrix_result.geojson\")"
   ]
  },
  {
   "cell_type": "code",
   "execution_count": 2,
   "metadata": {},
   "outputs": [
    {
     "data": {
      "text/plain": [
       "(15911, 16)"
      ]
     },
     "execution_count": 2,
     "metadata": {},
     "output_type": "execute_result"
    }
   ],
   "source": [
    "data.shape"
   ]
  },
  {
   "cell_type": "markdown",
   "metadata": {},
   "source": [
    "### One hot encoding"
   ]
  },
  {
   "cell_type": "code",
   "execution_count": 3,
   "metadata": {},
   "outputs": [],
   "source": [
    "data_transformed = pd.get_dummies(data, columns=['operator_number', 'flowline_id', 'location_id', 'status', 'location_type', 'fluid', 'material', 'root_cause'], drop_first=True)\n",
    "\n",
    "# List of original columns that are not one-hot encoded\n",
    "original_columns = data.columns.tolist()\n",
    "\n",
    "# List of new columns that are the result of get_dummies\n",
    "new_dummy_columns = [col for col in data_transformed.columns if col not in original_columns]\n",
    "\n",
    "# Convert only the dummy columns to int\n",
    "data_transformed[new_dummy_columns] = data_transformed[new_dummy_columns].astype(int)"
   ]
  },
  {
   "cell_type": "code",
   "execution_count": 4,
   "metadata": {},
   "outputs": [
    {
     "data": {
      "text/plain": [
       "(15911, 5306)"
      ]
     },
     "execution_count": 4,
     "metadata": {},
     "output_type": "execute_result"
    }
   ],
   "source": [
    "data_transformed.shape"
   ]
  },
  {
   "cell_type": "code",
   "execution_count": 5,
   "metadata": {},
   "outputs": [],
   "source": [
    "data_transformed = data_transformed.drop(columns=['geometry'])"
   ]
  },
  {
   "cell_type": "code",
   "execution_count": 6,
   "metadata": {},
   "outputs": [],
   "source": [
    "import pandas as pd\n",
    "import numpy as np\n",
    "import matplotlib.pyplot as plt\n",
    "from scipy.stats import ks_2samp, shapiro, anderson, chi2_contingency, spearmanr\n",
    "from statsmodels.stats.diagnostic import acorr_ljungbox"
   ]
  },
  {
   "cell_type": "markdown",
   "metadata": {},
   "source": [
    "### Autocorrelation Test (Ljung-Box)\n",
    "\n",
    "Interpretation: If p-value < 0.05, reject independence"
   ]
  },
  {
   "cell_type": "code",
   "execution_count": 7,
   "metadata": {},
   "outputs": [
    {
     "name": "stdout",
     "output_type": "stream",
     "text": [
      "          lb_stat  lb_pvalue\n",
      "10  120223.792183        0.0\n"
     ]
    }
   ],
   "source": [
    "# Choose a random column (or the first one) for testing\n",
    "column_to_test = data.iloc[:, 0]  \n",
    "\n",
    "# Ljung-Box test (null hypothesis: data is independent)\n",
    "lb_test = acorr_ljungbox(column_to_test.dropna(), lags=[10], return_df=True)\n",
    "print(lb_test)"
   ]
  },
  {
   "cell_type": "markdown",
   "metadata": {},
   "source": [
    "###  Spearman Rank Correlation (Across Rows/Columns)\n",
    "If p-value < 0.05, columns are correlated → data is not independent."
   ]
  },
  {
   "cell_type": "code",
   "execution_count": 8,
   "metadata": {},
   "outputs": [
    {
     "name": "stdout",
     "output_type": "stream",
     "text": [
      "Spearman Correlation: -0.029187861562380877, p-value: 0.00023121411784757787\n"
     ]
    }
   ],
   "source": [
    "# Check correlation between two randomly selected columns\n",
    "col1, col2 = np.random.choice(data.columns, 2, replace=False)\n",
    "rho, p_val = spearmanr(data[col1].dropna(), data[col2].dropna())\n",
    "\n",
    "print(f\"Spearman Correlation: {rho}, p-value: {p_val}\")"
   ]
  },
  {
   "cell_type": "markdown",
   "metadata": {},
   "source": [
    "### Kolmogorov-Smirnov (KS) Test\n",
    "If p-value < 0.05, reject identical distribution."
   ]
  },
  {
   "cell_type": "code",
   "execution_count": 9,
   "metadata": {},
   "outputs": [
    {
     "name": "stdout",
     "output_type": "stream",
     "text": [
      "KS Test Statistic: 0.05812008472747187, p-value: 4.136251430211696e-12\n"
     ]
    }
   ],
   "source": [
    "# Split dataset into two equal parts (first half vs. second half)\n",
    "split_index = len(data) // 2\n",
    "sample1 = data.iloc[:split_index, 0].dropna()\n",
    "sample2 = data.iloc[split_index:, 0].dropna()\n",
    "\n",
    "ks_stat, ks_pval = ks_2samp(sample1, sample2)\n",
    "print(f\"KS Test Statistic: {ks_stat}, p-value: {ks_pval}\")"
   ]
  },
  {
   "cell_type": "markdown",
   "metadata": {},
   "source": [
    "### Shapiro-Wilk Normality Test\n",
    "If p-value < 0.05, data is not normally distributed.\n"
   ]
  },
  {
   "cell_type": "code",
   "execution_count": 22,
   "metadata": {},
   "outputs": [
    {
     "name": "stdout",
     "output_type": "stream",
     "text": [
      "Shapiro-Wilk Test Statistic: 0.6309353179304134, p-value: 2.312651988572193e-31\n"
     ]
    }
   ],
   "source": [
    "# Test normality of two random columns\n",
    "col_test = np.random.choice(data.columns, 1)[0]\n",
    "sample = data[col_test].dropna().sample(500)  # Take a subset (Shapiro-Wilk max is ~5000)\n",
    "\n",
    "shapiro_stat, shapiro_pval = shapiro(sample)\n",
    "print(f\"Shapiro-Wilk Test Statistic: {shapiro_stat}, p-value: {shapiro_pval}\")"
   ]
  },
  {
   "cell_type": "markdown",
   "metadata": {},
   "source": [
    "### Chi-Square test\n",
    "If p-value < 0.05, data is not identically distributed.\n"
   ]
  },
  {
   "cell_type": "code",
   "execution_count": 24,
   "metadata": {},
   "outputs": [
    {
     "name": "stdout",
     "output_type": "stream",
     "text": [
      "Chi-Square Statistic: 16955.59141571558, p-value: 0.0\n"
     ]
    }
   ],
   "source": [
    "# Convert data to categories (bins) for chi-square test\n",
    "binned_data = pd.cut(data.iloc[:, 0], bins=10).value_counts()\n",
    "observed = np.array(binned_data)\n",
    "\n",
    "# Create an expected uniform distribution\n",
    "expected = np.ones_like(observed) * observed.mean()\n",
    "\n",
    "# Perform chi-square test\n",
    "chi2_stat, chi2_pval, _, _ = chi2_contingency([observed, expected])\n",
    "print(f\"Chi-Square Statistic: {chi2_stat}, p-value: {chi2_pval}\")"
   ]
  },
  {
   "cell_type": "code",
   "execution_count": 25,
   "metadata": {},
   "outputs": [
    {
     "data": {
      "image/png": "[encoded data removed]",
      "text/plain": [
       "<Figure size 640x480 with 1 Axes>"
      ]
     },
     "metadata": {},
     "output_type": "display_data"
    }
   ],
   "source": [
    "from pandas.plotting import autocorrelation_plot\n",
    "\n",
    "autocorrelation_plot(data.iloc[:, 0].dropna())\n",
    "plt.show()"
   ]
  },
  {
   "cell_type": "markdown",
   "metadata": {},
   "source": [
    "Autocorrelation Measures Spatial Dependence\n",
    "- Instead of showing how data correlates over time, this plot suggests how values at different locations influence each other.\n",
    "- High autocorrelation at low lags means nearby locations have similar values.\n",
    "- The drop and rise in correlation at larger lags could indicate spatial clustering or periodic spatial patterns in your dataset.\n",
    "\n",
    "Negative Autocorrelation at Mid-Lags (~4000-6000)\n",
    "- This suggests that at a certain distance, values tend to be dissimilar (e.g., areas of high values tend to be surrounded by low values at this distance).\n",
    "- This might indicate a spatial oscillation or alternating high-low values in your dataset.\n",
    "\n",
    "Resurgence of Positive Autocorrelation (~8000-10000)\n",
    "- This suggests that at a larger distance, the data becomes correlated again.\n",
    "- Possible explanation: Regional clustering of similar values (e.g., certain environmental or demographic zones).\n",
    "\n",
    "Crossing the Confidence Bands\n",
    "- Since the autocorrelation values are outside the gray bands at multiple points, the observed spatial correlations are statistically significant and not just random noise.\n",
    "- This strongly suggests that your data has structured spatial dependence."
   ]
  }
 ],
 "metadata": {
  "kernelspec": {
   "display_name": "ecmc_env",
   "language": "python",
   "name": "python3"
  },
  "language_info": {
   "codemirror_mode": {
    "name": "ipython",
    "version": 3
   },
   "file_extension": ".py",
   "mimetype": "text/x-python",
   "name": "python",
   "nbconvert_exporter": "python",
   "pygments_lexer": "ipython3",
   "version": "3.11.5"
  }
 },
 "nbformat": 4,
 "nbformat_minor": 2
}
