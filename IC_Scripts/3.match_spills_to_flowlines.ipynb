{
 "cells": [
  {
   "cell_type": "markdown",
   "metadata": {},
   "source": [
    "This code creates a buffer(50 meters max) around the spill points and finds the nearest flowline intersection, asserting that the operator name is the same. It then changes the matches spills geometry location to its respective flowline intersection point."
   ]
  },
  {
   "cell_type": "markdown",
   "metadata": {},
   "source": [
    "## Setup"
   ]
  },
  {
   "cell_type": "code",
   "execution_count": 2,
   "metadata": {},
   "outputs": [
    {
     "name": "stderr",
     "output_type": "stream",
     "text": [
      "/var/folders/p3/gs65vvgs1wd90mnxb3q3hvy80000gp/T/ipykernel_1257/1675540171.py:2: DeprecationWarning: \n",
      "Pyarrow will become a required dependency of pandas in the next major release of pandas (pandas 3.0),\n",
      "(to allow more performant data types, such as the Arrow string type, and better interoperability with other libraries)\n",
      "but was not found to be installed on your system.\n",
      "If this would cause problems for you,\n",
      "please provide us feedback at https://github.com/pandas-dev/pandas/issues/54466\n",
      "        \n",
      "  import pandas as pd\n"
     ]
    }
   ],
   "source": [
    "import os\n",
    "import pandas as pd\n",
    "import geopandas as gpd\n",
    "from shapely.geometry import MultiLineString, LineString, Point\n",
    "from shapely.ops import nearest_points\n",
    "\n",
    "os.chdir('/Users/ichittumuri/Desktop/MINES/COGCC-Risk-Analysis/Data')\n",
    "pd.options.display.max_columns = None"
   ]
  },
  {
   "cell_type": "code",
   "execution_count": 3,
   "metadata": {},
   "outputs": [],
   "source": [
    "# Load Data\n",
    "all_flowlines_gdf = gpd.read_file('all_flowlines.geojson')\n",
    "spills_gdf = gpd.read_file('spills.geojson')"
   ]
  },
  {
   "cell_type": "code",
   "execution_count": 4,
   "metadata": {},
   "outputs": [],
   "source": [
    "# Check if CRS is the same for both files\n",
    "if all_flowlines_gdf.crs != spills_gdf.crs:\n",
    "    flowlines_gdf = all_flowlines_gdf.to_crs(spills_gdf.crs)"
   ]
  },
  {
   "cell_type": "code",
   "execution_count": 5,
   "metadata": {},
   "outputs": [
    {
     "name": "stdout",
     "output_type": "stream",
     "text": [
      "EPSG:26913\n",
      "EPSG:26913\n"
     ]
    }
   ],
   "source": [
    "print(spills_gdf.crs)\n",
    "print(all_flowlines_gdf.crs)"
   ]
  },
  {
   "cell_type": "code",
   "execution_count": 6,
   "metadata": {},
   "outputs": [
    {
     "name": "stdout",
     "output_type": "stream",
     "text": [
      "(129785, 27)\n",
      "(849, 14)\n"
     ]
    }
   ],
   "source": [
    "# Check size\n",
    "print(all_flowlines_gdf.shape)\n",
    "print(spills_gdf.shape)"
   ]
  },
  {
   "cell_type": "code",
   "execution_count": 7,
   "metadata": {},
   "outputs": [
    {
     "name": "stdout",
     "output_type": "stream",
     "text": [
      "False\n",
      "False\n"
     ]
    }
   ],
   "source": [
    "print(spills_gdf.is_valid.all())\n",
    "print(all_flowlines_gdf.is_valid.all())"
   ]
  },
  {
   "cell_type": "code",
   "execution_count": 8,
   "metadata": {},
   "outputs": [],
   "source": [
    "spills_gdf = spills_gdf[spills_gdf.is_valid]\n",
    "all_flowlines_gdf = all_flowlines_gdf[all_flowlines_gdf.is_valid]"
   ]
  },
  {
   "cell_type": "code",
   "execution_count": 9,
   "metadata": {},
   "outputs": [
    {
     "name": "stdout",
     "output_type": "stream",
     "text": [
      "True\n",
      "True\n"
     ]
    }
   ],
   "source": [
    "print(spills_gdf.is_valid.all())\n",
    "print(all_flowlines_gdf.is_valid.all())"
   ]
  },
  {
   "cell_type": "code",
   "execution_count": 10,
   "metadata": {},
   "outputs": [
    {
     "data": {
      "text/html": [
       "<div>\n",
       "<style scoped>\n",
       "    .dataframe tbody tr th:only-of-type {\n",
       "        vertical-align: middle;\n",
       "    }\n",
       "\n",
       "    .dataframe tbody tr th {\n",
       "        vertical-align: top;\n",
       "    }\n",
       "\n",
       "    .dataframe thead th {\n",
       "        text-align: right;\n",
       "    }\n",
       "</style>\n",
       "<table border=\"1\" class=\"dataframe\">\n",
       "  <thead>\n",
       "    <tr style=\"text-align: right;\">\n",
       "      <th></th>\n",
       "      <th>index_left</th>\n",
       "      <th>LOCATION_ID</th>\n",
       "      <th>FLOWLINEID</th>\n",
       "      <th>STARTLOCATIONID</th>\n",
       "      <th>FLOWLINEACTION</th>\n",
       "      <th>ENTIRELINEREMOVED</th>\n",
       "      <th>ACTIONDESCRIPTION</th>\n",
       "      <th>RECEIVE_DATE</th>\n",
       "      <th>OPERATOR_NUM</th>\n",
       "      <th>COMPANY_NAME</th>\n",
       "      <th>LOCATIONTYPE</th>\n",
       "      <th>ENDLAT</th>\n",
       "      <th>ENDLONG</th>\n",
       "      <th>STARTLAT</th>\n",
       "      <th>STARTLONG</th>\n",
       "      <th>PIPEMATERIAL</th>\n",
       "      <th>BEDDINGMATERIAL</th>\n",
       "      <th>TYPEOFFLUIDTRANS</th>\n",
       "      <th>MAXOPPRESSURE</th>\n",
       "      <th>Operator</th>\n",
       "      <th>Fluid</th>\n",
       "      <th>Material</th>\n",
       "      <th>Diam_in</th>\n",
       "      <th>Status</th>\n",
       "      <th>Length_ft</th>\n",
       "      <th>SHAPE_Length</th>\n",
       "      <th>geometry</th>\n",
       "    </tr>\n",
       "  </thead>\n",
       "  <tbody>\n",
       "    <tr>\n",
       "      <th>0</th>\n",
       "      <td>NaN</td>\n",
       "      <td>NaN</td>\n",
       "      <td>NaN</td>\n",
       "      <td>NaN</td>\n",
       "      <td>None</td>\n",
       "      <td>None</td>\n",
       "      <td>None</td>\n",
       "      <td>NaT</td>\n",
       "      <td>NaN</td>\n",
       "      <td>None</td>\n",
       "      <td>None</td>\n",
       "      <td>NaN</td>\n",
       "      <td>NaN</td>\n",
       "      <td>NaN</td>\n",
       "      <td>NaN</td>\n",
       "      <td>None</td>\n",
       "      <td>None</td>\n",
       "      <td>None</td>\n",
       "      <td>NaN</td>\n",
       "      <td>EVERGREEN NATURAL RESOURCES LLC</td>\n",
       "      <td>Gas</td>\n",
       "      <td>polly</td>\n",
       "      <td>4.0</td>\n",
       "      <td>Active</td>\n",
       "      <td>2277.71</td>\n",
       "      <td>693.972162</td>\n",
       "      <td>MULTILINESTRING ((524642.670 4117088.796, 5246...</td>\n",
       "    </tr>\n",
       "    <tr>\n",
       "      <th>1</th>\n",
       "      <td>NaN</td>\n",
       "      <td>NaN</td>\n",
       "      <td>NaN</td>\n",
       "      <td>NaN</td>\n",
       "      <td>None</td>\n",
       "      <td>None</td>\n",
       "      <td>None</td>\n",
       "      <td>NaT</td>\n",
       "      <td>NaN</td>\n",
       "      <td>None</td>\n",
       "      <td>None</td>\n",
       "      <td>NaN</td>\n",
       "      <td>NaN</td>\n",
       "      <td>NaN</td>\n",
       "      <td>NaN</td>\n",
       "      <td>None</td>\n",
       "      <td>None</td>\n",
       "      <td>None</td>\n",
       "      <td>NaN</td>\n",
       "      <td>NOBLE ENERGY INC</td>\n",
       "      <td>Multiphase</td>\n",
       "      <td>Carbon Steel</td>\n",
       "      <td>3.0</td>\n",
       "      <td>Abandoned</td>\n",
       "      <td>651.58</td>\n",
       "      <td>198.525215</td>\n",
       "      <td>MULTILINESTRING ((527997.281 4463899.920, 5281...</td>\n",
       "    </tr>\n",
       "  </tbody>\n",
       "</table>\n",
       "</div>"
      ],
      "text/plain": [
       "   index_left  LOCATION_ID  FLOWLINEID  STARTLOCATIONID FLOWLINEACTION  \\\n",
       "0         NaN          NaN         NaN              NaN           None   \n",
       "1         NaN          NaN         NaN              NaN           None   \n",
       "\n",
       "  ENTIRELINEREMOVED ACTIONDESCRIPTION RECEIVE_DATE  OPERATOR_NUM COMPANY_NAME  \\\n",
       "0              None              None          NaT           NaN         None   \n",
       "1              None              None          NaT           NaN         None   \n",
       "\n",
       "  LOCATIONTYPE  ENDLAT  ENDLONG  STARTLAT  STARTLONG PIPEMATERIAL  \\\n",
       "0         None     NaN      NaN       NaN        NaN         None   \n",
       "1         None     NaN      NaN       NaN        NaN         None   \n",
       "\n",
       "  BEDDINGMATERIAL TYPEOFFLUIDTRANS  MAXOPPRESSURE  \\\n",
       "0            None             None            NaN   \n",
       "1            None             None            NaN   \n",
       "\n",
       "                          Operator       Fluid      Material  Diam_in  \\\n",
       "0  EVERGREEN NATURAL RESOURCES LLC         Gas         polly      4.0   \n",
       "1                 NOBLE ENERGY INC  Multiphase  Carbon Steel      3.0   \n",
       "\n",
       "      Status  Length_ft  SHAPE_Length  \\\n",
       "0     Active    2277.71    693.972162   \n",
       "1  Abandoned     651.58    198.525215   \n",
       "\n",
       "                                            geometry  \n",
       "0  MULTILINESTRING ((524642.670 4117088.796, 5246...  \n",
       "1  MULTILINESTRING ((527997.281 4463899.920, 5281...  "
      ]
     },
     "execution_count": 10,
     "metadata": {},
     "output_type": "execute_result"
    }
   ],
   "source": [
    "all_flowlines_gdf.head(2)"
   ]
  },
  {
   "cell_type": "code",
   "execution_count": 34,
   "metadata": {},
   "outputs": [
    {
     "data": {
      "image/svg+xml": [
       "<svg xmlns=\"http://www.w3.org/2000/svg\" xmlns:xlink=\"http://www.w3.org/1999/xlink\" width=\"300\" height=\"300\" viewBox=\"524255.2592427848 4116414.514042785 471.92320077342447 752.1386887668632\" preserveAspectRatio=\"xMinYMin meet\"><g transform=\"matrix(1,0,0,-1,0,8233581.166774336)\"><path fill-rule=\"evenodd\" fill=\"#66cc99\" stroke=\"#555555\" stroke-width=\"5.014257925112421\" opacity=\"0.6\" d=\"M 524416.4176672804,4116675.194794484 L 524420.69792362,4116684.596229509 L 524421.3951688488,4116686.063980297 L 524427.5097688488,4116698.413780297 L 524427.8160641756,4116699.0219615437 L 524434.010043548,4116711.1150572575 L 524440.9415099627,4116725.0918791248 L 524448.407292079,4116740.776755247 L 524448.6775266153,4116741.3355276086 L 524457.0558266153,4116758.3887276095 L 524457.997438824,4116760.2099591903 L 524467.5773896141,4116777.843292928 L 524477.9388021961,4116797.4158532065 L 524488.094660534,4116816.882602627 L 524497.2671136095,4116834.5512227747 L 524497.4040570543,4116834.813117158 L 524506.2555570542,4116851.6198171587 L 524507.0550337083,4116853.078441937 L 524516.6807337081,4116869.9675419373 L 524517.3071320055,4116871.035646303 L 524528.1359320057,4116888.9872463034 L 524528.9148964834,4116890.2366184676 L 524540.03894362,4116907.5066856635 L 524548.8599770609,4116922.9115666375 L 524556.1809848176,4116938.1098826113 L 524562.5601937214,4116952.5071290312 L 524563.7164728815,4116954.937879689 L 524570.1162728822,4116967.5077796895 L 524571.8710692774,4116970.6666002823 L 524579.078569277,4116982.603300282 L 524580.5706997495,4116984.9269592855 L 524588.9783897199,4116997.257328526 L 524595.8704948766,4117008.445749462 L 524598.69673737,4117014.1822055485 L 524598.881175993,4117015.520794136 L 524598.398512374,4117018.8826507553 L 524597.2238817785,4117022.729240711 L 524595.5188855036,4117027.724994179 L 524595.1689266152,4117028.7892560093 L 524588.1854266151,4117050.8569560098 L 524586.9238825632,4117055.661128431 L 524586.145225377,4117060.566763867 L 524585.8571393334,4117065.5254504355 L 524586.062467446,4117070.4882527096 L 524586.7591834081,4117075.4061946487 L 524587.9404115905,4117080.2307429207 L 524594.7554115909,4117103.0845429194 L 524596.3866280679,4117107.7122312672 L 524598.46358257,4117112.1577488566 L 524600.9662728899,4117116.3782829223 L 524603.8705967515,4117120.3331874153 L 524607.1485839286,4117123.984374442 L 524610.7686656126,4117127.2966810763 L 524614.695978438,4117130.2382079945 L 524618.8927002356,4117132.7806266844 L 524623.31841428,4117134.8994522635 L 524627.9304985257,4117136.574279284 L 524632.6845360803,4117137.788978246 L 524637.5347429634,4117138.5318509345 L 524642.4344090311,4117138.795743079 L 524647.3363478208,4117138.578113254 L 524652.1933509824,4117137.8810573546 L 524656.9586429202,4117136.711288409 L 524661.586331268,4117135.0800719317 L 524666.0318488572,4117133.0031174296 L 524670.2523829232,4117130.50042711 L 524674.2072874157,4117127.596103248 L 524677.8584744427,4117124.318116071 L 524681.170781077,4117120.698034387 L 524684.1123079952,4117116.7707215617 L 524686.6547266848,4117112.5739997644 L 524688.7735522642,4117108.1482857196 L 524690.4483792848,4117103.536201474 L 524691.6630782468,4117098.7821639194 L 524692.4059509351,4117093.9319570363 L 524692.6698430798,4117089.0322909686 L 524692.452213255,4117084.130352179 L 524691.7551573551,4117079.2733490174 L 524690.5853884094,4117074.5080570797 L 524688.1612444075,4117066.378797772 L 524690.3398559031,4117059.4944353607 L 524692.1265144962,4117054.2594058216 L 524692.1208443069,4117054.257470648 L 524692.8059713086,4117052.1983419033 L 524695.2016713088,4117044.279041904 L 524696.158262185,4117040.6239039283 L 524696.8361193931,4117036.9069684525 L 524698.865819393,4117022.769668453 L 524699.3122470037,4117018.1341360635 L 524699.3254550854,4117013.4771752856 L 524698.9053290581,4117008.839185175 L 524696.656429058,4116992.517485174 L 524695.6448885879,4116987.2690988 L 524694.0788797754,4116982.1586790476 L 524691.9762982011,4116977.2446252857 L 524684.5312982008,4116962.1334252865 L 524682.250553885,4116958.0071251513 L 524673.5128538855,4116943.82262515 L 524672.2521002507,4116941.8783407137 L 524663.9696615685,4116929.7316598147 L 524658.4106383745,4116920.5250844196 L 524653.4419934492,4116910.7661279147 L 524647.2860062781,4116896.872670968 L 524646.6186596798,4116895.4289790955 L 524638.1803596802,4116877.911179096 L 524636.5241035997,4116874.764224568 L 524626.1704035989,4116856.6827245685 L 524624.8151035161,4116854.4528815327 L 524613.3829841082,4116836.7045325786 L 524603.254280461,4116819.913527445 L 524594.3470373511,4116804.2850204674 L 524585.952001675,4116788.345027686 L 524576.8243863906,4116770.7627772246 L 524576.7778021578,4116770.673264421 L 524566.5290021576,4116751.0283644213 L 524566.3889916422,4116750.761950562 L 524555.8308916421,4116730.817850562 L 524555.5757611755,4116730.3421408106 L 524546.356441089,4116713.3726018765 L 524538.5671248018,4116697.5182199 L 524531.0614079211,4116681.7494447534 L 524530.7089215055,4116681.0240399423 L 524523.4542215051,4116666.395439941 L 524523.1623358248,4116665.8163384553 L 524516.9757542614,4116653.737686188 L 524511.3727804071,4116642.421229428 L 524507.2506763807,4116633.36717049 L 524506.4912716561,4116631.700672299 L 524505.1821985195,4116629.0399968643 L 524504.269711672,4116627.3163744807 L 524500.7307276678,4116619.8939043838 L 524494.6637431982,4116607.083735644 L 524494.1960739067,4116606.1229490093 L 524487.3645739073,4116592.4611490085 L 524486.6499159858,4116591.0856798426 L 524478.9139159853,4116576.744379843 L 524477.387750754,4116574.110320086 L 524468.2905507543,4116559.4565200848 L 524465.7711626855,4116555.7755228556 L 524454.5612626853,4116540.870022857 L 524450.88856389,4116536.525046449 L 524435.9912638897,4116520.809246449 L 524434.0937211902,4116518.9121027766 L 524414.9971211904,4116500.8177027768 L 524413.4251769704,4116499.3903617277 L 524405.4523769708,4116492.4540617275 L 524403.4587631781,4116490.8082126086 L 524398.285004723,4116486.757245063 L 524392.778016339,4116481.1510552317 L 524392.335129495,4116480.705818242 L 524381.1771294952,4116469.628618241 L 524368.3423080995,4116456.8868984506 L 524364.6946625604,4116453.6049708677 L 524360.7428962749,4116450.696378448 L 524356.525066913,4116448.189132526 L 524352.0817944768,4116446.107379251 L 524347.4558701091,4116444.471167045 L 524342.6918439902,4116443.296253526 L 524337.8355962959,4116442.5939537534 L 524332.9338953462,4116442.371031258 L 524328.0339472009,4116442.6296329047 L 524323.1829410391,4116443.367268219 L 524318.427594702,4116444.5768333697 L 524313.8137047742,4116446.246679582 L 524309.3857055382,4116448.3607253255 L 524305.1862410472,4116450.8986111833 L 524301.2557544397,4116453.8358959276 L 524297.6320984504,4116457.1442919 L 524294.3501708676,4116460.7919374392 L 524291.4415784478,4116464.7437037244 L 524288.934332526,4116468.9615330864 L 524286.8525792511,4116473.4048055224 L 524285.2163670451,4116478.0307298903 L 524284.04145352606,4116482.7947560092 L 524283.3391537533,4116487.6510037035 L 524283.1162312577,4116492.5527046532 L 524283.3748329046,4116497.4526527985 L 524284.1124682189,4116502.3036589604 L 524285.3220333693,4116507.0590052977 L 524286.99187958206,4116511.672895225 L 524289.1059253254,4116516.1008944614 L 524291.6438111832,4116520.3003589525 L 524294.5810959272,4116524.23084556 L 524297.8894918998,4116527.854501549 L 524310.7240030802,4116540.595913373 L 524321.659029008,4116551.4517539553 L 524329.2274836609,4116559.156544769 L 524334.072436822,4116563.486287392 L 524340.7915484793,4116568.74724101 L 524346.9876942902,4116574.137859888 L 524364.3392457518,4116590.57879245 L 524376.3530879674,4116603.2527093003 L 524384.5085639864,4116614.0968245724 L 524391.6250543721,4116625.560090943 L 524398.2700935525,4116637.8789250157 L 524404.5159578515,4116650.3695564866 L 524410.3820568013,4116662.755564357 L 524410.4378404006,4116662.8729543034 L 524414.4565404005,4116671.3015543036 L 524414.6335551931,4116671.6689509866 L 524415.843555193,4116674.154350987 L 524416.4176672804,4116675.194794484 z\" /></g></svg>"
      ],
      "text/plain": [
       "<POLYGON ((524416.418 4116675.195, 524420.698 4116684.596, 524421.395 411668...>"
      ]
     },
     "execution_count": 34,
     "metadata": {},
     "output_type": "execute_result"
    }
   ],
   "source": [
    "\n",
    "all_flowlines_gdf[\"geometry\"].head(1)[0]\n",
    "all_flowlines_gdf[\"geometry\"].head(1).buffer(50)[0]"
   ]
  },
  {
   "cell_type": "code",
   "execution_count": 11,
   "metadata": {},
   "outputs": [
    {
     "data": {
      "text/html": [
       "<div>\n",
       "<style scoped>\n",
       "    .dataframe tbody tr th:only-of-type {\n",
       "        vertical-align: middle;\n",
       "    }\n",
       "\n",
       "    .dataframe tbody tr th {\n",
       "        vertical-align: top;\n",
       "    }\n",
       "\n",
       "    .dataframe thead th {\n",
       "        text-align: right;\n",
       "    }\n",
       "</style>\n",
       "<table border=\"1\" class=\"dataframe\">\n",
       "  <thead>\n",
       "    <tr style=\"text-align: right;\">\n",
       "      <th></th>\n",
       "      <th>trkg_num</th>\n",
       "      <th>Operator Name</th>\n",
       "      <th>facility_type</th>\n",
       "      <th>Spill_Desc</th>\n",
       "      <th>Spill Type</th>\n",
       "      <th>Root Cause</th>\n",
       "      <th>Preventative Measure</th>\n",
       "      <th>Root Cause Type</th>\n",
       "      <th>Detailed Root Cause Type</th>\n",
       "      <th>Long</th>\n",
       "      <th>Lat</th>\n",
       "      <th>facility_status</th>\n",
       "      <th>Metallic?</th>\n",
       "      <th>geometry</th>\n",
       "    </tr>\n",
       "  </thead>\n",
       "  <tbody>\n",
       "    <tr>\n",
       "      <th>0</th>\n",
       "      <td>401530532</td>\n",
       "      <td>K P KAUFFMAN COMPANY INC</td>\n",
       "      <td>FLOWLINE</td>\n",
       "      <td>Historical contamination was discovered during...</td>\n",
       "      <td>1</td>\n",
       "      <td>Facility #7 consolidation line failed do to un...</td>\n",
       "      <td>The damaged section of flowline was repaired a...</td>\n",
       "      <td>Unknown</td>\n",
       "      <td>Unknown</td>\n",
       "      <td>-104.914183</td>\n",
       "      <td>40.019361</td>\n",
       "      <td>CL</td>\n",
       "      <td>Unknown</td>\n",
       "      <td>POINT (507323.245 4429909.631)</td>\n",
       "    </tr>\n",
       "    <tr>\n",
       "      <th>1</th>\n",
       "      <td>401524345</td>\n",
       "      <td>GREAT WESTERN OPERATING COMPANY LLC</td>\n",
       "      <td>TANK BATTERY</td>\n",
       "      <td>Soil impacts were discovered during removal of...</td>\n",
       "      <td>1</td>\n",
       "      <td>Unknown</td>\n",
       "      <td>None</td>\n",
       "      <td>Unknown</td>\n",
       "      <td>Unknown</td>\n",
       "      <td>-104.467746</td>\n",
       "      <td>39.602613</td>\n",
       "      <td>AC</td>\n",
       "      <td>Unknown</td>\n",
       "      <td>POINT (545695.434 4383787.964)</td>\n",
       "    </tr>\n",
       "  </tbody>\n",
       "</table>\n",
       "</div>"
      ],
      "text/plain": [
       "    trkg_num                        Operator Name facility_type  \\\n",
       "0  401530532             K P KAUFFMAN COMPANY INC      FLOWLINE   \n",
       "1  401524345  GREAT WESTERN OPERATING COMPANY LLC  TANK BATTERY   \n",
       "\n",
       "                                          Spill_Desc Spill Type  \\\n",
       "0  Historical contamination was discovered during...          1   \n",
       "1  Soil impacts were discovered during removal of...          1   \n",
       "\n",
       "                                          Root Cause  \\\n",
       "0  Facility #7 consolidation line failed do to un...   \n",
       "1                                            Unknown   \n",
       "\n",
       "                                Preventative Measure Root Cause Type  \\\n",
       "0  The damaged section of flowline was repaired a...         Unknown   \n",
       "1                                               None         Unknown   \n",
       "\n",
       "  Detailed Root Cause Type        Long        Lat facility_status Metallic?  \\\n",
       "0                  Unknown -104.914183  40.019361              CL   Unknown   \n",
       "1                  Unknown -104.467746  39.602613              AC   Unknown   \n",
       "\n",
       "                         geometry  \n",
       "0  POINT (507323.245 4429909.631)  \n",
       "1  POINT (545695.434 4383787.964)  "
      ]
     },
     "execution_count": 11,
     "metadata": {},
     "output_type": "execute_result"
    }
   ],
   "source": [
    "spills_gdf.head(2)"
   ]
  },
  {
   "cell_type": "code",
   "execution_count": null,
   "metadata": {},
   "outputs": [],
   "source": []
  },
  {
   "cell_type": "code",
   "execution_count": 18,
   "metadata": {},
   "outputs": [
    {
     "name": "stdout",
     "output_type": "stream",
     "text": [
      "No operator match found for spill at index 0 even after expanding buffer to 60 meters.\n",
      "No operator match found for spill at index 1 even after expanding buffer to 60 meters.\n",
      "No operator match found for spill at index 2 even after expanding buffer to 60 meters.\n",
      "No operator match found for spill at index 3 even after expanding buffer to 60 meters.\n",
      "No operator match found for spill at index 4 even after expanding buffer to 60 meters.\n",
      "Operator match found at buffer distance 20 meters for spill at index 5.\n",
      "Operator match found at buffer distance 20 meters for spill at index 6.\n"
     ]
    }
   ],
   "source": [
    "# Initialize an empty list to store matched data\n",
    "matched_spills = []\n",
    "\n",
    "max_buffer_distance = 49.5  # Maximum buffer distance in meters\n",
    "initial_buffer_distance = 0  # Initial buffer distance\n",
    "matches_found = 0  # Counter for matches found\n",
    "\n",
    "for index, spill in spills_gdf.iterrows():\n",
    "    # Check if two matches are already found\n",
    "    if matches_found == 2:\n",
    "        break\n",
    "    \n",
    "    # Check for missing geometry and skip if necessary\n",
    "    if spill.geometry is None:\n",
    "        print(f\"Missing geometry for spill at index {index}. Skipping...\")\n",
    "        continue\n",
    "\n",
    "    buffer_distance = initial_buffer_distance\n",
    "    match_found = False\n",
    "\n",
    "    while not match_found and buffer_distance <= max_buffer_distance:\n",
    "        # Buffer the spill geometry\n",
    "        buffered_spill = spill.geometry.buffer(buffer_distance)\n",
    "        \n",
    "        # Iterate over the segments of the all_flowlines_gdf\n",
    "        for _, flowline in all_flowlines_gdf.iterrows():\n",
    "            # Check if the buffer intersects with the flowline geometry\n",
    "            if buffered_spill.intersects(flowline.geometry):\n",
    "                # Get the intersection geometry\n",
    "                intersection = buffered_spill.intersection(flowline.geometry)\n",
    "                \n",
    "                # If the intersection is a LineString, take an endpoint or a specific point\n",
    "                if isinstance(intersection, LineString):\n",
    "                    points = list(intersection.coords)\n",
    "                    intersection_point = Point(points[0])  # Taking the first point of the LineString\n",
    "                    \n",
    "                elif isinstance(intersection, Point):\n",
    "                    intersection_point = intersection\n",
    "                else:\n",
    "                    continue  # Skip if no suitable point can be derived\n",
    "                \n",
    "                # Check if the operator names match\n",
    "                if spill['Operator Name'].strip().lower() == flowline['Operator'].strip().lower():\n",
    "                    print(f\"Operator match found at buffer distance {buffer_distance} meters for spill at index {index}.\")\n",
    "                    match_found = True\n",
    "                    matches_found += 1  # Increment the counter for matches found\n",
    "\n",
    "                    # Create a new GeoDataFrame with the updated spill\n",
    "                    updated_spill = spill.copy()\n",
    "                    updated_spill.geometry = intersection_point\n",
    "\n",
    "                    # Append the updated spill to the list\n",
    "                    matched_spills.append(updated_spill)\n",
    "                    break\n",
    "\n",
    "        if match_found:\n",
    "            break\n",
    "        else:\n",
    "            buffer_distance += 20  # Increase buffer by 0.5 meters if no match found\n",
    "\n",
    "    if not match_found:\n",
    "        print(f\"No operator match found for spill at index {index} even after expanding buffer to {buffer_distance} meters.\")\n",
    "\n",
    "# Convert the list of matched spills to a GeoDataFrame\n",
    "matched_spills_gdf = gpd.GeoDataFrame(matched_spills, columns=spills_gdf.columns, crs=spills_gdf.crs)"
   ]
  },
  {
   "cell_type": "code",
   "execution_count": 19,
   "metadata": {},
   "outputs": [
    {
     "data": {
      "text/html": [
       "<div>\n",
       "<style scoped>\n",
       "    .dataframe tbody tr th:only-of-type {\n",
       "        vertical-align: middle;\n",
       "    }\n",
       "\n",
       "    .dataframe tbody tr th {\n",
       "        vertical-align: top;\n",
       "    }\n",
       "\n",
       "    .dataframe thead th {\n",
       "        text-align: right;\n",
       "    }\n",
       "</style>\n",
       "<table border=\"1\" class=\"dataframe\">\n",
       "  <thead>\n",
       "    <tr style=\"text-align: right;\">\n",
       "      <th></th>\n",
       "      <th>trkg_num</th>\n",
       "      <th>Operator Name</th>\n",
       "      <th>facility_type</th>\n",
       "      <th>Spill_Desc</th>\n",
       "      <th>Spill Type</th>\n",
       "      <th>Root Cause</th>\n",
       "      <th>Preventative Measure</th>\n",
       "      <th>Root Cause Type</th>\n",
       "      <th>Detailed Root Cause Type</th>\n",
       "      <th>Long</th>\n",
       "      <th>Lat</th>\n",
       "      <th>facility_status</th>\n",
       "      <th>Metallic?</th>\n",
       "      <th>geometry</th>\n",
       "    </tr>\n",
       "  </thead>\n",
       "  <tbody>\n",
       "    <tr>\n",
       "      <th>5</th>\n",
       "      <td>401576719</td>\n",
       "      <td>NOBLE ENERGY INC</td>\n",
       "      <td>TANK BATTERY</td>\n",
       "      <td>During decommisioning of facilitiy soil impact...</td>\n",
       "      <td>1</td>\n",
       "      <td>Historical impacts were discovered during dism...</td>\n",
       "      <td>The site was dismantled and reclamation has oc...</td>\n",
       "      <td>Unknown</td>\n",
       "      <td>Unknown</td>\n",
       "      <td>-104.602541</td>\n",
       "      <td>40.319666</td>\n",
       "      <td>CL</td>\n",
       "      <td>Unknown</td>\n",
       "      <td>POINT (533748.677 4463317.692)</td>\n",
       "    </tr>\n",
       "    <tr>\n",
       "      <th>6</th>\n",
       "      <td>401585074</td>\n",
       "      <td>NOBLE ENERGY INC</td>\n",
       "      <td>TANK BATTERY</td>\n",
       "      <td>During reclamation activities historical impac...</td>\n",
       "      <td>1</td>\n",
       "      <td>During reclamation of the oil and gas facility...</td>\n",
       "      <td>The location was plugged and abandoned and exc...</td>\n",
       "      <td>Unknown</td>\n",
       "      <td>Unknown</td>\n",
       "      <td>-104.754486</td>\n",
       "      <td>40.484583</td>\n",
       "      <td>CL</td>\n",
       "      <td>Unknown</td>\n",
       "      <td>POINT (520822.624 4481586.136)</td>\n",
       "    </tr>\n",
       "  </tbody>\n",
       "</table>\n",
       "</div>"
      ],
      "text/plain": [
       "    trkg_num     Operator Name facility_type  \\\n",
       "5  401576719  NOBLE ENERGY INC  TANK BATTERY   \n",
       "6  401585074  NOBLE ENERGY INC  TANK BATTERY   \n",
       "\n",
       "                                          Spill_Desc Spill Type  \\\n",
       "5  During decommisioning of facilitiy soil impact...          1   \n",
       "6  During reclamation activities historical impac...          1   \n",
       "\n",
       "                                          Root Cause  \\\n",
       "5  Historical impacts were discovered during dism...   \n",
       "6  During reclamation of the oil and gas facility...   \n",
       "\n",
       "                                Preventative Measure Root Cause Type  \\\n",
       "5  The site was dismantled and reclamation has oc...         Unknown   \n",
       "6  The location was plugged and abandoned and exc...         Unknown   \n",
       "\n",
       "  Detailed Root Cause Type        Long        Lat facility_status Metallic?  \\\n",
       "5                  Unknown -104.602541  40.319666              CL   Unknown   \n",
       "6                  Unknown -104.754486  40.484583              CL   Unknown   \n",
       "\n",
       "                         geometry  \n",
       "5  POINT (533748.677 4463317.692)  \n",
       "6  POINT (520822.624 4481586.136)  "
      ]
     },
     "execution_count": 19,
     "metadata": {},
     "output_type": "execute_result"
    }
   ],
   "source": [
    "matched_spills_gdf.head()"
   ]
  },
  {
   "cell_type": "code",
   "execution_count": 20,
   "metadata": {},
   "outputs": [
    {
     "name": "stderr",
     "output_type": "stream",
     "text": [
      "/Users/ichittumuri/Desktop/MINES/COGCC-Risk-Analysis/.venv/lib/python3.9/site-packages/IPython/core/interactiveshell.py:3490: FutureWarning: The `op` parameter is deprecated and will be removed in a future release. Please use the `predicate` parameter instead.\n",
      "  if await self.run_code(code, result, async_=asy):\n"
     ]
    },
    {
     "ename": "ValueError",
     "evalue": "'index_left' and 'index_right' cannot be names in the frames being joined",
     "output_type": "error",
     "traceback": [
      "\u001b[0;31m---------------------------------------------------------------------------\u001b[0m",
      "\u001b[0;31mValueError\u001b[0m                                Traceback (most recent call last)",
      "Cell \u001b[0;32mIn[20], line 1\u001b[0m\n\u001b[0;32m----> 1\u001b[0m all_flowlines \u001b[38;5;241m=\u001b[39m \u001b[43mgpd\u001b[49m\u001b[38;5;241;43m.\u001b[39;49m\u001b[43msjoin\u001b[49m\u001b[43m(\u001b[49m\u001b[43mmatched_spills_gdf\u001b[49m\u001b[43m,\u001b[49m\u001b[43m \u001b[49m\u001b[43mall_flowlines_gdf\u001b[49m\u001b[43m,\u001b[49m\u001b[43m \u001b[49m\u001b[43mhow\u001b[49m\u001b[38;5;241;43m=\u001b[39;49m\u001b[38;5;124;43m'\u001b[39;49m\u001b[38;5;124;43mright\u001b[39;49m\u001b[38;5;124;43m'\u001b[39;49m\u001b[43m,\u001b[49m\u001b[43m \u001b[49m\u001b[43mop\u001b[49m\u001b[38;5;241;43m=\u001b[39;49m\u001b[38;5;124;43m'\u001b[39;49m\u001b[38;5;124;43mintersects\u001b[39;49m\u001b[38;5;124;43m'\u001b[39;49m\u001b[43m)\u001b[49m\n\u001b[1;32m      2\u001b[0m all_flowlines\u001b[38;5;241m.\u001b[39mhead()\n",
      "File \u001b[0;32m~/Desktop/MINES/COGCC-Risk-Analysis/.venv/lib/python3.9/site-packages/geopandas/tools/sjoin.py:119\u001b[0m, in \u001b[0;36msjoin\u001b[0;34m(left_df, right_df, how, predicate, lsuffix, rsuffix, **kwargs)\u001b[0m\n\u001b[1;32m    116\u001b[0m     first \u001b[38;5;241m=\u001b[39m \u001b[38;5;28mnext\u001b[39m(\u001b[38;5;28miter\u001b[39m(kwargs\u001b[38;5;241m.\u001b[39mkeys()))\n\u001b[1;32m    117\u001b[0m     \u001b[38;5;28;01mraise\u001b[39;00m \u001b[38;5;167;01mTypeError\u001b[39;00m(\u001b[38;5;124mf\u001b[39m\u001b[38;5;124m\"\u001b[39m\u001b[38;5;124msjoin() got an unexpected keyword argument \u001b[39m\u001b[38;5;124m'\u001b[39m\u001b[38;5;132;01m{\u001b[39;00mfirst\u001b[38;5;132;01m}\u001b[39;00m\u001b[38;5;124m'\u001b[39m\u001b[38;5;124m\"\u001b[39m)\n\u001b[0;32m--> 119\u001b[0m \u001b[43m_basic_checks\u001b[49m\u001b[43m(\u001b[49m\u001b[43mleft_df\u001b[49m\u001b[43m,\u001b[49m\u001b[43m \u001b[49m\u001b[43mright_df\u001b[49m\u001b[43m,\u001b[49m\u001b[43m \u001b[49m\u001b[43mhow\u001b[49m\u001b[43m,\u001b[49m\u001b[43m \u001b[49m\u001b[43mlsuffix\u001b[49m\u001b[43m,\u001b[49m\u001b[43m \u001b[49m\u001b[43mrsuffix\u001b[49m\u001b[43m)\u001b[49m\n\u001b[1;32m    121\u001b[0m indices \u001b[38;5;241m=\u001b[39m _geom_predicate_query(left_df, right_df, predicate)\n\u001b[1;32m    123\u001b[0m joined \u001b[38;5;241m=\u001b[39m _frame_join(indices, left_df, right_df, how, lsuffix, rsuffix)\n",
      "File \u001b[0;32m~/Desktop/MINES/COGCC-Risk-Analysis/.venv/lib/python3.9/site-packages/geopandas/tools/sjoin.py:172\u001b[0m, in \u001b[0;36m_basic_checks\u001b[0;34m(left_df, right_df, how, lsuffix, rsuffix)\u001b[0m\n\u001b[1;32m    168\u001b[0m \u001b[38;5;66;03m# due to GH 352\u001b[39;00m\n\u001b[1;32m    169\u001b[0m \u001b[38;5;28;01mif\u001b[39;00m \u001b[38;5;28many\u001b[39m(left_df\u001b[38;5;241m.\u001b[39mcolumns\u001b[38;5;241m.\u001b[39misin([index_left, index_right])) \u001b[38;5;129;01mor\u001b[39;00m \u001b[38;5;28many\u001b[39m(\n\u001b[1;32m    170\u001b[0m     right_df\u001b[38;5;241m.\u001b[39mcolumns\u001b[38;5;241m.\u001b[39misin([index_left, index_right])\n\u001b[1;32m    171\u001b[0m ):\n\u001b[0;32m--> 172\u001b[0m     \u001b[38;5;28;01mraise\u001b[39;00m \u001b[38;5;167;01mValueError\u001b[39;00m(\n\u001b[1;32m    173\u001b[0m         \u001b[38;5;124m\"\u001b[39m\u001b[38;5;124m'\u001b[39m\u001b[38;5;132;01m{0}\u001b[39;00m\u001b[38;5;124m'\u001b[39m\u001b[38;5;124m and \u001b[39m\u001b[38;5;124m'\u001b[39m\u001b[38;5;132;01m{1}\u001b[39;00m\u001b[38;5;124m'\u001b[39m\u001b[38;5;124m cannot be names in the frames being\u001b[39m\u001b[38;5;124m\"\u001b[39m\n\u001b[1;32m    174\u001b[0m         \u001b[38;5;124m\"\u001b[39m\u001b[38;5;124m joined\u001b[39m\u001b[38;5;124m\"\u001b[39m\u001b[38;5;241m.\u001b[39mformat(index_left, index_right)\n\u001b[1;32m    175\u001b[0m     )\n",
      "\u001b[0;31mValueError\u001b[0m: 'index_left' and 'index_right' cannot be names in the frames being joined"
     ]
    }
   ],
   "source": [
    "entire_dataset = gpd.sjoin(matched_spills_gdf, all_flowlines_gdf, how='right', op='intersects')\n",
    "entire_dataset.head()"
   ]
  },
  {
   "cell_type": "code",
   "execution_count": null,
   "metadata": {},
   "outputs": [],
   "source": []
  },
  {
   "cell_type": "code",
   "execution_count": null,
   "metadata": {},
   "outputs": [],
   "source": []
  },
  {
   "cell_type": "code",
   "execution_count": null,
   "metadata": {},
   "outputs": [],
   "source": []
  },
  {
   "cell_type": "code",
   "execution_count": null,
   "metadata": {},
   "outputs": [],
   "source": []
  },
  {
   "cell_type": "code",
   "execution_count": null,
   "metadata": {},
   "outputs": [],
   "source": []
  },
  {
   "cell_type": "code",
   "execution_count": null,
   "metadata": {},
   "outputs": [],
   "source": []
  },
  {
   "cell_type": "code",
   "execution_count": null,
   "metadata": {},
   "outputs": [],
   "source": []
  },
  {
   "cell_type": "code",
   "execution_count": 15,
   "metadata": {},
   "outputs": [
    {
     "name": "stdout",
     "output_type": "stream",
     "text": [
      "No operator match found for spill at index 0 even after expanding buffer to 50 meters.\n",
      "No operator match found for spill at index 1 even after expanding buffer to 50 meters.\n",
      "No operator match found for spill at index 2 even after expanding buffer to 50 meters.\n",
      "No operator match found for spill at index 3 even after expanding buffer to 50 meters.\n",
      "No operator match found for spill at index 4 even after expanding buffer to 50 meters.\n",
      "Operator match found at buffer distance 20 meters for spill at index 5.\n",
      "Operator match found at buffer distance 20 meters for spill at index 6.\n"
     ]
    }
   ],
   "source": [
    "# Initialize an empty list to store matched data\n",
    "matched_spills = []\n",
    "\n",
    "max_buffer_distance = 49.5  # Maximum buffer distance in meters\n",
    "initial_buffer_distance = 0  # Initial buffer distance\n",
    "matches_found = 0  # Counter for matches found\n",
    "\n",
    "for index, spill in spills_gdf.iterrows():\n",
    "    # Check if two matches are already found\n",
    "    if matches_found == 2:\n",
    "        break\n",
    "    \n",
    "    # Check for missing geometry and skip if necessary\n",
    "    if spill.geometry is None:\n",
    "        print(f\"Missing geometry for spill at index {index}. Skipping...\")\n",
    "        continue\n",
    "\n",
    "    buffer_distance = initial_buffer_distance\n",
    "    match_found = False\n",
    "\n",
    "    while not match_found and buffer_distance <= max_buffer_distance:\n",
    "        # Buffer the spill geometry\n",
    "        buffered_spill = spill.geometry.buffer(buffer_distance)\n",
    "        \n",
    "        # Iterate over the segments of the all_flowlines_gdf\n",
    "        for _, flowline in all_flowlines_gdf.iterrows():\n",
    "            # Check if the buffer intersects with the flowline geometry\n",
    "            if buffered_spill.intersects(flowline.geometry):\n",
    "                # Find the intersection point\n",
    "                intersection_point = buffered_spill.intersection(flowline.geometry)\n",
    "                \n",
    "                # Check if the operator names match\n",
    "                if spill['Operator Name'].strip().lower() == flowline['Operator'].strip().lower():\n",
    "                    print(f\"Operator match found at buffer distance {buffer_distance} meters for spill at index {index}.\")\n",
    "                    match_found = True\n",
    "                    matches_found += 1  # Increment the counter for matches found\n",
    "\n",
    "                    # Create a new GeoDataFrame with the updated spill\n",
    "                    updated_spill = spill.copy()\n",
    "                    updated_spill.geometry = intersection_point\n",
    "\n",
    "                    # Append the updated spill to the list\n",
    "                    matched_spills.append(updated_spill)\n",
    "                    break\n",
    "\n",
    "        if match_found:\n",
    "            break\n",
    "        else:\n",
    "            buffer_distance += 10  # Increase buffer by 0.5 meters if no match found\n",
    "\n",
    "    if not match_found:\n",
    "        print(f\"No operator match found for spill at index {index} even after expanding buffer to {buffer_distance} meters.\")\n",
    "\n",
    "# Convert the list of matched spills to a GeoDataFrame\n",
    "matched_spills_gdf = gpd.GeoDataFrame(matched_spills, columns=spills_gdf.columns, crs=spills_gdf.crs)"
   ]
  },
  {
   "cell_type": "code",
   "execution_count": 16,
   "metadata": {},
   "outputs": [
    {
     "data": {
      "text/html": [
       "<div>\n",
       "<style scoped>\n",
       "    .dataframe tbody tr th:only-of-type {\n",
       "        vertical-align: middle;\n",
       "    }\n",
       "\n",
       "    .dataframe tbody tr th {\n",
       "        vertical-align: top;\n",
       "    }\n",
       "\n",
       "    .dataframe thead th {\n",
       "        text-align: right;\n",
       "    }\n",
       "</style>\n",
       "<table border=\"1\" class=\"dataframe\">\n",
       "  <thead>\n",
       "    <tr style=\"text-align: right;\">\n",
       "      <th></th>\n",
       "      <th>trkg_num</th>\n",
       "      <th>Operator Name</th>\n",
       "      <th>facility_type</th>\n",
       "      <th>Spill_Desc</th>\n",
       "      <th>Spill Type</th>\n",
       "      <th>Root Cause</th>\n",
       "      <th>Preventative Measure</th>\n",
       "      <th>Root Cause Type</th>\n",
       "      <th>Detailed Root Cause Type</th>\n",
       "      <th>Long</th>\n",
       "      <th>Lat</th>\n",
       "      <th>facility_status</th>\n",
       "      <th>Metallic?</th>\n",
       "      <th>geometry</th>\n",
       "    </tr>\n",
       "  </thead>\n",
       "  <tbody>\n",
       "    <tr>\n",
       "      <th>5</th>\n",
       "      <td>401576719</td>\n",
       "      <td>NOBLE ENERGY INC</td>\n",
       "      <td>TANK BATTERY</td>\n",
       "      <td>During decommisioning of facilitiy soil impact...</td>\n",
       "      <td>1</td>\n",
       "      <td>Historical impacts were discovered during dism...</td>\n",
       "      <td>The site was dismantled and reclamation has oc...</td>\n",
       "      <td>Unknown</td>\n",
       "      <td>Unknown</td>\n",
       "      <td>-104.602541</td>\n",
       "      <td>40.319666</td>\n",
       "      <td>CL</td>\n",
       "      <td>Unknown</td>\n",
       "      <td>LINESTRING (533748.677 4463317.692, 533756.613...</td>\n",
       "    </tr>\n",
       "    <tr>\n",
       "      <th>6</th>\n",
       "      <td>401585074</td>\n",
       "      <td>NOBLE ENERGY INC</td>\n",
       "      <td>TANK BATTERY</td>\n",
       "      <td>During reclamation activities historical impac...</td>\n",
       "      <td>1</td>\n",
       "      <td>During reclamation of the oil and gas facility...</td>\n",
       "      <td>The location was plugged and abandoned and exc...</td>\n",
       "      <td>Unknown</td>\n",
       "      <td>Unknown</td>\n",
       "      <td>-104.754486</td>\n",
       "      <td>40.484583</td>\n",
       "      <td>CL</td>\n",
       "      <td>Unknown</td>\n",
       "      <td>LINESTRING (520822.624 4481586.136, 520825.511...</td>\n",
       "    </tr>\n",
       "  </tbody>\n",
       "</table>\n",
       "</div>"
      ],
      "text/plain": [
       "    trkg_num     Operator Name facility_type  \\\n",
       "5  401576719  NOBLE ENERGY INC  TANK BATTERY   \n",
       "6  401585074  NOBLE ENERGY INC  TANK BATTERY   \n",
       "\n",
       "                                          Spill_Desc Spill Type  \\\n",
       "5  During decommisioning of facilitiy soil impact...          1   \n",
       "6  During reclamation activities historical impac...          1   \n",
       "\n",
       "                                          Root Cause  \\\n",
       "5  Historical impacts were discovered during dism...   \n",
       "6  During reclamation of the oil and gas facility...   \n",
       "\n",
       "                                Preventative Measure Root Cause Type  \\\n",
       "5  The site was dismantled and reclamation has oc...         Unknown   \n",
       "6  The location was plugged and abandoned and exc...         Unknown   \n",
       "\n",
       "  Detailed Root Cause Type        Long        Lat facility_status Metallic?  \\\n",
       "5                  Unknown -104.602541  40.319666              CL   Unknown   \n",
       "6                  Unknown -104.754486  40.484583              CL   Unknown   \n",
       "\n",
       "                                            geometry  \n",
       "5  LINESTRING (533748.677 4463317.692, 533756.613...  \n",
       "6  LINESTRING (520822.624 4481586.136, 520825.511...  "
      ]
     },
     "execution_count": 16,
     "metadata": {},
     "output_type": "execute_result"
    }
   ],
   "source": [
    "matched_spills_gdf.head()"
   ]
  },
  {
   "cell_type": "code",
   "execution_count": null,
   "metadata": {},
   "outputs": [],
   "source": []
  },
  {
   "cell_type": "code",
   "execution_count": null,
   "metadata": {},
   "outputs": [],
   "source": []
  },
  {
   "cell_type": "code",
   "execution_count": null,
   "metadata": {},
   "outputs": [],
   "source": []
  },
  {
   "cell_type": "code",
   "execution_count": null,
   "metadata": {},
   "outputs": [],
   "source": []
  },
  {
   "cell_type": "code",
   "execution_count": null,
   "metadata": {},
   "outputs": [],
   "source": []
  },
  {
   "cell_type": "code",
   "execution_count": null,
   "metadata": {},
   "outputs": [],
   "source": []
  },
  {
   "cell_type": "code",
   "execution_count": null,
   "metadata": {},
   "outputs": [],
   "source": []
  },
  {
   "cell_type": "code",
   "execution_count": null,
   "metadata": {},
   "outputs": [],
   "source": []
  },
  {
   "cell_type": "code",
   "execution_count": null,
   "metadata": {},
   "outputs": [],
   "source": []
  },
  {
   "cell_type": "code",
   "execution_count": null,
   "metadata": {},
   "outputs": [],
   "source": []
  },
  {
   "cell_type": "code",
   "execution_count": null,
   "metadata": {},
   "outputs": [],
   "source": []
  },
  {
   "cell_type": "code",
   "execution_count": null,
   "metadata": {},
   "outputs": [],
   "source": []
  },
  {
   "cell_type": "code",
   "execution_count": null,
   "metadata": {},
   "outputs": [],
   "source": []
  },
  {
   "cell_type": "code",
   "execution_count": 32,
   "metadata": {},
   "outputs": [
    {
     "name": "stdout",
     "output_type": "stream",
     "text": [
      "No match found for spill at index 0 even after expanding buffer to 50.0 meters.\n",
      "No match found for spill at index 1 even after expanding buffer to 50.0 meters.\n",
      "No match found for spill at index 2 even after expanding buffer to 50.0 meters.\n",
      "No match found for spill at index 3 even after expanding buffer to 50.0 meters.\n",
      "No match found for spill at index 4 even after expanding buffer to 50.0 meters.\n",
      "No match found for spill at index 5 even after expanding buffer to 50.0 meters.\n",
      "No match found for spill at index 6 even after expanding buffer to 50.0 meters.\n",
      "No match found for spill at index 7 even after expanding buffer to 50.0 meters.\n",
      "No match found for spill at index 8 even after expanding buffer to 50.0 meters.\n",
      "No match found for spill at index 9 even after expanding buffer to 50.0 meters.\n",
      "No match found for spill at index 10 even after expanding buffer to 50.0 meters.\n",
      "No match found for spill at index 11 even after expanding buffer to 50.0 meters.\n",
      "No match found for spill at index 12 even after expanding buffer to 50.0 meters.\n",
      "No match found for spill at index 13 even after expanding buffer to 50.0 meters.\n"
     ]
    },
    {
     "ename": "KeyboardInterrupt",
     "evalue": "",
     "output_type": "error",
     "traceback": [
      "\u001b[0;31m---------------------------------------------------------------------------\u001b[0m",
      "\u001b[0;31mKeyboardInterrupt\u001b[0m                         Traceback (most recent call last)",
      "Cell \u001b[0;32mIn[32], line 17\u001b[0m\n\u001b[1;32m     14\u001b[0m temp_spill_gdf \u001b[38;5;241m=\u001b[39m gpd\u001b[38;5;241m.\u001b[39mGeoDataFrame([spill], geometry\u001b[38;5;241m=\u001b[39m[buffered_spill], crs\u001b[38;5;241m=\u001b[39mspills_gdf\u001b[38;5;241m.\u001b[39mcrs)\n\u001b[1;32m     16\u001b[0m \u001b[38;5;66;03m# Perform the spatial join\u001b[39;00m\n\u001b[0;32m---> 17\u001b[0m joined_gdf \u001b[38;5;241m=\u001b[39m \u001b[43mgpd\u001b[49m\u001b[38;5;241;43m.\u001b[39;49m\u001b[43msjoin\u001b[49m\u001b[43m(\u001b[49m\u001b[43mtemp_spill_gdf\u001b[49m\u001b[43m,\u001b[49m\u001b[43m \u001b[49m\u001b[43mall_flowlines_gdf\u001b[49m\u001b[43m,\u001b[49m\u001b[43m \u001b[49m\u001b[43mhow\u001b[49m\u001b[38;5;241;43m=\u001b[39;49m\u001b[38;5;124;43m'\u001b[39;49m\u001b[38;5;124;43minner\u001b[39;49m\u001b[38;5;124;43m'\u001b[39;49m\u001b[43m,\u001b[49m\u001b[43m \u001b[49m\u001b[43mpredicate\u001b[49m\u001b[38;5;241;43m=\u001b[39;49m\u001b[38;5;124;43m'\u001b[39;49m\u001b[38;5;124;43mintersects\u001b[39;49m\u001b[38;5;124;43m'\u001b[39;49m\u001b[43m)\u001b[49m\n\u001b[1;32m     19\u001b[0m \u001b[38;5;28;01mif\u001b[39;00m \u001b[38;5;129;01mnot\u001b[39;00m joined_gdf\u001b[38;5;241m.\u001b[39mempty:\n\u001b[1;32m     20\u001b[0m     \u001b[38;5;28;01mfor\u001b[39;00m _, match \u001b[38;5;129;01min\u001b[39;00m joined_gdf\u001b[38;5;241m.\u001b[39miterrows():\n",
      "File \u001b[0;32m~/Desktop/MINES/COGCC-Risk-Analysis/.venv/lib/python3.9/site-packages/geopandas/tools/sjoin.py:123\u001b[0m, in \u001b[0;36msjoin\u001b[0;34m(left_df, right_df, how, predicate, lsuffix, rsuffix, **kwargs)\u001b[0m\n\u001b[1;32m    119\u001b[0m _basic_checks(left_df, right_df, how, lsuffix, rsuffix)\n\u001b[1;32m    121\u001b[0m indices \u001b[38;5;241m=\u001b[39m _geom_predicate_query(left_df, right_df, predicate)\n\u001b[0;32m--> 123\u001b[0m joined \u001b[38;5;241m=\u001b[39m \u001b[43m_frame_join\u001b[49m\u001b[43m(\u001b[49m\u001b[43mindices\u001b[49m\u001b[43m,\u001b[49m\u001b[43m \u001b[49m\u001b[43mleft_df\u001b[49m\u001b[43m,\u001b[49m\u001b[43m \u001b[49m\u001b[43mright_df\u001b[49m\u001b[43m,\u001b[49m\u001b[43m \u001b[49m\u001b[43mhow\u001b[49m\u001b[43m,\u001b[49m\u001b[43m \u001b[49m\u001b[43mlsuffix\u001b[49m\u001b[43m,\u001b[49m\u001b[43m \u001b[49m\u001b[43mrsuffix\u001b[49m\u001b[43m)\u001b[49m\n\u001b[1;32m    125\u001b[0m \u001b[38;5;28;01mreturn\u001b[39;00m joined\n",
      "File \u001b[0;32m~/Desktop/MINES/COGCC-Risk-Analysis/.venv/lib/python3.9/site-packages/geopandas/tools/sjoin.py:289\u001b[0m, in \u001b[0;36m_frame_join\u001b[0;34m(join_df, left_df, right_df, how, lsuffix, rsuffix)\u001b[0m\n\u001b[1;32m    287\u001b[0m     right_index_name \u001b[38;5;241m=\u001b[39m right_df\u001b[38;5;241m.\u001b[39mindex\u001b[38;5;241m.\u001b[39mnames\n\u001b[1;32m    288\u001b[0m     right_df\u001b[38;5;241m.\u001b[39mindex \u001b[38;5;241m=\u001b[39m right_df\u001b[38;5;241m.\u001b[39mindex\u001b[38;5;241m.\u001b[39mrename(index_right)\n\u001b[0;32m--> 289\u001b[0m right_df \u001b[38;5;241m=\u001b[39m \u001b[43mright_df\u001b[49m\u001b[38;5;241;43m.\u001b[39;49m\u001b[43mreset_index\u001b[49m\u001b[43m(\u001b[49m\u001b[43m)\u001b[49m\n\u001b[1;32m    291\u001b[0m \u001b[38;5;66;03m# perform join on the dataframes\u001b[39;00m\n\u001b[1;32m    292\u001b[0m \u001b[38;5;28;01mif\u001b[39;00m how \u001b[38;5;241m==\u001b[39m \u001b[38;5;124m\"\u001b[39m\u001b[38;5;124minner\u001b[39m\u001b[38;5;124m\"\u001b[39m:\n",
      "File \u001b[0;32m~/Desktop/MINES/COGCC-Risk-Analysis/.venv/lib/python3.9/site-packages/pandas/core/frame.py:6401\u001b[0m, in \u001b[0;36mDataFrame.reset_index\u001b[0;34m(self, level, drop, inplace, col_level, col_fill, allow_duplicates, names)\u001b[0m\n\u001b[1;32m   6399\u001b[0m     new_obj \u001b[38;5;241m=\u001b[39m \u001b[38;5;28mself\u001b[39m\n\u001b[1;32m   6400\u001b[0m \u001b[38;5;28;01melse\u001b[39;00m:\n\u001b[0;32m-> 6401\u001b[0m     new_obj \u001b[38;5;241m=\u001b[39m \u001b[38;5;28;43mself\u001b[39;49m\u001b[38;5;241;43m.\u001b[39;49m\u001b[43mcopy\u001b[49m\u001b[43m(\u001b[49m\u001b[43mdeep\u001b[49m\u001b[38;5;241;43m=\u001b[39;49m\u001b[38;5;28;43;01mNone\u001b[39;49;00m\u001b[43m)\u001b[49m\n\u001b[1;32m   6402\u001b[0m \u001b[38;5;28;01mif\u001b[39;00m allow_duplicates \u001b[38;5;129;01mis\u001b[39;00m \u001b[38;5;129;01mnot\u001b[39;00m lib\u001b[38;5;241m.\u001b[39mno_default:\n\u001b[1;32m   6403\u001b[0m     allow_duplicates \u001b[38;5;241m=\u001b[39m validate_bool_kwarg(allow_duplicates, \u001b[38;5;124m\"\u001b[39m\u001b[38;5;124mallow_duplicates\u001b[39m\u001b[38;5;124m\"\u001b[39m)\n",
      "File \u001b[0;32m~/Desktop/MINES/COGCC-Risk-Analysis/.venv/lib/python3.9/site-packages/geopandas/geodataframe.py:1532\u001b[0m, in \u001b[0;36mGeoDataFrame.copy\u001b[0;34m(self, deep)\u001b[0m\n\u001b[1;32m   1530\u001b[0m \u001b[38;5;129m@doc\u001b[39m(pd\u001b[38;5;241m.\u001b[39mDataFrame)\n\u001b[1;32m   1531\u001b[0m \u001b[38;5;28;01mdef\u001b[39;00m \u001b[38;5;21mcopy\u001b[39m(\u001b[38;5;28mself\u001b[39m, deep\u001b[38;5;241m=\u001b[39m\u001b[38;5;28;01mTrue\u001b[39;00m):\n\u001b[0;32m-> 1532\u001b[0m     copied \u001b[38;5;241m=\u001b[39m \u001b[38;5;28;43msuper\u001b[39;49m\u001b[43m(\u001b[49m\u001b[43m)\u001b[49m\u001b[38;5;241;43m.\u001b[39;49m\u001b[43mcopy\u001b[49m\u001b[43m(\u001b[49m\u001b[43mdeep\u001b[49m\u001b[38;5;241;43m=\u001b[39;49m\u001b[43mdeep\u001b[49m\u001b[43m)\u001b[49m\n\u001b[1;32m   1533\u001b[0m     \u001b[38;5;28;01mif\u001b[39;00m \u001b[38;5;28mtype\u001b[39m(copied) \u001b[38;5;129;01mis\u001b[39;00m pd\u001b[38;5;241m.\u001b[39mDataFrame:\n\u001b[1;32m   1534\u001b[0m         copied\u001b[38;5;241m.\u001b[39m\u001b[38;5;18m__class__\u001b[39m \u001b[38;5;241m=\u001b[39m GeoDataFrame\n",
      "File \u001b[0;32m~/Desktop/MINES/COGCC-Risk-Analysis/.venv/lib/python3.9/site-packages/pandas/core/generic.py:6805\u001b[0m, in \u001b[0;36mNDFrame.copy\u001b[0;34m(self, deep)\u001b[0m\n\u001b[1;32m   6656\u001b[0m \u001b[38;5;129m@final\u001b[39m\n\u001b[1;32m   6657\u001b[0m \u001b[38;5;28;01mdef\u001b[39;00m \u001b[38;5;21mcopy\u001b[39m(\u001b[38;5;28mself\u001b[39m, deep: bool_t \u001b[38;5;241m|\u001b[39m \u001b[38;5;28;01mNone\u001b[39;00m \u001b[38;5;241m=\u001b[39m \u001b[38;5;28;01mTrue\u001b[39;00m) \u001b[38;5;241m-\u001b[39m\u001b[38;5;241m>\u001b[39m Self:\n\u001b[1;32m   6658\u001b[0m \u001b[38;5;250m    \u001b[39m\u001b[38;5;124;03m\"\"\"\u001b[39;00m\n\u001b[1;32m   6659\u001b[0m \u001b[38;5;124;03m    Make a copy of this object's indices and data.\u001b[39;00m\n\u001b[1;32m   6660\u001b[0m \n\u001b[0;32m   (...)\u001b[0m\n\u001b[1;32m   6803\u001b[0m \u001b[38;5;124;03m    dtype: int64\u001b[39;00m\n\u001b[1;32m   6804\u001b[0m \u001b[38;5;124;03m    \"\"\"\u001b[39;00m\n\u001b[0;32m-> 6805\u001b[0m     data \u001b[38;5;241m=\u001b[39m \u001b[38;5;28;43mself\u001b[39;49m\u001b[38;5;241;43m.\u001b[39;49m\u001b[43m_mgr\u001b[49m\u001b[38;5;241;43m.\u001b[39;49m\u001b[43mcopy\u001b[49m\u001b[43m(\u001b[49m\u001b[43mdeep\u001b[49m\u001b[38;5;241;43m=\u001b[39;49m\u001b[43mdeep\u001b[49m\u001b[43m)\u001b[49m\n\u001b[1;32m   6806\u001b[0m     \u001b[38;5;28mself\u001b[39m\u001b[38;5;241m.\u001b[39m_clear_item_cache()\n\u001b[1;32m   6807\u001b[0m     \u001b[38;5;28;01mreturn\u001b[39;00m \u001b[38;5;28mself\u001b[39m\u001b[38;5;241m.\u001b[39m_constructor_from_mgr(data, axes\u001b[38;5;241m=\u001b[39mdata\u001b[38;5;241m.\u001b[39maxes)\u001b[38;5;241m.\u001b[39m__finalize__(\n\u001b[1;32m   6808\u001b[0m         \u001b[38;5;28mself\u001b[39m, method\u001b[38;5;241m=\u001b[39m\u001b[38;5;124m\"\u001b[39m\u001b[38;5;124mcopy\u001b[39m\u001b[38;5;124m\"\u001b[39m\n\u001b[1;32m   6809\u001b[0m     )\n",
      "File \u001b[0;32m~/Desktop/MINES/COGCC-Risk-Analysis/.venv/lib/python3.9/site-packages/pandas/core/internals/managers.py:594\u001b[0m, in \u001b[0;36mBaseBlockManager.copy\u001b[0;34m(self, deep)\u001b[0m\n\u001b[1;32m    591\u001b[0m     \u001b[38;5;28;01melse\u001b[39;00m:\n\u001b[1;32m    592\u001b[0m         new_axes \u001b[38;5;241m=\u001b[39m \u001b[38;5;28mlist\u001b[39m(\u001b[38;5;28mself\u001b[39m\u001b[38;5;241m.\u001b[39maxes)\n\u001b[0;32m--> 594\u001b[0m res \u001b[38;5;241m=\u001b[39m \u001b[38;5;28;43mself\u001b[39;49m\u001b[38;5;241;43m.\u001b[39;49m\u001b[43mapply\u001b[49m\u001b[43m(\u001b[49m\u001b[38;5;124;43m\"\u001b[39;49m\u001b[38;5;124;43mcopy\u001b[39;49m\u001b[38;5;124;43m\"\u001b[39;49m\u001b[43m,\u001b[49m\u001b[43m \u001b[49m\u001b[43mdeep\u001b[49m\u001b[38;5;241;43m=\u001b[39;49m\u001b[43mdeep\u001b[49m\u001b[43m)\u001b[49m\n\u001b[1;32m    595\u001b[0m res\u001b[38;5;241m.\u001b[39maxes \u001b[38;5;241m=\u001b[39m new_axes\n\u001b[1;32m    597\u001b[0m \u001b[38;5;28;01mif\u001b[39;00m \u001b[38;5;28mself\u001b[39m\u001b[38;5;241m.\u001b[39mndim \u001b[38;5;241m>\u001b[39m \u001b[38;5;241m1\u001b[39m:\n\u001b[1;32m    598\u001b[0m     \u001b[38;5;66;03m# Avoid needing to re-compute these\u001b[39;00m\n",
      "File \u001b[0;32m~/Desktop/MINES/COGCC-Risk-Analysis/.venv/lib/python3.9/site-packages/pandas/core/internals/managers.py:364\u001b[0m, in \u001b[0;36mBaseBlockManager.apply\u001b[0;34m(self, f, align_keys, **kwargs)\u001b[0m\n\u001b[1;32m    362\u001b[0m         applied \u001b[38;5;241m=\u001b[39m b\u001b[38;5;241m.\u001b[39mapply(f, \u001b[38;5;241m*\u001b[39m\u001b[38;5;241m*\u001b[39mkwargs)\n\u001b[1;32m    363\u001b[0m     \u001b[38;5;28;01melse\u001b[39;00m:\n\u001b[0;32m--> 364\u001b[0m         applied \u001b[38;5;241m=\u001b[39m \u001b[38;5;28;43mgetattr\u001b[39;49m\u001b[43m(\u001b[49m\u001b[43mb\u001b[49m\u001b[43m,\u001b[49m\u001b[43m \u001b[49m\u001b[43mf\u001b[49m\u001b[43m)\u001b[49m\u001b[43m(\u001b[49m\u001b[38;5;241;43m*\u001b[39;49m\u001b[38;5;241;43m*\u001b[39;49m\u001b[43mkwargs\u001b[49m\u001b[43m)\u001b[49m\n\u001b[1;32m    365\u001b[0m     result_blocks \u001b[38;5;241m=\u001b[39m extend_blocks(applied, result_blocks)\n\u001b[1;32m    367\u001b[0m out \u001b[38;5;241m=\u001b[39m \u001b[38;5;28mtype\u001b[39m(\u001b[38;5;28mself\u001b[39m)\u001b[38;5;241m.\u001b[39mfrom_blocks(result_blocks, \u001b[38;5;28mself\u001b[39m\u001b[38;5;241m.\u001b[39maxes)\n",
      "File \u001b[0;32m~/Desktop/MINES/COGCC-Risk-Analysis/.venv/lib/python3.9/site-packages/pandas/core/internals/blocks.py:796\u001b[0m, in \u001b[0;36mBlock.copy\u001b[0;34m(self, deep)\u001b[0m\n\u001b[1;32m    794\u001b[0m refs: BlockValuesRefs \u001b[38;5;241m|\u001b[39m \u001b[38;5;28;01mNone\u001b[39;00m\n\u001b[1;32m    795\u001b[0m \u001b[38;5;28;01mif\u001b[39;00m deep:\n\u001b[0;32m--> 796\u001b[0m     values \u001b[38;5;241m=\u001b[39m \u001b[43mvalues\u001b[49m\u001b[38;5;241;43m.\u001b[39;49m\u001b[43mcopy\u001b[49m\u001b[43m(\u001b[49m\u001b[43m)\u001b[49m\n\u001b[1;32m    797\u001b[0m     refs \u001b[38;5;241m=\u001b[39m \u001b[38;5;28;01mNone\u001b[39;00m\n\u001b[1;32m    798\u001b[0m \u001b[38;5;28;01melse\u001b[39;00m:\n",
      "\u001b[0;31mKeyboardInterrupt\u001b[0m: "
     ]
    }
   ],
   "source": [
    "# Initialize an empty GeoDataFrame to store the updated spills\n",
    "matched_spills_gdf = gpd.GeoDataFrame(columns=spills_gdf.columns, crs=spills_gdf.crs)\n",
    "\n",
    "max_buffer_distance = 49.5  # Maximum buffer distance in meters\n",
    "initial_buffer_distance = 0  # Initial buffer distance\n",
    "\n",
    "for index, spill in spills_gdf.iterrows():\n",
    "    buffer_distance = initial_buffer_distance\n",
    "    match_found = False\n",
    "    \n",
    "    while not match_found and buffer_distance <= max_buffer_distance:\n",
    "        # Buffer the spill geometry\n",
    "        buffered_spill = spill.geometry.buffer(buffer_distance)\n",
    "        temp_spill_gdf = gpd.GeoDataFrame([spill], geometry=[buffered_spill], crs=spills_gdf.crs)\n",
    "        \n",
    "        # Perform the spatial join\n",
    "        joined_gdf = gpd.sjoin(temp_spill_gdf, all_flowlines_gdf, how='inner', predicate='intersects')\n",
    "\n",
    "        if not joined_gdf.empty:\n",
    "            for _, match in joined_gdf.iterrows():\n",
    "                if match['Operator Name'].strip().lower() == match['Operator'].strip().lower():\n",
    "                    print(f\"Operator match found at buffer distance {buffer_distance} meters for spill at index {index}.\")\n",
    "                    match_found = True\n",
    "                    \n",
    "                    # Find the nearest point on the flowline to the original spill location\n",
    "                    nearest_geom = nearest_points(spill.geometry, match.geometry)[1]\n",
    "                    \n",
    "                    # Update the spill's geometry to this nearest point\n",
    "                    updated_spill = spill.copy()\n",
    "                    updated_spill.geometry = nearest_geom\n",
    "                    \n",
    "                    # Append the updated spill to the matched_spills_gdf\n",
    "                    # matched_spills_gdf = matched_spills_gdf.append(updated_spill, ignore_index=True)\n",
    "                    matched_spills_gdf = pd.concat([matched_spills_gdf, gpd.GeoDataFrame([updated_spill], crs=spills_gdf.crs)], ignore_index=True)\n",
    "\n",
    "                    \n",
    "                    break\n",
    "            \n",
    "            if match_found:\n",
    "                break\n",
    "        \n",
    "        if not match_found:\n",
    "            buffer_distance += .5\n",
    "\n",
    "    if not match_found:\n",
    "        print(f\"No match found for spill at index {index} even after expanding buffer to {buffer_distance} meters.\")"
   ]
  },
  {
   "cell_type": "code",
   "execution_count": null,
   "metadata": {},
   "outputs": [],
   "source": [
    "matched_spills_gdf.head()"
   ]
  },
  {
   "cell_type": "code",
   "execution_count": 12,
   "metadata": {},
   "outputs": [],
   "source": [
    "matched_spills_gdf.to_file(\"matched_spills.geojson\", driver='GeoJSON')"
   ]
  },
  {
   "cell_type": "code",
   "execution_count": 13,
   "metadata": {},
   "outputs": [
    {
     "data": {
      "text/plain": [
       "(417, 14)"
      ]
     },
     "execution_count": 13,
     "metadata": {},
     "output_type": "execute_result"
    }
   ],
   "source": [
    "matched_spills_gdf.shape"
   ]
  },
  {
   "cell_type": "code",
   "execution_count": 3,
   "metadata": {},
   "outputs": [],
   "source": [
    "all_flowlines_gdf = gpd.read_file('all_flowlines.geojson')\n",
    "matched_spills_gdf = gpd.read_file('matched_spills.geojson')"
   ]
  },
  {
   "cell_type": "code",
   "execution_count": 4,
   "metadata": {},
   "outputs": [
    {
     "name": "stderr",
     "output_type": "stream",
     "text": [
      "/Users/ichittumuri/Desktop/MINES/COGCC-Risk-Analysis/.venv/lib/python3.9/site-packages/IPython/core/interactiveshell.py:3490: FutureWarning: The `op` parameter is deprecated and will be removed in a future release. Please use the `predicate` parameter instead.\n",
      "  if await self.run_code(code, result, async_=asy):\n"
     ]
    },
    {
     "data": {
      "text/plain": [
       "(0, 40)"
      ]
     },
     "execution_count": 4,
     "metadata": {},
     "output_type": "execute_result"
    }
   ],
   "source": [
    "# Load Data\n",
    "# Spatial join to find intersecting geometries\n",
    "# Add attributes from flowlines to matching entries in crude_oil_gdf\n",
    "complete_data = gpd.sjoin(all_flowlines_gdf, matched_spills_gdf, how=\"inner\", op='intersects')\n",
    "complete_data.shape"
   ]
  },
  {
   "cell_type": "code",
   "execution_count": 5,
   "metadata": {},
   "outputs": [
    {
     "name": "stdout",
     "output_type": "stream",
     "text": [
      "No intersections found. Check geometry updates and CRS settings.\n"
     ]
    }
   ],
   "source": [
    "# Step 1: Ensure CRS match\n",
    "if all_flowlines_gdf.crs != matched_spills_gdf.crs:\n",
    "    matched_spills_gdf = matched_spills_gdf.to_crs(all_flowlines_gdf.crs)\n",
    "\n",
    "# Optional: Visual inspection or logging to confirm updates\n",
    "# print(matched_spills_gdf.head())\n",
    "\n",
    "# Step 2: Perform the spatial join again with the corrected GeoDataFrames\n",
    "complete_data = gpd.sjoin(all_flowlines_gdf, matched_spills_gdf, how=\"inner\", predicate='intersects')\n",
    "\n",
    "# Check the result\n",
    "if complete_data.empty:\n",
    "    print(\"No intersections found. Check geometry updates and CRS settings.\")\n",
    "else:\n",
    "    print(complete_data.shape)\n"
   ]
  }
 ],
 "metadata": {
  "kernelspec": {
   "display_name": ".venv",
   "language": "python",
   "name": "python3"
  },
  "language_info": {
   "codemirror_mode": {
    "name": "ipython",
    "version": 3
   },
   "file_extension": ".py",
   "mimetype": "text/x-python",
   "name": "python",
   "nbconvert_exporter": "python",
   "pygments_lexer": "ipython3",
   "version": "3.9.6"
  }
 },
 "nbformat": 4,
 "nbformat_minor": 2
}
