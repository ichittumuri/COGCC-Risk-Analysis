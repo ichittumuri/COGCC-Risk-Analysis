{
 "cells": [
  {
   "cell_type": "markdown",
   "metadata": {},
   "source": [
    "This code combines the two different flowline datasets into one. One only had end points of an flowline and the other had the entire flowline. We combined them using a spatial join and asserted that the operator name is the same, with a max 50 meter buffer. "
   ]
  },
  {
   "cell_type": "markdown",
   "metadata": {},
   "source": [
    "## Setup\n"
   ]
  },
  {
   "cell_type": "code",
   "execution_count": 1,
   "metadata": {},
   "outputs": [
    {
     "name": "stderr",
     "output_type": "stream",
     "text": [
      "/var/folders/p3/gs65vvgs1wd90mnxb3q3hvy80000gp/T/ipykernel_1148/3583532370.py:2: DeprecationWarning: \n",
      "Pyarrow will become a required dependency of pandas in the next major release of pandas (pandas 3.0),\n",
      "(to allow more performant data types, such as the Arrow string type, and better interoperability with other libraries)\n",
      "but was not found to be installed on your system.\n",
      "If this would cause problems for you,\n",
      "please provide us feedback at https://github.com/pandas-dev/pandas/issues/54466\n",
      "        \n",
      "  import pandas as pd\n"
     ]
    }
   ],
   "source": [
    "import os\n",
    "import pandas as pd\n",
    "import geopandas as gpd\n",
    "from shapely.geometry import Point, Polygon, MultiLineString, LineString,MultiPolygon, MultiPoint\n",
    "from shapely.ops import nearest_points\n",
    "os.chdir('/Users/ichittumuri/Desktop/MINES/COGCC-Risk-Analysis/Data')\n",
    "pd.options.display.max_columns = None"
   ]
  },
  {
   "cell_type": "code",
   "execution_count": 4,
   "metadata": {},
   "outputs": [],
   "source": [
    "# Load Data\n",
    "flowlines_gdf = gpd.read_file('flowlines.geojson')\n",
    "crudeoil_offlocation_gdf = gpd.read_file('crudeoil_offlocation.geojson')"
   ]
  },
  {
   "cell_type": "code",
   "execution_count": 5,
   "metadata": {},
   "outputs": [
    {
     "name": "stdout",
     "output_type": "stream",
     "text": [
      "(21942, 19)\n",
      "(259979, 8)\n"
     ]
    }
   ],
   "source": [
    "# Check size\n",
    "print(flowlines_gdf.shape)\n",
    "print(crudeoil_offlocation_gdf.shape)"
   ]
  },
  {
   "cell_type": "code",
   "execution_count": 6,
   "metadata": {},
   "outputs": [
    {
     "data": {
      "text/html": [
       "<div>\n",
       "<style scoped>\n",
       "    .dataframe tbody tr th:only-of-type {\n",
       "        vertical-align: middle;\n",
       "    }\n",
       "\n",
       "    .dataframe tbody tr th {\n",
       "        vertical-align: top;\n",
       "    }\n",
       "\n",
       "    .dataframe thead th {\n",
       "        text-align: right;\n",
       "    }\n",
       "</style>\n",
       "<table border=\"1\" class=\"dataframe\">\n",
       "  <thead>\n",
       "    <tr style=\"text-align: right;\">\n",
       "      <th></th>\n",
       "      <th>LOCATION_ID</th>\n",
       "      <th>FLOWLINEID</th>\n",
       "      <th>STARTLOCATIONID</th>\n",
       "      <th>FLOWLINEACTION</th>\n",
       "      <th>ENTIRELINEREMOVED</th>\n",
       "      <th>ACTIONDESCRIPTION</th>\n",
       "      <th>RECEIVE_DATE</th>\n",
       "      <th>OPERATOR_NUM</th>\n",
       "      <th>COMPANY_NAME</th>\n",
       "      <th>LOCATIONTYPE</th>\n",
       "      <th>ENDLAT</th>\n",
       "      <th>ENDLONG</th>\n",
       "      <th>STARTLAT</th>\n",
       "      <th>STARTLONG</th>\n",
       "      <th>PIPEMATERIAL</th>\n",
       "      <th>BEDDINGMATERIAL</th>\n",
       "      <th>TYPEOFFLUIDTRANS</th>\n",
       "      <th>MAXOPPRESSURE</th>\n",
       "      <th>geometry</th>\n",
       "    </tr>\n",
       "  </thead>\n",
       "  <tbody>\n",
       "    <tr>\n",
       "      <th>0</th>\n",
       "      <td>331872.0</td>\n",
       "      <td>485633.0</td>\n",
       "      <td>NaN</td>\n",
       "      <td>Registration</td>\n",
       "      <td>None</td>\n",
       "      <td>None</td>\n",
       "      <td>2023-10-30T08:10:52.119999</td>\n",
       "      <td>10673</td>\n",
       "      <td>GADECO LLC                                    ...</td>\n",
       "      <td>Well Site</td>\n",
       "      <td>NaN</td>\n",
       "      <td>NaN</td>\n",
       "      <td>NaN</td>\n",
       "      <td>NaN</td>\n",
       "      <td>HDPE</td>\n",
       "      <td>Native Materials</td>\n",
       "      <td>Produced Water</td>\n",
       "      <td>NaN</td>\n",
       "      <td>None</td>\n",
       "    </tr>\n",
       "    <tr>\n",
       "      <th>1</th>\n",
       "      <td>470443.0</td>\n",
       "      <td>470446.0</td>\n",
       "      <td>NaN</td>\n",
       "      <td>None</td>\n",
       "      <td>None</td>\n",
       "      <td>The flowline serving the Emerson 3-29J (05-123...</td>\n",
       "      <td>2023-10-24T08:33:49.223000</td>\n",
       "      <td>10633</td>\n",
       "      <td>CRESTONE PEAK RESOURCES OPERATING LLC         ...</td>\n",
       "      <td>Production Facilities</td>\n",
       "      <td>40.109444</td>\n",
       "      <td>-104.909686</td>\n",
       "      <td>40.105743</td>\n",
       "      <td>-104.90986</td>\n",
       "      <td>Carbon Steel</td>\n",
       "      <td>Native Materials</td>\n",
       "      <td>Multiphase</td>\n",
       "      <td>325.0</td>\n",
       "      <td>LINESTRING (507682.442 4439497.658, 507696.855...</td>\n",
       "    </tr>\n",
       "  </tbody>\n",
       "</table>\n",
       "</div>"
      ],
      "text/plain": [
       "   LOCATION_ID  FLOWLINEID  STARTLOCATIONID FLOWLINEACTION ENTIRELINEREMOVED  \\\n",
       "0     331872.0    485633.0              NaN   Registration              None   \n",
       "1     470443.0    470446.0              NaN           None              None   \n",
       "\n",
       "                                   ACTIONDESCRIPTION  \\\n",
       "0                                               None   \n",
       "1  The flowline serving the Emerson 3-29J (05-123...   \n",
       "\n",
       "                 RECEIVE_DATE  OPERATOR_NUM  \\\n",
       "0  2023-10-30T08:10:52.119999         10673   \n",
       "1  2023-10-24T08:33:49.223000         10633   \n",
       "\n",
       "                                        COMPANY_NAME           LOCATIONTYPE  \\\n",
       "0  GADECO LLC                                    ...              Well Site   \n",
       "1  CRESTONE PEAK RESOURCES OPERATING LLC         ...  Production Facilities   \n",
       "\n",
       "      ENDLAT     ENDLONG   STARTLAT  STARTLONG  PIPEMATERIAL  \\\n",
       "0        NaN         NaN        NaN        NaN          HDPE   \n",
       "1  40.109444 -104.909686  40.105743 -104.90986  Carbon Steel   \n",
       "\n",
       "    BEDDINGMATERIAL TYPEOFFLUIDTRANS  MAXOPPRESSURE  \\\n",
       "0  Native Materials   Produced Water            NaN   \n",
       "1  Native Materials       Multiphase          325.0   \n",
       "\n",
       "                                            geometry  \n",
       "0                                               None  \n",
       "1  LINESTRING (507682.442 4439497.658, 507696.855...  "
      ]
     },
     "execution_count": 6,
     "metadata": {},
     "output_type": "execute_result"
    }
   ],
   "source": [
    "flowlines_gdf.head(2)"
   ]
  },
  {
   "cell_type": "code",
   "execution_count": 7,
   "metadata": {},
   "outputs": [
    {
     "data": {
      "text/html": [
       "<div>\n",
       "<style scoped>\n",
       "    .dataframe tbody tr th:only-of-type {\n",
       "        vertical-align: middle;\n",
       "    }\n",
       "\n",
       "    .dataframe tbody tr th {\n",
       "        vertical-align: top;\n",
       "    }\n",
       "\n",
       "    .dataframe thead th {\n",
       "        text-align: right;\n",
       "    }\n",
       "</style>\n",
       "<table border=\"1\" class=\"dataframe\">\n",
       "  <thead>\n",
       "    <tr style=\"text-align: right;\">\n",
       "      <th></th>\n",
       "      <th>Operator</th>\n",
       "      <th>Fluid</th>\n",
       "      <th>Material</th>\n",
       "      <th>Diam_in</th>\n",
       "      <th>Status</th>\n",
       "      <th>Length_ft</th>\n",
       "      <th>SHAPE_Length</th>\n",
       "      <th>geometry</th>\n",
       "    </tr>\n",
       "  </thead>\n",
       "  <tbody>\n",
       "    <tr>\n",
       "      <th>0</th>\n",
       "      <td>EVERGREEN NATURAL RESOURCES LLC</td>\n",
       "      <td>Gas</td>\n",
       "      <td>polly</td>\n",
       "      <td>4.0</td>\n",
       "      <td>Active</td>\n",
       "      <td>2277.71</td>\n",
       "      <td>693.972162</td>\n",
       "      <td>MULTILINESTRING ((524642.670 4117088.796, 5246...</td>\n",
       "    </tr>\n",
       "    <tr>\n",
       "      <th>1</th>\n",
       "      <td>NOBLE ENERGY INC</td>\n",
       "      <td>Multiphase</td>\n",
       "      <td>Carbon Steel</td>\n",
       "      <td>3.0</td>\n",
       "      <td>Abandoned</td>\n",
       "      <td>651.58</td>\n",
       "      <td>198.525215</td>\n",
       "      <td>MULTILINESTRING ((527997.281 4463899.920, 5281...</td>\n",
       "    </tr>\n",
       "  </tbody>\n",
       "</table>\n",
       "</div>"
      ],
      "text/plain": [
       "                          Operator       Fluid      Material  Diam_in  \\\n",
       "0  EVERGREEN NATURAL RESOURCES LLC         Gas         polly      4.0   \n",
       "1                 NOBLE ENERGY INC  Multiphase  Carbon Steel      3.0   \n",
       "\n",
       "      Status  Length_ft  SHAPE_Length  \\\n",
       "0     Active    2277.71    693.972162   \n",
       "1  Abandoned     651.58    198.525215   \n",
       "\n",
       "                                            geometry  \n",
       "0  MULTILINESTRING ((524642.670 4117088.796, 5246...  \n",
       "1  MULTILINESTRING ((527997.281 4463899.920, 5281...  "
      ]
     },
     "execution_count": 7,
     "metadata": {},
     "output_type": "execute_result"
    }
   ],
   "source": [
    "crudeoil_offlocation_gdf.head(2)"
   ]
  },
  {
   "cell_type": "code",
   "execution_count": 8,
   "metadata": {},
   "outputs": [],
   "source": [
    "# Check if CRS is the same for both files\n",
    "if flowlines_gdf.crs != crudeoil_offlocation_gdf.crs:\n",
    "    flowlines_gdf = flowlines_gdf.to_crs(crudeoil_offlocation_gdf.crs)"
   ]
  },
  {
   "cell_type": "markdown",
   "metadata": {},
   "source": [
    "## Spatial Join"
   ]
  },
  {
   "cell_type": "code",
   "execution_count": null,
   "metadata": {},
   "outputs": [
    {
     "name": "stderr",
     "output_type": "stream",
     "text": [
      "/Users/ichittumuri/Desktop/MINES/COGCC-Risk-Analysis/.venv/lib/python3.9/site-packages/IPython/core/interactiveshell.py:3490: FutureWarning: The `op` parameter is deprecated and will be removed in a future release. Please use the `predicate` parameter instead.\n",
      "  if await self.run_code(code, result, async_=asy):\n"
     ]
    },
    {
     "data": {
      "text/plain": [
       "(108291, 27)"
      ]
     },
     "execution_count": 28,
     "metadata": {},
     "output_type": "execute_result"
    }
   ],
   "source": [
    "# Spatial join to find intersecting geometries\n",
    "# Add attributes from flowlines to matching entries in crude_oil_gdf\n",
    "matches_gdf = gpd.sjoin(crudeoil_offlocation_gdf, flowlines_gdf, how=\"inner\", op='intersects')\n",
    "matches_gdf.shape"
   ]
  },
  {
   "cell_type": "code",
   "execution_count": null,
   "metadata": {},
   "outputs": [
    {
     "data": {
      "text/html": [
       "<div>\n",
       "<style scoped>\n",
       "    .dataframe tbody tr th:only-of-type {\n",
       "        vertical-align: middle;\n",
       "    }\n",
       "\n",
       "    .dataframe tbody tr th {\n",
       "        vertical-align: top;\n",
       "    }\n",
       "\n",
       "    .dataframe thead th {\n",
       "        text-align: right;\n",
       "    }\n",
       "</style>\n",
       "<table border=\"1\" class=\"dataframe\">\n",
       "  <thead>\n",
       "    <tr style=\"text-align: right;\">\n",
       "      <th></th>\n",
       "      <th>COMPANY_NAME</th>\n",
       "      <th>Operator</th>\n",
       "    </tr>\n",
       "  </thead>\n",
       "  <tbody>\n",
       "    <tr>\n",
       "      <th>86681</th>\n",
       "      <td>KP KAUFFMAN COMPANY INC</td>\n",
       "      <td>KP KAUFFMAN COMPANY INC</td>\n",
       "    </tr>\n",
       "    <tr>\n",
       "      <th>28022</th>\n",
       "      <td>NOBLE ENERGY INC</td>\n",
       "      <td>NOBLE ENERGY INC</td>\n",
       "    </tr>\n",
       "    <tr>\n",
       "      <th>234844</th>\n",
       "      <td>URSA OPERATING COMPANY LLC</td>\n",
       "      <td>TEP ROCKY MOUNTAIN LLC</td>\n",
       "    </tr>\n",
       "    <tr>\n",
       "      <th>120925</th>\n",
       "      <td>KP KAUFFMAN COMPANY INC</td>\n",
       "      <td>KP KAUFFMAN COMPANY INC</td>\n",
       "    </tr>\n",
       "    <tr>\n",
       "      <th>151143</th>\n",
       "      <td>NOBLE ENERGY INC</td>\n",
       "      <td>NOBLE ENERGY INC</td>\n",
       "    </tr>\n",
       "    <tr>\n",
       "      <th>41342</th>\n",
       "      <td>NOBLE ENERGY INC</td>\n",
       "      <td>NOBLE ENERGY INC</td>\n",
       "    </tr>\n",
       "    <tr>\n",
       "      <th>181647</th>\n",
       "      <td>CRESTONE PEAK RESOURCES OPERATING LLC</td>\n",
       "      <td>NOBLE MIDSTREAM SERVICES LLC</td>\n",
       "    </tr>\n",
       "    <tr>\n",
       "      <th>7358</th>\n",
       "      <td>NOBLE ENERGY INC</td>\n",
       "      <td>NOBLE ENERGY INC</td>\n",
       "    </tr>\n",
       "    <tr>\n",
       "      <th>87970</th>\n",
       "      <td>VERDAD RESOURCES LLC</td>\n",
       "      <td>NOBLE ENERGY INC</td>\n",
       "    </tr>\n",
       "    <tr>\n",
       "      <th>116794</th>\n",
       "      <td>CITATION OIL &amp; GAS CORP</td>\n",
       "      <td>CITATION OIL &amp; GAS CORP</td>\n",
       "    </tr>\n",
       "  </tbody>\n",
       "</table>\n",
       "</div>"
      ],
      "text/plain": [
       "                                              COMPANY_NAME  \\\n",
       "86681   KP KAUFFMAN COMPANY INC                              \n",
       "28022   NOBLE ENERGY INC                                     \n",
       "234844  URSA OPERATING COMPANY LLC                           \n",
       "120925  KP KAUFFMAN COMPANY INC                              \n",
       "151143  NOBLE ENERGY INC                                     \n",
       "41342   NOBLE ENERGY INC                                     \n",
       "181647  CRESTONE PEAK RESOURCES OPERATING LLC                \n",
       "7358    NOBLE ENERGY INC                                     \n",
       "87970   VERDAD RESOURCES LLC                                 \n",
       "116794  CITATION OIL & GAS CORP                              \n",
       "\n",
       "                            Operator  \n",
       "86681        KP KAUFFMAN COMPANY INC  \n",
       "28022               NOBLE ENERGY INC  \n",
       "234844        TEP ROCKY MOUNTAIN LLC  \n",
       "120925       KP KAUFFMAN COMPANY INC  \n",
       "151143              NOBLE ENERGY INC  \n",
       "41342               NOBLE ENERGY INC  \n",
       "181647  NOBLE MIDSTREAM SERVICES LLC  \n",
       "7358                NOBLE ENERGY INC  \n",
       "87970               NOBLE ENERGY INC  \n",
       "116794       CITATION OIL & GAS CORP  "
      ]
     },
     "execution_count": 31,
     "metadata": {},
     "output_type": "execute_result"
    }
   ],
   "source": [
    "# check if operator name is the same\n",
    "pd.set_option('display.max_colwidth',None)\n",
    "matches_gdf[['COMPANY_NAME','Operator']].sample(10)"
   ]
  },
  {
   "cell_type": "code",
   "execution_count": null,
   "metadata": {},
   "outputs": [
    {
     "name": "stdout",
     "output_type": "stream",
     "text": [
      "(98663, 27)\n"
     ]
    }
   ],
   "source": [
    "# Normalize the text in 'COMPANY_NAME' and 'Operator' columns before comparison\n",
    "# This involves converting the text to lower case and stripping any leading/trailing spaces\n",
    "validated_matches = matches_gdf[\n",
    "    matches_gdf['COMPANY_NAME'].str.lower().str.strip() == matches_gdf['Operator'].str.lower().str.strip()\n",
    "]\n",
    "\n",
    "# Now, you can check the shape to see if there are any matches\n",
    "print(validated_matches.shape)"
   ]
  },
  {
   "cell_type": "code",
   "execution_count": null,
   "metadata": {},
   "outputs": [
    {
     "name": "stdout",
     "output_type": "stream",
     "text": [
      "                                              COMPANY_NAME  \\\n",
      "34201   NOBLE ENERGY INC                                     \n",
      "58470   CRESTONE PEAK RESOURCES OPERATING LLC                \n",
      "6401    NOBLE ENERGY INC                                     \n",
      "7081    BONANZA CREEK ENERGY OPERATING COMPANY LLC           \n",
      "44870   CRESTONE PEAK RESOURCES OPERATING LLC                \n",
      "78450   NOBLE ENERGY INC                                     \n",
      "52948   CRESTONE PEAK RESOURCES OPERATING LLC                \n",
      "73525   TIMBER CREEK OPERATING LLC                           \n",
      "119281  OWN RESOURCES OPERATING LLC                          \n",
      "14305   TIMBER CREEK OPERATING LLC                           \n",
      "\n",
      "                                          Operator  \n",
      "34201                             NOBLE ENERGY INC  \n",
      "58470        CRESTONE PEAK RESOURCES OPERATING LLC  \n",
      "6401                              NOBLE ENERGY INC  \n",
      "7081    BONANZA CREEK ENERGY OPERATING COMPANY LLC  \n",
      "44870        CRESTONE PEAK RESOURCES OPERATING LLC  \n",
      "78450                             NOBLE ENERGY INC  \n",
      "52948        CRESTONE PEAK RESOURCES OPERATING LLC  \n",
      "73525                   TIMBER CREEK OPERATING LLC  \n",
      "119281                 OWN RESOURCES OPERATING LLC  \n",
      "14305                   TIMBER CREEK OPERATING LLC  \n"
     ]
    }
   ],
   "source": [
    "print(validated_matches[['COMPANY_NAME', 'Operator']].sample(10))"
   ]
  },
  {
   "cell_type": "code",
   "execution_count": null,
   "metadata": {},
   "outputs": [
    {
     "name": "stderr",
     "output_type": "stream",
     "text": [
      "/var/folders/p3/gs65vvgs1wd90mnxb3q3hvy80000gp/T/ipykernel_6211/847419937.py:4: SettingWithCopyWarning: \n",
      "A value is trying to be set on a copy of a slice from a DataFrame\n",
      "\n",
      "See the caveats in the documentation: https://pandas.pydata.org/pandas-docs/stable/user_guide/indexing.html#returning-a-view-versus-a-copy\n",
      "  validated_matches.drop(columns=['index_right','geometry','Operator','Fluid','Material','Diam_in','Status','Length_ft','SHAPE_Length'], inplace=True)\n"
     ]
    }
   ],
   "source": [
    "# Merge the matches back to the original 'crudeoil_offlocation_gdf' to add 'flowlines_gdf' attributes where intersections occurred\n",
    "\n",
    "# Dropp the 'index_right' column which is added by sjoin and duplicate geometry column\n",
    "validated_matches.drop(columns=['index_right','geometry','Operator','Fluid','Material','Diam_in','Status','Length_ft','SHAPE_Length'], inplace=True)"
   ]
  },
  {
   "cell_type": "code",
   "execution_count": null,
   "metadata": {},
   "outputs": [],
   "source": [
    "# Merge based on index, ensuring all original entries in 'crudeoil_offlocation_gdf' are retained and adding 'flowlines_gdf' attributes where matches were found\n",
    "all_flowlines = crudeoil_offlocation_gdf.merge(validated_matches, left_index=True, right_index=True, how=\"left\")"
   ]
  },
  {
   "cell_type": "code",
   "execution_count": null,
   "metadata": {},
   "outputs": [
    {
     "name": "stdout",
     "output_type": "stream",
     "text": [
      "(259979, 8)\n",
      "(21942, 19)\n",
      "(335177, 26)\n"
     ]
    }
   ],
   "source": [
    "print(crudeoil_offlocation_gdf.shape)\n",
    "print(flowlines_gdf.shape)\n",
    "print(all_flowlines.shape)"
   ]
  },
  {
   "cell_type": "code",
   "execution_count": null,
   "metadata": {},
   "outputs": [
    {
     "data": {
      "text/html": [
       "<div>\n",
       "<style scoped>\n",
       "    .dataframe tbody tr th:only-of-type {\n",
       "        vertical-align: middle;\n",
       "    }\n",
       "\n",
       "    .dataframe tbody tr th {\n",
       "        vertical-align: top;\n",
       "    }\n",
       "\n",
       "    .dataframe thead th {\n",
       "        text-align: right;\n",
       "    }\n",
       "</style>\n",
       "<table border=\"1\" class=\"dataframe\">\n",
       "  <thead>\n",
       "    <tr style=\"text-align: right;\">\n",
       "      <th></th>\n",
       "      <th>Operator</th>\n",
       "      <th>Fluid</th>\n",
       "      <th>Material</th>\n",
       "      <th>Diam_in</th>\n",
       "      <th>Status</th>\n",
       "      <th>Length_ft</th>\n",
       "      <th>SHAPE_Length</th>\n",
       "      <th>geometry</th>\n",
       "      <th>LOCATION_ID</th>\n",
       "      <th>FLOWLINEID</th>\n",
       "      <th>STARTLOCATIONID</th>\n",
       "      <th>FLOWLINEACTION</th>\n",
       "      <th>ENTIRELINEREMOVED</th>\n",
       "      <th>ACTIONDESCRIPTION</th>\n",
       "      <th>RECEIVE_DATE</th>\n",
       "      <th>OPERATOR_NUM</th>\n",
       "      <th>COMPANY_NAME</th>\n",
       "      <th>LOCATIONTYPE</th>\n",
       "      <th>ENDLAT</th>\n",
       "      <th>ENDLONG</th>\n",
       "      <th>STARTLAT</th>\n",
       "      <th>STARTLONG</th>\n",
       "      <th>PIPEMATERIAL</th>\n",
       "      <th>BEDDINGMATERIAL</th>\n",
       "      <th>TYPEOFFLUIDTRANS</th>\n",
       "      <th>MAXOPPRESSURE</th>\n",
       "    </tr>\n",
       "  </thead>\n",
       "  <tbody>\n",
       "    <tr>\n",
       "      <th>0</th>\n",
       "      <td>EVERGREEN NATURAL RESOURCES LLC</td>\n",
       "      <td>Gas</td>\n",
       "      <td>polly</td>\n",
       "      <td>4.0</td>\n",
       "      <td>Active</td>\n",
       "      <td>2277.71</td>\n",
       "      <td>693.972162</td>\n",
       "      <td>MULTILINESTRING ((524642.670 4117088.796, 524635.855 4117065.943, 524642.839 4117043.875, 524644.806 4117038.110, 524644.948 4117037.721, 524647.344 4117029.801, 524649.373 4117015.664, 524647.124 4116999.342, 524639.679 4116984.231, 524630.942 4116970.047, 524621.881 4116956.759, 524614.674 4116944.822, 524608.274 4116932.252, 524601.572 4116917.128, 524593.134 4116899.610, 524582.780 4116881.528, 524570.950 4116863.161, 524560.121 4116845.209, 524550.495 4116828.320, 524541.644 4116811.514, 524532.448 4116793.800, 524522.199 4116774.155, 524511.641 4116754.211, 524501.932 4116736.341, 524493.554 4116719.288, 524485.915 4116703.239, 524478.660 4116688.610, 524472.318 4116676.228, 524466.204 4116663.878, 524461.745 4116654.085, 524460.993 4116652.434, 524460.799 4116652.268, 524459.589 4116649.783, 524455.570 4116641.354, 524449.475 4116628.485, 524442.644 4116614.823, 524434.908 4116600.482, 524425.811 4116585.828, 524414.601 4116570.923, 524399.704 4116555.207, 524380.607 4116537.113, 524372.634 4116530.176, 524364.897 4116524.118, 524357.109 4116516.189, 524345.951 4116505.112, 524333.116 4116492.371))</td>\n",
       "      <td>NaN</td>\n",
       "      <td>NaN</td>\n",
       "      <td>NaN</td>\n",
       "      <td>NaN</td>\n",
       "      <td>NaN</td>\n",
       "      <td>NaN</td>\n",
       "      <td>NaN</td>\n",
       "      <td>NaN</td>\n",
       "      <td>NaN</td>\n",
       "      <td>NaN</td>\n",
       "      <td>NaN</td>\n",
       "      <td>NaN</td>\n",
       "      <td>NaN</td>\n",
       "      <td>NaN</td>\n",
       "      <td>NaN</td>\n",
       "      <td>NaN</td>\n",
       "      <td>NaN</td>\n",
       "      <td>NaN</td>\n",
       "    </tr>\n",
       "    <tr>\n",
       "      <th>1</th>\n",
       "      <td>NOBLE ENERGY INC</td>\n",
       "      <td>Multiphase</td>\n",
       "      <td>Carbon Steel</td>\n",
       "      <td>3.0</td>\n",
       "      <td>Abandoned</td>\n",
       "      <td>651.58</td>\n",
       "      <td>198.525215</td>\n",
       "      <td>MULTILINESTRING ((527997.281 4463899.920, 528172.790 4463992.704))</td>\n",
       "      <td>NaN</td>\n",
       "      <td>NaN</td>\n",
       "      <td>NaN</td>\n",
       "      <td>NaN</td>\n",
       "      <td>NaN</td>\n",
       "      <td>NaN</td>\n",
       "      <td>NaN</td>\n",
       "      <td>NaN</td>\n",
       "      <td>NaN</td>\n",
       "      <td>NaN</td>\n",
       "      <td>NaN</td>\n",
       "      <td>NaN</td>\n",
       "      <td>NaN</td>\n",
       "      <td>NaN</td>\n",
       "      <td>NaN</td>\n",
       "      <td>NaN</td>\n",
       "      <td>NaN</td>\n",
       "      <td>NaN</td>\n",
       "    </tr>\n",
       "  </tbody>\n",
       "</table>\n",
       "</div>"
      ],
      "text/plain": [
       "                          Operator       Fluid      Material  Diam_in  \\\n",
       "0  EVERGREEN NATURAL RESOURCES LLC         Gas         polly      4.0   \n",
       "1                 NOBLE ENERGY INC  Multiphase  Carbon Steel      3.0   \n",
       "\n",
       "      Status  Length_ft  SHAPE_Length  \\\n",
       "0     Active    2277.71    693.972162   \n",
       "1  Abandoned     651.58    198.525215   \n",
       "\n",
       "                                                                                                                                                                                                                                                                                                                                                                                                                                                                                                                                                                                                                                                                                                                                                                                                                                                                                                                                                                                                                                                                                                                                                             geometry  \\\n",
       "0  MULTILINESTRING ((524642.670 4117088.796, 524635.855 4117065.943, 524642.839 4117043.875, 524644.806 4117038.110, 524644.948 4117037.721, 524647.344 4117029.801, 524649.373 4117015.664, 524647.124 4116999.342, 524639.679 4116984.231, 524630.942 4116970.047, 524621.881 4116956.759, 524614.674 4116944.822, 524608.274 4116932.252, 524601.572 4116917.128, 524593.134 4116899.610, 524582.780 4116881.528, 524570.950 4116863.161, 524560.121 4116845.209, 524550.495 4116828.320, 524541.644 4116811.514, 524532.448 4116793.800, 524522.199 4116774.155, 524511.641 4116754.211, 524501.932 4116736.341, 524493.554 4116719.288, 524485.915 4116703.239, 524478.660 4116688.610, 524472.318 4116676.228, 524466.204 4116663.878, 524461.745 4116654.085, 524460.993 4116652.434, 524460.799 4116652.268, 524459.589 4116649.783, 524455.570 4116641.354, 524449.475 4116628.485, 524442.644 4116614.823, 524434.908 4116600.482, 524425.811 4116585.828, 524414.601 4116570.923, 524399.704 4116555.207, 524380.607 4116537.113, 524372.634 4116530.176, 524364.897 4116524.118, 524357.109 4116516.189, 524345.951 4116505.112, 524333.116 4116492.371))   \n",
       "1                                                                                                                                                                                                                                                                                                                                                                                                                                                                                                                                                                                                                                                                                                                                                                                                                                                                                                                                                                                                                                                                                                  MULTILINESTRING ((527997.281 4463899.920, 528172.790 4463992.704))   \n",
       "\n",
       "   LOCATION_ID  FLOWLINEID  STARTLOCATIONID FLOWLINEACTION ENTIRELINEREMOVED  \\\n",
       "0          NaN         NaN              NaN            NaN               NaN   \n",
       "1          NaN         NaN              NaN            NaN               NaN   \n",
       "\n",
       "  ACTIONDESCRIPTION RECEIVE_DATE  OPERATOR_NUM COMPANY_NAME LOCATIONTYPE  \\\n",
       "0               NaN          NaN           NaN          NaN          NaN   \n",
       "1               NaN          NaN           NaN          NaN          NaN   \n",
       "\n",
       "   ENDLAT  ENDLONG  STARTLAT  STARTLONG PIPEMATERIAL BEDDINGMATERIAL  \\\n",
       "0     NaN      NaN       NaN        NaN          NaN             NaN   \n",
       "1     NaN      NaN       NaN        NaN          NaN             NaN   \n",
       "\n",
       "  TYPEOFFLUIDTRANS  MAXOPPRESSURE  \n",
       "0              NaN            NaN  \n",
       "1              NaN            NaN  "
      ]
     },
     "execution_count": 40,
     "metadata": {},
     "output_type": "execute_result"
    }
   ],
   "source": [
    "all_flowlines.head(2)"
   ]
  },
  {
   "cell_type": "code",
   "execution_count": null,
   "metadata": {},
   "outputs": [],
   "source": [
    "all_flowlines.to_file('all_flowlines.geojson', driver='GeoJSON')"
   ]
  }
 ],
 "metadata": {
  "kernelspec": {
   "display_name": ".venv",
   "language": "python",
   "name": "python3"
  },
  "language_info": {
   "codemirror_mode": {
    "name": "ipython",
    "version": 3
   },
   "file_extension": ".py",
   "mimetype": "text/x-python",
   "name": "python",
   "nbconvert_exporter": "python",
   "pygments_lexer": "ipython3",
   "version": "3.9.6"
  }
 },
 "nbformat": 4,
 "nbformat_minor": 2
}
