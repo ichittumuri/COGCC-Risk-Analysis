{
 "cells": [
  {
   "cell_type": "code",
   "execution_count": 1,
   "metadata": {},
   "outputs": [
    {
     "name": "stderr",
     "output_type": "stream",
     "text": [
      "/var/folders/p3/gs65vvgs1wd90mnxb3q3hvy80000gp/T/ipykernel_3994/3426520483.py:3: DeprecationWarning: \n",
      "Pyarrow will become a required dependency of pandas in the next major release of pandas (pandas 3.0),\n",
      "(to allow more performant data types, such as the Arrow string type, and better interoperability with other libraries)\n",
      "but was not found to be installed on your system.\n",
      "If this would cause problems for you,\n",
      "please provide us feedback at https://github.com/pandas-dev/pandas/issues/54466\n",
      "        \n",
      "  import pandas as pd\n"
     ]
    }
   ],
   "source": [
    "import os\n",
    "import numpy as np\n",
    "import pandas as pd\n",
    "import matplotlib.pyplot as plt\n",
    "import seaborn as sns\n",
    "import geopandas as gpd\n",
    "import fiona\n",
    "\n",
    "# set working directory\n",
    "os.chdir('/Users/ichittumuri/Desktop/MINES/COGCC-Risk-Analysis/Data')"
   ]
  },
  {
   "cell_type": "code",
   "execution_count": 2,
   "metadata": {},
   "outputs": [],
   "source": [
    "flowlines = pd.read_excel('FlowlineSpreadsheet_Mines.xlsx')\n",
    "spills = pd.read_excel('Flowline-Related Spills (2022).xlsx')"
   ]
  },
  {
   "cell_type": "code",
   "execution_count": 3,
   "metadata": {},
   "outputs": [
    {
     "name": "stdout",
     "output_type": "stream",
     "text": [
      "<class 'pandas.core.frame.DataFrame'>\n",
      "RangeIndex: 21942 entries, 0 to 21941\n",
      "Data columns (total 88 columns):\n",
      " #   Column                Non-Null Count  Dtype  \n",
      "---  ------                --------------  -----  \n",
      " 0   DOC_NUM               21942 non-null  int64  \n",
      " 1   FORM_NUM              21942 non-null  int64  \n",
      " 2   RECEIVE_DATE          21942 non-null  object \n",
      " 3   OPERATOR_NUM          21942 non-null  int64  \n",
      " 4   COMPANY_NAME          21942 non-null  object \n",
      " 5   SUBMIT_DATE           21942 non-null  object \n",
      " 6   STATUS_DATE           21942 non-null  object \n",
      " 7   FACILITY_ID           591 non-null    float64\n",
      " 8   STATUS                21942 non-null  object \n",
      " 9   USER_NAME             21942 non-null  object \n",
      " 10  DATA_ENTRY_DATE       21942 non-null  object \n",
      " 11  DATA_ENTRY_OP         21867 non-null  object \n",
      " 12  LOCATION_ID           21928 non-null  float64\n",
      " 13  LAST_USER             21942 non-null  object \n",
      " 14  LAST_UPDATE_USER      21942 non-null  object \n",
      " 15  LAST_UPDATE_DATE      21942 non-null  object \n",
      " 16  EXPR1                 21931 non-null  float64\n",
      " 17  LOCATIONTYPE          21942 non-null  object \n",
      " 18  NOLOCATIONID          21942 non-null  bool   \n",
      " 19  FACILITY_NAME         21940 non-null  object \n",
      " 20  FACILITY_NUM          20300 non-null  object \n",
      " 21  COUNTY                21932 non-null  object \n",
      " 22  QTRQTR                21942 non-null  object \n",
      " 23  SEC                   21942 non-null  int64  \n",
      " 24  TWP                   21942 non-null  object \n",
      " 25  RANGE                 21942 non-null  object \n",
      " 26  MERIDIAN              21942 non-null  object \n",
      " 27  LAT                   21940 non-null  float64\n",
      " 28  LONG                  21940 non-null  float64\n",
      " 29  PDOP                  12387 non-null  float64\n",
      " 30  MEASURE_DATE          12761 non-null  object \n",
      " 31  INSTRUMENT_OPERATOR   0 non-null      float64\n",
      " 32  REPORTTYPE            21942 non-null  object \n",
      " 33  ONECALLCODE           2 non-null      object \n",
      " 34  PLANNEDCONSTRUCTDATE  2 non-null      object \n",
      " 35  ASBUILTSERVICEDATE    0 non-null      float64\n",
      " 36  MODABANDINFO          13287 non-null  object \n",
      " 37  PKEY                  21942 non-null  object \n",
      " 38  SYSTEMTYPE            21942 non-null  object \n",
      " 39  FLOWLINEID            21928 non-null  float64\n",
      " 40  FLOWLINETYPE          21893 non-null  object \n",
      " 41  ENDEQUIPTYPE          21942 non-null  object \n",
      " 42  ENDLAT                21254 non-null  float64\n",
      " 43  ENDLONG               21254 non-null  float64\n",
      " 44  ENDUTMX               21254 non-null  float64\n",
      " 45  ENDUTMY               21254 non-null  float64\n",
      " 46  ENDPDOP               12554 non-null  float64\n",
      " 47  ENDDATE               21233 non-null  object \n",
      " 48  TYPEOFSTARTLOCATION   21941 non-null  object \n",
      " 49  STARTEQUIPTYPE        21942 non-null  object \n",
      " 50  STARTLOCATIONID       21590 non-null  float64\n",
      " 51  STARTLOCATIONOID      21942 non-null  bool   \n",
      " 52  STARTFACNAME          21942 non-null  object \n",
      " 53  STARTFACNUMBER        21675 non-null  object \n",
      " 54  STARTFACCOUNTY        21942 non-null  object \n",
      " 55  STARTFACQTRQTR        21942 non-null  object \n",
      " 56  STARTFACSECTION       21942 non-null  int64  \n",
      " 57  STARTFACTWP           21942 non-null  object \n",
      " 58  STARTFACRANGE         21942 non-null  object \n",
      " 59  STARTFACMERIDIAN      21942 non-null  object \n",
      " 60  STARTFACLAT           21942 non-null  float64\n",
      " 61  STARTFACLONG          21942 non-null  float64\n",
      " 62  STARTFACUTMX          21942 non-null  int64  \n",
      " 63  STARTFACUTMY          21942 non-null  int64  \n",
      " 64  STARTFACPDOP          17582 non-null  float64\n",
      " 65  STARTFACDATE          17686 non-null  object \n",
      " 66  STARTLAT              21254 non-null  float64\n",
      " 67  STARTLONG             21254 non-null  float64\n",
      " 68  STARTUTMX             21254 non-null  float64\n",
      " 69  STARTUTMY             21254 non-null  float64\n",
      " 70  STARTPDOP             12601 non-null  float64\n",
      " 71  STARTDATE             21242 non-null  object \n",
      " 72  CONSTRUCTDATE         21942 non-null  object \n",
      " 73  PIPEMATERIAL          15462 non-null  object \n",
      " 74  PIPEOTHER             833 non-null    object \n",
      " 75  BEDDINGMATERIAL       9790 non-null   object \n",
      " 76  BEDDINGOTHER          192 non-null    object \n",
      " 77  MAXOD                 15171 non-null  float64\n",
      " 78  TYPEOFFLUIDTRANS      15066 non-null  object \n",
      " 79  OTHERFLUID            114 non-null    object \n",
      " 80  MAXOPPRESSURE         7600 non-null   float64\n",
      " 81  TESTINGPRESSURE       6974 non-null   float64\n",
      " 82  TESTDATE              7028 non-null   object \n",
      " 83  FLOWLINEACTION        16700 non-null  object \n",
      " 84  ACTIONDATE            4254 non-null   object \n",
      " 85  ACTIONDESCRIPTION     4263 non-null   object \n",
      " 86  ENTIRELINEREMOVED     2908 non-null   object \n",
      " 87  OPERATORFLOWLINEID    21941 non-null  object \n",
      "dtypes: bool(2), float64(26), int64(7), object(53)\n",
      "memory usage: 14.4+ MB\n",
      "None\n",
      "(21942, 88)\n"
     ]
    }
   ],
   "source": [
    "print(flowlines.info())\n",
    "print(flowlines.shape)"
   ]
  },
  {
   "cell_type": "code",
   "execution_count": 4,
   "metadata": {},
   "outputs": [
    {
     "name": "stdout",
     "output_type": "stream",
     "text": [
      "<class 'pandas.core.frame.DataFrame'>\n",
      "RangeIndex: 1726 entries, 0 to 1725\n",
      "Data columns (total 35 columns):\n",
      " #   Column                    Non-Null Count  Dtype  \n",
      "---  ------                    --------------  -----  \n",
      " 0   trkg_num                  1726 non-null   int64  \n",
      " 1   Operator Name             1726 non-null   object \n",
      " 2   operator_num              1726 non-null   object \n",
      " 3   incident_date             1726 non-null   object \n",
      " 4   facility_type             1675 non-null   object \n",
      " 5   Spill_Desc                1726 non-null   object \n",
      " 6   county                    1726 non-null   object \n",
      " 7   Spill Type                880 non-null    object \n",
      " 8   Root Cause                1005 non-null   object \n",
      " 9   Preventative Measure      971 non-null    object \n",
      " 10  Root Cause Type           1726 non-null   object \n",
      " 11  Detailed Root Cause Type  1581 non-null   object \n",
      " 12  Long                      1537 non-null   float64\n",
      " 13  Lat                       1537 non-null   float64\n",
      " 14  oil_spilled               988 non-null    float64\n",
      " 15  oil_recovered             658 non-null    float64\n",
      " 16  cond_spilled              976 non-null    float64\n",
      " 17  cond_recovered            650 non-null    float64\n",
      " 18  PW_spilled                880 non-null    float64\n",
      " 19  PW_recovered              574 non-null    float64\n",
      " 20  drilling_spilled          1097 non-null   float64\n",
      " 21  drilling_recovered        681 non-null    float64\n",
      " 22  frac_spilled              1096 non-null   float64\n",
      " 23  frac_recovered            680 non-null    float64\n",
      " 24  other_spilled             363 non-null    float64\n",
      " 25  other_recovered           305 non-null    float64\n",
      " 26  other_spilled_specify     100 non-null    object \n",
      " 27  facility_status           552 non-null    object \n",
      " 28  Basin                     1723 non-null   object \n",
      " 29  Gathering?                864 non-null    object \n",
      " 30  Metallic?                 925 non-null    object \n",
      " 31  nan                       700 non-null    object \n",
      " 32  nan.1                     700 non-null    object \n",
      " 33  On Location?              121 non-null    object \n",
      " 34  Fac or Loc ID             510 non-null    float64\n",
      "dtypes: float64(15), int64(1), object(19)\n",
      "memory usage: 472.1+ KB\n",
      "None\n",
      "(1726, 35)\n"
     ]
    }
   ],
   "source": [
    "print(spills.info())\n",
    "print(spills.shape)"
   ]
  },
  {
   "cell_type": "markdown",
   "metadata": {},
   "source": [
    "Check to see if the DOC_NUM and trkg_num are the same\n",
    "- results in empty set so there are disjoint"
   ]
  },
  {
   "cell_type": "code",
   "execution_count": 5,
   "metadata": {},
   "outputs": [
    {
     "data": {
      "text/plain": [
       "set()"
      ]
     },
     "execution_count": 5,
     "metadata": {},
     "output_type": "execute_result"
    }
   ],
   "source": [
    "flowlines_id = set(flowlines.DOC_NUM)\n",
    "spills_id= set(spills.trkg_num)\n",
    "flowlines_id.intersection(spills_id)"
   ]
  },
  {
   "cell_type": "markdown",
   "metadata": {},
   "source": [
    "Count how many of points are within the rectangles\n"
   ]
  },
  {
   "cell_type": "code",
   "execution_count": 6,
   "metadata": {},
   "outputs": [
    {
     "data": {
      "text/plain": [
       "count    21940.000000\n",
       "mean        40.033706\n",
       "std          0.739438\n",
       "min         37.010427\n",
       "25%         40.026688\n",
       "50%         40.185580\n",
       "75%         40.367810\n",
       "max         40.993496\n",
       "Name: LAT, dtype: float64"
      ]
     },
     "execution_count": 6,
     "metadata": {},
     "output_type": "execute_result"
    }
   ],
   "source": [
    "flowlines_lat = flowlines.LAT\n",
    "flowlines_lat.describe()"
   ]
  },
  {
   "cell_type": "code",
   "execution_count": 7,
   "metadata": {},
   "outputs": [
    {
     "data": {
      "text/plain": [
       "count    1537.000000\n",
       "mean       18.566716\n",
       "std        51.290513\n",
       "min      -108.954300\n",
       "25%        37.264610\n",
       "50%        39.993190\n",
       "75%        40.269967\n",
       "max        40.997350\n",
       "Name: Lat, dtype: float64"
      ]
     },
     "execution_count": 7,
     "metadata": {},
     "output_type": "execute_result"
    }
   ],
   "source": [
    "spills_lat = spills.Lat.dropna()\n",
    "spills_lat.describe()"
   ]
  },
  {
   "cell_type": "code",
   "execution_count": 8,
   "metadata": {},
   "outputs": [
    {
     "data": {
      "text/plain": [
       "<Axes: >"
      ]
     },
     "execution_count": 8,
     "metadata": {},
     "output_type": "execute_result"
    },
    {
     "data": {
      "image/png": "[encoded data removed]",
      "text/plain": [
       "<Figure size 640x480 with 1 Axes>"
      ]
     },
     "metadata": {},
     "output_type": "display_data"
    }
   ],
   "source": [
    "spills_lat.hist()"
   ]
  },
  {
   "cell_type": "code",
   "execution_count": 9,
   "metadata": {},
   "outputs": [
    {
     "data": {
      "text/plain": [
       "{37.08071,\n",
       " 39.257664,\n",
       " 39.54742,\n",
       " 39.803342,\n",
       " 39.868538,\n",
       " 39.87647,\n",
       " 39.959898,\n",
       " 39.97735,\n",
       " 39.99131,\n",
       " 39.995911,\n",
       " 40.02917,\n",
       " 40.0943,\n",
       " 40.098741,\n",
       " 40.105189,\n",
       " 40.1205,\n",
       " 40.1243,\n",
       " 40.132563,\n",
       " 40.13928,\n",
       " 40.19165,\n",
       " 40.25225,\n",
       " 40.407008,\n",
       " 40.4369,\n",
       " 40.451472,\n",
       " 40.493504,\n",
       " 40.529683,\n",
       " 40.56804,\n",
       " 40.643635,\n",
       " 40.855199,\n",
       " 40.95103}"
      ]
     },
     "execution_count": 9,
     "metadata": {},
     "output_type": "execute_result"
    }
   ],
   "source": [
    "set(flowlines_lat).intersection(set(spills_lat))"
   ]
  },
  {
   "cell_type": "code",
   "execution_count": 10,
   "metadata": {},
   "outputs": [
    {
     "data": {
      "text/plain": [
       "<Axes: >"
      ]
     },
     "execution_count": 10,
     "metadata": {},
     "output_type": "execute_result"
    },
    {
     "data": {
      "image/png": "[encoded data removed]",
      "text/plain": [
       "<Figure size 640x480 with 1 Axes>"
      ]
     },
     "metadata": {},
     "output_type": "display_data"
    }
   ],
   "source": [
    "flowlines.LONG.hist()"
   ]
  },
  {
   "cell_type": "markdown",
   "metadata": {},
   "source": [
    "Find which spills belong to each flowline\n",
    "- e, eplison factor. currnetly it is at zero\n"
   ]
  },
  {
   "cell_type": "code",
   "execution_count": 11,
   "metadata": {},
   "outputs": [],
   "source": [
    "def in_rectangle(flowlines, spills, e=0):\n",
    "    assert len(flowlines) == 4\n",
    "    assert len(spills) == 2\n",
    "    [lat, long] = spills\n",
    "    [lat_start, lat_end, long_start, long_end] = flowlines\n",
    "    return ( lat_start -e <= lat <= lat_end + e) and (long_start -e <= long <= long_end + e)\n"
   ]
  },
  {
   "cell_type": "markdown",
   "metadata": {},
   "source": [
    "TEST"
   ]
  },
  {
   "cell_type": "code",
   "execution_count": 12,
   "metadata": {},
   "outputs": [
    {
     "name": "stdout",
     "output_type": "stream",
     "text": [
      "[True, True, True, True, True]\n"
     ]
    }
   ],
   "source": [
    "tests = [\n",
    "    in_rectangle([-1, 1, -1, 1], [0,0]),\n",
    "    not in_rectangle([-1, 1, -1, 1], [-1.01,0], e=0.0),\n",
    "    in_rectangle([-1, 1, -1, 1], [-1.01,0], e=0.1),\n",
    "    not in_rectangle([-1, 1, -1, 1], [-2,0]),\n",
    "    not in_rectangle([-1, 1, -1, 1], [-2,0], e=0.002),\n",
    "]\n",
    "print(tests)\n",
    "assert all(tests)"
   ]
  },
  {
   "cell_type": "markdown",
   "metadata": {},
   "source": [
    "implement test to data"
   ]
  },
  {
   "cell_type": "code",
   "execution_count": 13,
   "metadata": {},
   "outputs": [],
   "source": [
    "line_lat_start = list(flowlines.STARTLAT.values)\n",
    "line_lat_end = list(flowlines.ENDLAT.values)\n",
    "line_long_start = list(flowlines.STARTLONG.values)\n",
    "line_long_end = list(flowlines.ENDLONG.values)\n",
    "line_index = list(flowlines.index)\n",
    "\n",
    "spill_lat = list(spills.Lat.values)\n",
    "spill_long = list(spills.Long.values)\n",
    "spill_idx = list(spills.index)\n",
    "\n",
    "match_ids = dict()"
   ]
  },
  {
   "cell_type": "code",
   "execution_count": 14,
   "metadata": {},
   "outputs": [
    {
     "name": "stdout",
     "output_type": "stream",
     "text": [
      "{755: 268, 905: 1187, 981: 358, 982: 358, 1483: 12, 2033: 840, 2113: 885, 2300: 857, 2308: 244, 2309: 244, 2311: 244, 2312: 244, 2314: 244, 2318: 244, 2375: 1027, 2551: 885, 2589: 12, 2726: 518, 2727: 518, 2808: 12, 2903: 12, 3190: 885, 3201: 885, 3205: 885, 3747: 464, 3932: 1509, 4324: 1025, 4325: 1025, 4855: 1187, 4862: 1187, 5008: 1148, 5094: 1195, 5097: 1195, 5105: 1649, 5199: 1227, 5639: 395, 5805: 1629, 5806: 1629, 5878: 518, 5880: 518, 5943: 1540, 6001: 264, 6002: 264, 6468: 702, 6670: 1589, 6910: 518, 6911: 518, 7025: 264, 7026: 264, 8724: 1148, 8779: 1195, 8780: 1195, 8879: 1649, 9010: 395, 9129: 1227, 9168: 734, 9172: 984, 9268: 738, 9345: 5, 9347: 5, 9351: 735, 9353: 5, 9354: 5, 9358: 5, 9363: 735, 9364: 735, 9370: 5, 9375: 5, 9379: 5, 9382: 5, 9386: 5, 9388: 735, 9390: 5, 9392: 5, 9393: 5, 9396: 5, 9397: 5, 9399: 5, 9503: 362, 9512: 347, 9536: 266, 9546: 738, 9549: 738, 9557: 266, 9562: 266, 9570: 266, 9573: 266, 9580: 738, 9595: 266, 9597: 266, 9611: 738, 9706: 735, 9712: 735, 9714: 735, 9715: 735, 9720: 735, 9725: 735, 9729: 735, 9936: 271, 9939: 271, 9941: 271, 9942: 271, 9943: 94, 9945: 94, 9946: 94, 9949: 94, 9952: 94, 10110: 268, 10275: 885, 10879: 1509, 10981: 1025, 10985: 1025, 11988: 1187, 12188: 234, 12217: 840, 12349: 195, 12806: 464, 13486: 1641, 13579: 30, 13580: 30, 14837: 358, 14838: 358, 15047: 1027, 15070: 885, 15675: 857, 15723: 244, 15725: 244, 15727: 244, 15729: 244, 15730: 244, 15731: 244, 17345: 320, 18027: 1642, 18052: 752, 18209: 821, 18670: 783, 18880: 821, 19801: 1642, 19945: 1240, 19946: 1240, 19948: 1240, 19950: 1240, 21410: 234, 21463: 321, 21810: 320}\n"
     ]
    }
   ],
   "source": [
    "# TODO : change to find closest rectangle\n",
    "for flowlines_id, line in zip(line_index, zip(line_lat_start, line_lat_end, line_long_start, line_long_end)):\n",
    "    for spills_id, spill in zip(spill_idx, zip(spill_lat, spill_long)):\n",
    "\n",
    "        if any([np.isnan(e) for e in line]):\n",
    "            continue\n",
    "\n",
    "        if in_rectangle(flowlines=line, spills=spill):\n",
    "            match_ids[flowlines_id] = spills_id\n",
    "\n",
    "print(match_ids)"
   ]
  },
  {
   "cell_type": "code",
   "execution_count": 15,
   "metadata": {},
   "outputs": [
    {
     "name": "stdout",
     "output_type": "stream",
     "text": [
      "[40.612404, 40.616101, -104.834939, -104.824284] [40.6157, -104.83062]\n"
     ]
    },
    {
     "data": {
      "text/plain": [
       "True"
      ]
     },
     "execution_count": 15,
     "metadata": {},
     "output_type": "execute_result"
    }
   ],
   "source": [
    "def test():\n",
    "    (line, spill) = 2551, match_ids[2551]\n",
    "    flowlines_record = flowlines.loc[line] \n",
    "    # rect_record.START_LAT\n",
    "    flowlines_list = [\n",
    "        flowlines_record.STARTLAT,\n",
    "        flowlines_record.ENDLAT,\n",
    "        flowlines_record.STARTLONG,\n",
    "        flowlines_record.ENDLONG\n",
    "    ]\n",
    "\n",
    "    spills_record = spills.loc[spill]\n",
    "    \n",
    "    spills_list = [\n",
    "        spills_record.Lat,\n",
    "        spills_record.Long\n",
    "    ]\n",
    "    print(flowlines_list, spills_list)\n",
    "    return in_rectangle(flowlines=flowlines_list, spills=spills_list)\n",
    "\n",
    "test()"
   ]
  },
  {
   "cell_type": "code",
   "execution_count": 16,
   "metadata": {},
   "outputs": [],
   "source": [
    "# flowine to spill\n",
    "flowlines_id_to_spills_id = match_ids\n",
    "\n",
    "join_col = flowlines.index.map(lambda x: flowlines_id_to_spills_id.get(x) or np.nan)\n",
    "\n",
    "pd.Series(join_col).describe()\n",
    "\n",
    "flowlines['join_col'] = join_col \n",
    "spills['join_col'] = spills.index"
   ]
  },
  {
   "cell_type": "code",
   "execution_count": 17,
   "metadata": {},
   "outputs": [],
   "source": [
    "merged = pd.merge(flowlines, spills, how='inner', on=\"join_col\", copy=True)"
   ]
  },
  {
   "cell_type": "code",
   "execution_count": 18,
   "metadata": {},
   "outputs": [],
   "source": [
    "merged.to_excel(\"flowlines_to_spills.xlsx\")\n"
   ]
  },
  {
   "cell_type": "code",
   "execution_count": 19,
   "metadata": {},
   "outputs": [],
   "source": [
    "flowlines_to_spills = pd.read_excel('flowlines_to_spills.xlsx')\n"
   ]
  },
  {
   "cell_type": "code",
   "execution_count": 20,
   "metadata": {},
   "outputs": [
    {
     "data": {
      "text/html": [
       "<div>\n",
       "<style scoped>\n",
       "    .dataframe tbody tr th:only-of-type {\n",
       "        vertical-align: middle;\n",
       "    }\n",
       "\n",
       "    .dataframe tbody tr th {\n",
       "        vertical-align: top;\n",
       "    }\n",
       "\n",
       "    .dataframe thead th {\n",
       "        text-align: right;\n",
       "    }\n",
       "</style>\n",
       "<table border=\"1\" class=\"dataframe\">\n",
       "  <thead>\n",
       "    <tr style=\"text-align: right;\">\n",
       "      <th></th>\n",
       "      <th>Unnamed: 0</th>\n",
       "      <th>DOC_NUM</th>\n",
       "      <th>FORM_NUM</th>\n",
       "      <th>RECEIVE_DATE</th>\n",
       "      <th>OPERATOR_NUM</th>\n",
       "      <th>COMPANY_NAME</th>\n",
       "      <th>SUBMIT_DATE</th>\n",
       "      <th>STATUS_DATE</th>\n",
       "      <th>FACILITY_ID</th>\n",
       "      <th>STATUS</th>\n",
       "      <th>...</th>\n",
       "      <th>other_recovered</th>\n",
       "      <th>other_spilled_specify</th>\n",
       "      <th>facility_status</th>\n",
       "      <th>Basin</th>\n",
       "      <th>Gathering?</th>\n",
       "      <th>Metallic?</th>\n",
       "      <th>Unnamed: 121</th>\n",
       "      <th>nan.1</th>\n",
       "      <th>On Location?</th>\n",
       "      <th>Fac or Loc ID</th>\n",
       "    </tr>\n",
       "  </thead>\n",
       "  <tbody>\n",
       "    <tr>\n",
       "      <th>0</th>\n",
       "      <td>0</td>\n",
       "      <td>403429524</td>\n",
       "      <td>44</td>\n",
       "      <td>2023-06-09 15:35:41.937</td>\n",
       "      <td>74165</td>\n",
       "      <td>RENEGADE OIL &amp; GAS COMPANY LLC                ...</td>\n",
       "      <td>2023-06-09 15:35:41.937</td>\n",
       "      <td>2023-06-20 11:03:15.7</td>\n",
       "      <td>NaN</td>\n",
       "      <td>APPROVED</td>\n",
       "      <td>...</td>\n",
       "      <td>NaN</td>\n",
       "      <td>0.0</td>\n",
       "      <td>CL</td>\n",
       "      <td>DENVER JULESBURG BASIN</td>\n",
       "      <td>Non-Gathering</td>\n",
       "      <td>Unknown</td>\n",
       "      <td>NaN</td>\n",
       "      <td>NaN</td>\n",
       "      <td>NaN</td>\n",
       "      <td>NaN</td>\n",
       "    </tr>\n",
       "    <tr>\n",
       "      <th>1</th>\n",
       "      <td>1</td>\n",
       "      <td>403363799</td>\n",
       "      <td>44</td>\n",
       "      <td>2023-04-19 16:09:48.24</td>\n",
       "      <td>46290</td>\n",
       "      <td>KP KAUFFMAN COMPANY INC                       ...</td>\n",
       "      <td>2023-04-19 16:09:48.24</td>\n",
       "      <td>2023-05-09 11:21:01.897</td>\n",
       "      <td>NaN</td>\n",
       "      <td>APPROVED</td>\n",
       "      <td>...</td>\n",
       "      <td>0.0</td>\n",
       "      <td>NaN</td>\n",
       "      <td>NaN</td>\n",
       "      <td>Denver (DJ) Basin</td>\n",
       "      <td>NaN</td>\n",
       "      <td>NaN</td>\n",
       "      <td></td>\n",
       "      <td></td>\n",
       "      <td>NaN</td>\n",
       "      <td>NaN</td>\n",
       "    </tr>\n",
       "    <tr>\n",
       "      <th>2</th>\n",
       "      <td>2</td>\n",
       "      <td>403126512</td>\n",
       "      <td>44</td>\n",
       "      <td>2022-08-04 10:27:50.017</td>\n",
       "      <td>74165</td>\n",
       "      <td>RENEGADE OIL &amp; GAS COMPANY LLC                ...</td>\n",
       "      <td>2022-08-04 10:27:50.017</td>\n",
       "      <td>2023-03-21 13:24:17.02</td>\n",
       "      <td>NaN</td>\n",
       "      <td>APPROVED</td>\n",
       "      <td>...</td>\n",
       "      <td>NaN</td>\n",
       "      <td>NaN</td>\n",
       "      <td>AC</td>\n",
       "      <td>DENVER JULESBURG BASIN</td>\n",
       "      <td>Gathering</td>\n",
       "      <td>Metallic</td>\n",
       "      <td>NaN</td>\n",
       "      <td>NaN</td>\n",
       "      <td>NaN</td>\n",
       "      <td>NaN</td>\n",
       "    </tr>\n",
       "    <tr>\n",
       "      <th>3</th>\n",
       "      <td>3</td>\n",
       "      <td>403126512</td>\n",
       "      <td>44</td>\n",
       "      <td>2022-08-04 10:27:50.017</td>\n",
       "      <td>74165</td>\n",
       "      <td>RENEGADE OIL &amp; GAS COMPANY LLC                ...</td>\n",
       "      <td>2022-08-04 10:27:50.017</td>\n",
       "      <td>2023-03-21 13:24:17.02</td>\n",
       "      <td>NaN</td>\n",
       "      <td>APPROVED</td>\n",
       "      <td>...</td>\n",
       "      <td>NaN</td>\n",
       "      <td>NaN</td>\n",
       "      <td>AC</td>\n",
       "      <td>DENVER JULESBURG BASIN</td>\n",
       "      <td>Gathering</td>\n",
       "      <td>Metallic</td>\n",
       "      <td>NaN</td>\n",
       "      <td>NaN</td>\n",
       "      <td>NaN</td>\n",
       "      <td>NaN</td>\n",
       "    </tr>\n",
       "    <tr>\n",
       "      <th>4</th>\n",
       "      <td>4</td>\n",
       "      <td>403102780</td>\n",
       "      <td>44</td>\n",
       "      <td>2022-07-12 15:19:28.42</td>\n",
       "      <td>10112</td>\n",
       "      <td>FOUNDATION ENERGY MANAGEMENT LLC              ...</td>\n",
       "      <td>2022-07-12 15:19:28.42</td>\n",
       "      <td>2022-08-12 12:47:54.697</td>\n",
       "      <td>NaN</td>\n",
       "      <td>APPROVED</td>\n",
       "      <td>...</td>\n",
       "      <td>NaN</td>\n",
       "      <td>0.0</td>\n",
       "      <td>NaN</td>\n",
       "      <td>DOUGLAS CREEK ARCH</td>\n",
       "      <td>Non-Gathering</td>\n",
       "      <td>Unknown</td>\n",
       "      <td>NaN</td>\n",
       "      <td>NaN</td>\n",
       "      <td>NaN</td>\n",
       "      <td>NaN</td>\n",
       "    </tr>\n",
       "    <tr>\n",
       "      <th>...</th>\n",
       "      <td>...</td>\n",
       "      <td>...</td>\n",
       "      <td>...</td>\n",
       "      <td>...</td>\n",
       "      <td>...</td>\n",
       "      <td>...</td>\n",
       "      <td>...</td>\n",
       "      <td>...</td>\n",
       "      <td>...</td>\n",
       "      <td>...</td>\n",
       "      <td>...</td>\n",
       "      <td>...</td>\n",
       "      <td>...</td>\n",
       "      <td>...</td>\n",
       "      <td>...</td>\n",
       "      <td>...</td>\n",
       "      <td>...</td>\n",
       "      <td>...</td>\n",
       "      <td>...</td>\n",
       "      <td>...</td>\n",
       "      <td>...</td>\n",
       "    </tr>\n",
       "    <tr>\n",
       "      <th>140</th>\n",
       "      <td>140</td>\n",
       "      <td>401818776</td>\n",
       "      <td>44</td>\n",
       "      <td>2019-02-04 13:40:06.317</td>\n",
       "      <td>47120</td>\n",
       "      <td>KERR MCGEE OIL &amp; GAS ONSHORE LP               ...</td>\n",
       "      <td>2019-02-04 13:40:06.317</td>\n",
       "      <td>2019-02-07 12:21:34.703</td>\n",
       "      <td>NaN</td>\n",
       "      <td>APPROVED</td>\n",
       "      <td>...</td>\n",
       "      <td>0.0</td>\n",
       "      <td>NaN</td>\n",
       "      <td>NaN</td>\n",
       "      <td>Denver (DJ) Basin</td>\n",
       "      <td>NaN</td>\n",
       "      <td>NaN</td>\n",
       "      <td></td>\n",
       "      <td></td>\n",
       "      <td>NaN</td>\n",
       "      <td>453653.0</td>\n",
       "    </tr>\n",
       "    <tr>\n",
       "      <th>141</th>\n",
       "      <td>141</td>\n",
       "      <td>401818776</td>\n",
       "      <td>44</td>\n",
       "      <td>2019-02-04 13:40:06.317</td>\n",
       "      <td>47120</td>\n",
       "      <td>KERR MCGEE OIL &amp; GAS ONSHORE LP               ...</td>\n",
       "      <td>2019-02-04 13:40:06.317</td>\n",
       "      <td>2019-02-07 12:21:34.703</td>\n",
       "      <td>NaN</td>\n",
       "      <td>APPROVED</td>\n",
       "      <td>...</td>\n",
       "      <td>0.0</td>\n",
       "      <td>NaN</td>\n",
       "      <td>NaN</td>\n",
       "      <td>Denver (DJ) Basin</td>\n",
       "      <td>NaN</td>\n",
       "      <td>NaN</td>\n",
       "      <td></td>\n",
       "      <td></td>\n",
       "      <td>NaN</td>\n",
       "      <td>453653.0</td>\n",
       "    </tr>\n",
       "    <tr>\n",
       "      <th>142</th>\n",
       "      <td>142</td>\n",
       "      <td>401659547</td>\n",
       "      <td>44</td>\n",
       "      <td>2018-06-14 16:09:57.213</td>\n",
       "      <td>100322</td>\n",
       "      <td>NOBLE ENERGY INC                              ...</td>\n",
       "      <td>2018-06-14 16:09:57.213</td>\n",
       "      <td>2018-10-05 08:51:21.01</td>\n",
       "      <td>NaN</td>\n",
       "      <td>APPROVED</td>\n",
       "      <td>...</td>\n",
       "      <td>NaN</td>\n",
       "      <td>NaN</td>\n",
       "      <td>NaN</td>\n",
       "      <td>DENVER JULESBURG BASIN</td>\n",
       "      <td>Non-Gathering</td>\n",
       "      <td>Unknown</td>\n",
       "      <td>NaN</td>\n",
       "      <td>NaN</td>\n",
       "      <td>NaN</td>\n",
       "      <td>NaN</td>\n",
       "    </tr>\n",
       "    <tr>\n",
       "      <th>143</th>\n",
       "      <td>143</td>\n",
       "      <td>401728426</td>\n",
       "      <td>44</td>\n",
       "      <td>2018-09-07 10:49:02.497</td>\n",
       "      <td>10261</td>\n",
       "      <td>BAYSWATER EXPLORATION &amp; PRODUCTION LLC        ...</td>\n",
       "      <td>2018-09-07 10:49:02.497</td>\n",
       "      <td>2018-09-17 15:53:22.25</td>\n",
       "      <td>NaN</td>\n",
       "      <td>APPROVED</td>\n",
       "      <td>...</td>\n",
       "      <td>NaN</td>\n",
       "      <td>NaN</td>\n",
       "      <td>CL</td>\n",
       "      <td>DENVER JULESBURG BASIN</td>\n",
       "      <td>Non-Gathering</td>\n",
       "      <td>Unknown</td>\n",
       "      <td>NaN</td>\n",
       "      <td>NaN</td>\n",
       "      <td>NaN</td>\n",
       "      <td>NaN</td>\n",
       "    </tr>\n",
       "    <tr>\n",
       "      <th>144</th>\n",
       "      <td>144</td>\n",
       "      <td>401686092</td>\n",
       "      <td>44</td>\n",
       "      <td>2018-06-26 13:27:26.07</td>\n",
       "      <td>100322</td>\n",
       "      <td>NOBLE ENERGY INC                              ...</td>\n",
       "      <td>2018-06-26 13:27:26.07</td>\n",
       "      <td>2018-07-13 13:04:26.003</td>\n",
       "      <td>NaN</td>\n",
       "      <td>APPROVED</td>\n",
       "      <td>...</td>\n",
       "      <td>NaN</td>\n",
       "      <td>NaN</td>\n",
       "      <td>AC</td>\n",
       "      <td>DENVER JULESBURG BASIN</td>\n",
       "      <td>Non-Gathering</td>\n",
       "      <td>Unknown</td>\n",
       "      <td>NaN</td>\n",
       "      <td>NaN</td>\n",
       "      <td>NaN</td>\n",
       "      <td>NaN</td>\n",
       "    </tr>\n",
       "  </tbody>\n",
       "</table>\n",
       "<p>145 rows × 125 columns</p>\n",
       "</div>"
      ],
      "text/plain": [
       "     Unnamed: 0    DOC_NUM  FORM_NUM             RECEIVE_DATE  OPERATOR_NUM  \\\n",
       "0             0  403429524        44  2023-06-09 15:35:41.937         74165   \n",
       "1             1  403363799        44   2023-04-19 16:09:48.24         46290   \n",
       "2             2  403126512        44  2022-08-04 10:27:50.017         74165   \n",
       "3             3  403126512        44  2022-08-04 10:27:50.017         74165   \n",
       "4             4  403102780        44   2022-07-12 15:19:28.42         10112   \n",
       "..          ...        ...       ...                      ...           ...   \n",
       "140         140  401818776        44  2019-02-04 13:40:06.317         47120   \n",
       "141         141  401818776        44  2019-02-04 13:40:06.317         47120   \n",
       "142         142  401659547        44  2018-06-14 16:09:57.213        100322   \n",
       "143         143  401728426        44  2018-09-07 10:49:02.497         10261   \n",
       "144         144  401686092        44   2018-06-26 13:27:26.07        100322   \n",
       "\n",
       "                                          COMPANY_NAME  \\\n",
       "0    RENEGADE OIL & GAS COMPANY LLC                ...   \n",
       "1    KP KAUFFMAN COMPANY INC                       ...   \n",
       "2    RENEGADE OIL & GAS COMPANY LLC                ...   \n",
       "3    RENEGADE OIL & GAS COMPANY LLC                ...   \n",
       "4    FOUNDATION ENERGY MANAGEMENT LLC              ...   \n",
       "..                                                 ...   \n",
       "140  KERR MCGEE OIL & GAS ONSHORE LP               ...   \n",
       "141  KERR MCGEE OIL & GAS ONSHORE LP               ...   \n",
       "142  NOBLE ENERGY INC                              ...   \n",
       "143  BAYSWATER EXPLORATION & PRODUCTION LLC        ...   \n",
       "144  NOBLE ENERGY INC                              ...   \n",
       "\n",
       "                 SUBMIT_DATE              STATUS_DATE  FACILITY_ID  \\\n",
       "0    2023-06-09 15:35:41.937    2023-06-20 11:03:15.7          NaN   \n",
       "1     2023-04-19 16:09:48.24  2023-05-09 11:21:01.897          NaN   \n",
       "2    2022-08-04 10:27:50.017   2023-03-21 13:24:17.02          NaN   \n",
       "3    2022-08-04 10:27:50.017   2023-03-21 13:24:17.02          NaN   \n",
       "4     2022-07-12 15:19:28.42  2022-08-12 12:47:54.697          NaN   \n",
       "..                       ...                      ...          ...   \n",
       "140  2019-02-04 13:40:06.317  2019-02-07 12:21:34.703          NaN   \n",
       "141  2019-02-04 13:40:06.317  2019-02-07 12:21:34.703          NaN   \n",
       "142  2018-06-14 16:09:57.213   2018-10-05 08:51:21.01          NaN   \n",
       "143  2018-09-07 10:49:02.497   2018-09-17 15:53:22.25          NaN   \n",
       "144   2018-06-26 13:27:26.07  2018-07-13 13:04:26.003          NaN   \n",
       "\n",
       "         STATUS  ... other_recovered other_spilled_specify facility_status  \\\n",
       "0    APPROVED    ...             NaN                   0.0              CL   \n",
       "1    APPROVED    ...             0.0                   NaN             NaN   \n",
       "2    APPROVED    ...             NaN                   NaN              AC   \n",
       "3    APPROVED    ...             NaN                   NaN              AC   \n",
       "4    APPROVED    ...             NaN                   0.0             NaN   \n",
       "..          ...  ...             ...                   ...             ...   \n",
       "140  APPROVED    ...             0.0                   NaN             NaN   \n",
       "141  APPROVED    ...             0.0                   NaN             NaN   \n",
       "142  APPROVED    ...             NaN                   NaN             NaN   \n",
       "143  APPROVED    ...             NaN                   NaN              CL   \n",
       "144  APPROVED    ...             NaN                   NaN              AC   \n",
       "\n",
       "                      Basin     Gathering? Metallic? Unnamed: 121  nan.1  \\\n",
       "0    DENVER JULESBURG BASIN  Non-Gathering   Unknown          NaN    NaN   \n",
       "1         Denver (DJ) Basin            NaN       NaN                       \n",
       "2    DENVER JULESBURG BASIN      Gathering  Metallic          NaN    NaN   \n",
       "3    DENVER JULESBURG BASIN      Gathering  Metallic          NaN    NaN   \n",
       "4        DOUGLAS CREEK ARCH  Non-Gathering   Unknown          NaN    NaN   \n",
       "..                      ...            ...       ...          ...    ...   \n",
       "140       Denver (DJ) Basin            NaN       NaN                       \n",
       "141       Denver (DJ) Basin            NaN       NaN                       \n",
       "142  DENVER JULESBURG BASIN  Non-Gathering   Unknown          NaN    NaN   \n",
       "143  DENVER JULESBURG BASIN  Non-Gathering   Unknown          NaN    NaN   \n",
       "144  DENVER JULESBURG BASIN  Non-Gathering   Unknown          NaN    NaN   \n",
       "\n",
       "    On Location?  Fac or Loc ID  \n",
       "0            NaN            NaN  \n",
       "1            NaN            NaN  \n",
       "2            NaN            NaN  \n",
       "3            NaN            NaN  \n",
       "4            NaN            NaN  \n",
       "..           ...            ...  \n",
       "140          NaN       453653.0  \n",
       "141          NaN       453653.0  \n",
       "142          NaN            NaN  \n",
       "143          NaN            NaN  \n",
       "144          NaN            NaN  \n",
       "\n",
       "[145 rows x 125 columns]"
      ]
     },
     "execution_count": 20,
     "metadata": {},
     "output_type": "execute_result"
    }
   ],
   "source": [
    "flowlines_to_spills"
   ]
  }
 ],
 "metadata": {
  "kernelspec": {
   "display_name": ".venv",
   "language": "python",
   "name": "python3"
  },
  "language_info": {
   "codemirror_mode": {
    "name": "ipython",
    "version": 3
   },
   "file_extension": ".py",
   "mimetype": "text/x-python",
   "name": "python",
   "nbconvert_exporter": "python",
   "pygments_lexer": "ipython3",
   "version": "3.9.6"
  }
 },
 "nbformat": 4,
 "nbformat_minor": 2
}
