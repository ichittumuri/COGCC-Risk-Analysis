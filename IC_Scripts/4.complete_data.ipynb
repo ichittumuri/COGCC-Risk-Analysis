{
 "cells": [
  {
   "cell_type": "markdown",
   "metadata": {},
   "source": [
    "## Setup"
   ]
  },
  {
   "cell_type": "code",
   "execution_count": 1,
   "metadata": {},
   "outputs": [
    {
     "name": "stderr",
     "output_type": "stream",
     "text": [
      "/var/folders/p3/gs65vvgs1wd90mnxb3q3hvy80000gp/T/ipykernel_12702/1805498532.py:2: DeprecationWarning: \n",
      "Pyarrow will become a required dependency of pandas in the next major release of pandas (pandas 3.0),\n",
      "(to allow more performant data types, such as the Arrow string type, and better interoperability with other libraries)\n",
      "but was not found to be installed on your system.\n",
      "If this would cause problems for you,\n",
      "please provide us feedback at https://github.com/pandas-dev/pandas/issues/54466\n",
      "        \n",
      "  import pandas as pd\n"
     ]
    }
   ],
   "source": [
    "import os\n",
    "import pandas as pd\n",
    "import geopandas as gpd\n",
    "from shapely.geometry import Point, Polygon, MultiLineString, LineString,MultiPolygon, MultiPoint\n",
    "os.chdir('/Users/ichittumuri/Desktop/MINES/COGCC-Risk-Analysis/Data')\n",
    "pd.options.display.max_columns = None"
   ]
  },
  {
   "cell_type": "code",
   "execution_count": 3,
   "metadata": {},
   "outputs": [],
   "source": [
    "# Load Data\n",
    "all_flowlines_gdf = gpd.read_file('all_flowlines.geojson')\n",
    "matched_spills_gdf = gpd.read_file('matched_spills.geojson')"
   ]
  },
  {
   "cell_type": "code",
   "execution_count": 4,
   "metadata": {},
   "outputs": [
    {
     "name": "stdout",
     "output_type": "stream",
     "text": [
      "(335177, 26)\n",
      "(417, 14)\n"
     ]
    }
   ],
   "source": [
    "# Check size\n",
    "print(all_flowlines_gdf.shape)\n",
    "print(matched_spills_gdf.shape)"
   ]
  },
  {
   "cell_type": "code",
   "execution_count": 5,
   "metadata": {},
   "outputs": [
    {
     "data": {
      "text/html": [
       "<div>\n",
       "<style scoped>\n",
       "    .dataframe tbody tr th:only-of-type {\n",
       "        vertical-align: middle;\n",
       "    }\n",
       "\n",
       "    .dataframe tbody tr th {\n",
       "        vertical-align: top;\n",
       "    }\n",
       "\n",
       "    .dataframe thead th {\n",
       "        text-align: right;\n",
       "    }\n",
       "</style>\n",
       "<table border=\"1\" class=\"dataframe\">\n",
       "  <thead>\n",
       "    <tr style=\"text-align: right;\">\n",
       "      <th></th>\n",
       "      <th>Operator</th>\n",
       "      <th>Fluid</th>\n",
       "      <th>Material</th>\n",
       "      <th>Diam_in</th>\n",
       "      <th>Status</th>\n",
       "      <th>Length_ft</th>\n",
       "      <th>SHAPE_Length</th>\n",
       "      <th>LOCATION_ID</th>\n",
       "      <th>FLOWLINEID</th>\n",
       "      <th>STARTLOCATIONID</th>\n",
       "      <th>FLOWLINEACTION</th>\n",
       "      <th>ENTIRELINEREMOVED</th>\n",
       "      <th>ACTIONDESCRIPTION</th>\n",
       "      <th>RECEIVE_DATE</th>\n",
       "      <th>OPERATOR_NUM</th>\n",
       "      <th>COMPANY_NAME</th>\n",
       "      <th>LOCATIONTYPE</th>\n",
       "      <th>ENDLAT</th>\n",
       "      <th>ENDLONG</th>\n",
       "      <th>STARTLAT</th>\n",
       "      <th>STARTLONG</th>\n",
       "      <th>PIPEMATERIAL</th>\n",
       "      <th>BEDDINGMATERIAL</th>\n",
       "      <th>TYPEOFFLUIDTRANS</th>\n",
       "      <th>MAXOPPRESSURE</th>\n",
       "      <th>geometry</th>\n",
       "    </tr>\n",
       "  </thead>\n",
       "  <tbody>\n",
       "    <tr>\n",
       "      <th>0</th>\n",
       "      <td>EVERGREEN NATURAL RESOURCES LLC</td>\n",
       "      <td>Gas</td>\n",
       "      <td>polly</td>\n",
       "      <td>4.0</td>\n",
       "      <td>Active</td>\n",
       "      <td>2277.71</td>\n",
       "      <td>693.972162</td>\n",
       "      <td>NaN</td>\n",
       "      <td>NaN</td>\n",
       "      <td>NaN</td>\n",
       "      <td>None</td>\n",
       "      <td>None</td>\n",
       "      <td>None</td>\n",
       "      <td>None</td>\n",
       "      <td>NaN</td>\n",
       "      <td>None</td>\n",
       "      <td>None</td>\n",
       "      <td>NaN</td>\n",
       "      <td>NaN</td>\n",
       "      <td>NaN</td>\n",
       "      <td>NaN</td>\n",
       "      <td>None</td>\n",
       "      <td>None</td>\n",
       "      <td>None</td>\n",
       "      <td>NaN</td>\n",
       "      <td>MULTILINESTRING ((524642.670 4117088.796, 5246...</td>\n",
       "    </tr>\n",
       "    <tr>\n",
       "      <th>1</th>\n",
       "      <td>NOBLE ENERGY INC</td>\n",
       "      <td>Multiphase</td>\n",
       "      <td>Carbon Steel</td>\n",
       "      <td>3.0</td>\n",
       "      <td>Abandoned</td>\n",
       "      <td>651.58</td>\n",
       "      <td>198.525215</td>\n",
       "      <td>NaN</td>\n",
       "      <td>NaN</td>\n",
       "      <td>NaN</td>\n",
       "      <td>None</td>\n",
       "      <td>None</td>\n",
       "      <td>None</td>\n",
       "      <td>None</td>\n",
       "      <td>NaN</td>\n",
       "      <td>None</td>\n",
       "      <td>None</td>\n",
       "      <td>NaN</td>\n",
       "      <td>NaN</td>\n",
       "      <td>NaN</td>\n",
       "      <td>NaN</td>\n",
       "      <td>None</td>\n",
       "      <td>None</td>\n",
       "      <td>None</td>\n",
       "      <td>NaN</td>\n",
       "      <td>MULTILINESTRING ((527997.281 4463899.920, 5281...</td>\n",
       "    </tr>\n",
       "  </tbody>\n",
       "</table>\n",
       "</div>"
      ],
      "text/plain": [
       "                          Operator       Fluid      Material  Diam_in  \\\n",
       "0  EVERGREEN NATURAL RESOURCES LLC         Gas         polly      4.0   \n",
       "1                 NOBLE ENERGY INC  Multiphase  Carbon Steel      3.0   \n",
       "\n",
       "      Status  Length_ft  SHAPE_Length  LOCATION_ID  FLOWLINEID  \\\n",
       "0     Active    2277.71    693.972162          NaN         NaN   \n",
       "1  Abandoned     651.58    198.525215          NaN         NaN   \n",
       "\n",
       "   STARTLOCATIONID FLOWLINEACTION ENTIRELINEREMOVED ACTIONDESCRIPTION  \\\n",
       "0              NaN           None              None              None   \n",
       "1              NaN           None              None              None   \n",
       "\n",
       "  RECEIVE_DATE  OPERATOR_NUM COMPANY_NAME LOCATIONTYPE  ENDLAT  ENDLONG  \\\n",
       "0         None           NaN         None         None     NaN      NaN   \n",
       "1         None           NaN         None         None     NaN      NaN   \n",
       "\n",
       "   STARTLAT  STARTLONG PIPEMATERIAL BEDDINGMATERIAL TYPEOFFLUIDTRANS  \\\n",
       "0       NaN        NaN         None            None             None   \n",
       "1       NaN        NaN         None            None             None   \n",
       "\n",
       "   MAXOPPRESSURE                                           geometry  \n",
       "0            NaN  MULTILINESTRING ((524642.670 4117088.796, 5246...  \n",
       "1            NaN  MULTILINESTRING ((527997.281 4463899.920, 5281...  "
      ]
     },
     "execution_count": 5,
     "metadata": {},
     "output_type": "execute_result"
    }
   ],
   "source": [
    "all_flowlines_gdf.head(2)"
   ]
  },
  {
   "cell_type": "code",
   "execution_count": 6,
   "metadata": {},
   "outputs": [
    {
     "data": {
      "text/html": [
       "<div>\n",
       "<style scoped>\n",
       "    .dataframe tbody tr th:only-of-type {\n",
       "        vertical-align: middle;\n",
       "    }\n",
       "\n",
       "    .dataframe tbody tr th {\n",
       "        vertical-align: top;\n",
       "    }\n",
       "\n",
       "    .dataframe thead th {\n",
       "        text-align: right;\n",
       "    }\n",
       "</style>\n",
       "<table border=\"1\" class=\"dataframe\">\n",
       "  <thead>\n",
       "    <tr style=\"text-align: right;\">\n",
       "      <th></th>\n",
       "      <th>trkg_num</th>\n",
       "      <th>Operator Name</th>\n",
       "      <th>facility_type</th>\n",
       "      <th>Spill_Desc</th>\n",
       "      <th>Spill Type</th>\n",
       "      <th>Root Cause</th>\n",
       "      <th>Preventative Measure</th>\n",
       "      <th>Root Cause Type</th>\n",
       "      <th>Detailed Root Cause Type</th>\n",
       "      <th>Long</th>\n",
       "      <th>Lat</th>\n",
       "      <th>facility_status</th>\n",
       "      <th>Metallic?</th>\n",
       "      <th>geometry</th>\n",
       "    </tr>\n",
       "  </thead>\n",
       "  <tbody>\n",
       "    <tr>\n",
       "      <th>0</th>\n",
       "      <td>401576719</td>\n",
       "      <td>NOBLE ENERGY INC</td>\n",
       "      <td>TANK BATTERY</td>\n",
       "      <td>During decommisioning of facilitiy soil impact...</td>\n",
       "      <td>1</td>\n",
       "      <td>Historical impacts were discovered during dism...</td>\n",
       "      <td>The site was dismantled and reclamation has oc...</td>\n",
       "      <td>Unknown</td>\n",
       "      <td>Unknown</td>\n",
       "      <td>-104.602541</td>\n",
       "      <td>40.319666</td>\n",
       "      <td>CL</td>\n",
       "      <td>Unknown</td>\n",
       "      <td>POINT (533768.292 4463313.786)</td>\n",
       "    </tr>\n",
       "    <tr>\n",
       "      <th>1</th>\n",
       "      <td>401585074</td>\n",
       "      <td>NOBLE ENERGY INC</td>\n",
       "      <td>TANK BATTERY</td>\n",
       "      <td>During reclamation activities historical impac...</td>\n",
       "      <td>1</td>\n",
       "      <td>During reclamation of the oil and gas facility...</td>\n",
       "      <td>The location was plugged and abandoned and exc...</td>\n",
       "      <td>Unknown</td>\n",
       "      <td>Unknown</td>\n",
       "      <td>-104.754486</td>\n",
       "      <td>40.484583</td>\n",
       "      <td>CL</td>\n",
       "      <td>Unknown</td>\n",
       "      <td>POINT (520808.120 4481572.394)</td>\n",
       "    </tr>\n",
       "  </tbody>\n",
       "</table>\n",
       "</div>"
      ],
      "text/plain": [
       "    trkg_num     Operator Name facility_type  \\\n",
       "0  401576719  NOBLE ENERGY INC  TANK BATTERY   \n",
       "1  401585074  NOBLE ENERGY INC  TANK BATTERY   \n",
       "\n",
       "                                          Spill_Desc Spill Type  \\\n",
       "0  During decommisioning of facilitiy soil impact...          1   \n",
       "1  During reclamation activities historical impac...          1   \n",
       "\n",
       "                                          Root Cause  \\\n",
       "0  Historical impacts were discovered during dism...   \n",
       "1  During reclamation of the oil and gas facility...   \n",
       "\n",
       "                                Preventative Measure Root Cause Type  \\\n",
       "0  The site was dismantled and reclamation has oc...         Unknown   \n",
       "1  The location was plugged and abandoned and exc...         Unknown   \n",
       "\n",
       "  Detailed Root Cause Type        Long        Lat facility_status Metallic?  \\\n",
       "0                  Unknown -104.602541  40.319666              CL   Unknown   \n",
       "1                  Unknown -104.754486  40.484583              CL   Unknown   \n",
       "\n",
       "                         geometry  \n",
       "0  POINT (533768.292 4463313.786)  \n",
       "1  POINT (520808.120 4481572.394)  "
      ]
     },
     "execution_count": 6,
     "metadata": {},
     "output_type": "execute_result"
    }
   ],
   "source": [
    "matched_spills_gdf.head(2)"
   ]
  },
  {
   "cell_type": "code",
   "execution_count": 8,
   "metadata": {},
   "outputs": [],
   "source": [
    "# Check if CRS is the same for both files\n",
    "if all_flowlines_gdf.crs != matched_spills_gdf.crs:\n",
    "    flowlines_gdf = all_flowlines_gdf.to_crs(matched_spills_gdf.crs)"
   ]
  },
  {
   "cell_type": "markdown",
   "metadata": {},
   "source": [
    "## Spatial Join"
   ]
  },
  {
   "cell_type": "code",
   "execution_count": 11,
   "metadata": {},
   "outputs": [
    {
     "name": "stderr",
     "output_type": "stream",
     "text": [
      "/Users/ichittumuri/Desktop/MINES/COGCC-Risk-Analysis/.venv/lib/python3.9/site-packages/IPython/core/interactiveshell.py:3490: FutureWarning: The `op` parameter is deprecated and will be removed in a future release. Please use the `predicate` parameter instead.\n",
      "  if await self.run_code(code, result, async_=asy):\n"
     ]
    },
    {
     "data": {
      "text/plain": [
       "(0, 40)"
      ]
     },
     "execution_count": 11,
     "metadata": {},
     "output_type": "execute_result"
    }
   ],
   "source": [
    "# Spatial join to find intersecting geometries\n",
    "# Add attributes from flowlines to matching entries in crude_oil_gdf\n",
    "complete_data = gpd.sjoin(all_flowlines_gdf, matched_spills_gdf, how=\"inner\", op='intersects')\n",
    "complete_data.shape"
   ]
  },
  {
   "cell_type": "code",
   "execution_count": 10,
   "metadata": {},
   "outputs": [
    {
     "name": "stdout",
     "output_type": "stream",
     "text": [
      "(0, 40)\n"
     ]
    }
   ],
   "source": [
    "# Normalize the text in 'COMPANY_NAME' and 'Operator' columns before comparison\n",
    "# This involves converting the text to lower case and stripping any leading/trailing spaces\n",
    "validated_matches = complete_data[\n",
    "    complete_data['COMPANY_NAME'].str.lower().str.strip() == complete_data['Operator'].str.lower().str.strip()\n",
    "]\n",
    "\n",
    "# Now, you can check the shape to see if there are any matches\n",
    "print(validated_matches.shape)"
   ]
  }
 ],
 "metadata": {
  "kernelspec": {
   "display_name": ".venv",
   "language": "python",
   "name": "python3"
  },
  "language_info": {
   "codemirror_mode": {
    "name": "ipython",
    "version": 3
   },
   "file_extension": ".py",
   "mimetype": "text/x-python",
   "name": "python",
   "nbconvert_exporter": "python",
   "pygments_lexer": "ipython3",
   "version": "3.9.6"
  }
 },
 "nbformat": 4,
 "nbformat_minor": 2
}
