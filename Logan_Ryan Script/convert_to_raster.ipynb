{
 "cells": [
  {
   "cell_type": "code",
   "execution_count": 18,
   "metadata": {},
   "outputs": [],
   "source": [
    "import geopandas as gpd\n",
    "import rasterio\n",
    "from rasterio.features import rasterize\n",
    "from rasterio.transform import from_bounds"
   ]
  },
  {
   "cell_type": "code",
   "execution_count": 19,
   "metadata": {},
   "outputs": [],
   "source": [
    "gdf = gpd.read_file('final_cleaned_gdf.geojson')\n"
   ]
  },
  {
   "cell_type": "code",
   "execution_count": 20,
   "metadata": {},
   "outputs": [],
   "source": [
    "pixel_size = 20           # Pixel size - uses meters by defualt (for vector data in ESPG coordinates). Im not sure what the best value is\n",
    "# I tried pixel_size=5 but I didn't have enough memory to run it on my computer\n",
    "bounds = gdf.total_bounds # Determine correct bounds for the dataset\n",
    "\n",
    "# make the bounds consistent with pixel size\n",
    "transform = from_bounds(*bounds, width=int((bounds[2] - bounds[0]) / pixel_size), height=int((bounds[3] - bounds[1]) / pixel_size)) \n"
   ]
  },
  {
   "cell_type": "code",
   "execution_count": 21,
   "metadata": {},
   "outputs": [
    {
     "name": "stdout",
     "output_type": "stream",
     "text": [
      "['operator_number', 'flowline_id', 'location_id', 'status', 'location_type', 'fluid', 'material', 'diameter_in', 'length_ft', 'max_operating_pressure', 'shape_length', 'line_age_yr', 'root_cause', 'risk', 'geometry']\n"
     ]
    }
   ],
   "source": [
    "# get the column names in a list\n",
    "attribute_names = gdf.columns.to_list()\n",
    "print(attribute_names)"
   ]
  },
  {
   "cell_type": "code",
   "execution_count": 22,
   "metadata": {},
   "outputs": [],
   "source": [
    "# Convert to raster\n",
    "out_shape = (\n",
    "    int((bounds[3] - bounds[1]) / pixel_size),  # height in pixels\n",
    "    int((bounds[2] - bounds[0]) / pixel_size)   # width in pixels\n",
    ")\n",
    "\n",
    "\n",
    "attributes = ['operator_number', 'flowline_id', 'location_id', 'status', 'location_type', 'fluid', \n",
    "              'material', 'diameter_in', 'length_ft', 'max_operating_pressure', 'shape_length', \n",
    "              'line_age_yr', 'root_cause', 'risk']\n",
    "\n",
    "# create a raster layer for each attribute\n",
    "rasters = {}\n",
    "for attribute in attributes:\n",
    "    shapes = [(geom, value) for geom, value in zip(gdf.geometry, gdf[attribute])]\n",
    "    raster = rasterize(shapes, out_shape=out_shape, transform=transform, fill=0, dtype='uint8')\n",
    "    rasters[attribute] = raster  # Store each raster in a dictionary for access later\n"
   ]
  },
  {
   "cell_type": "code",
   "execution_count": 23,
   "metadata": {},
   "outputs": [],
   "source": [
    "# Save to file\n",
    "with rasterio.open(\n",
    "    \"final_cleaned_raster.tif\",\n",
    "    \"w\",\n",
    "    driver=\"GTiff\",\n",
    "    height=raster.shape[0],\n",
    "    width=raster.shape[1],\n",
    "    count=1,\n",
    "    dtype=raster.dtype,\n",
    "    crs=gdf.crs,\n",
    "    transform=transform,\n",
    ") as dst:\n",
    "    dst.write(raster, 1)"
   ]
  }
 ],
 "metadata": {
  "kernelspec": {
   "display_name": "Python 3",
   "language": "python",
   "name": "python3"
  },
  "language_info": {
   "codemirror_mode": {
    "name": "ipython",
    "version": 3
   },
   "file_extension": ".py",
   "mimetype": "text/x-python",
   "name": "python",
   "nbconvert_exporter": "python",
   "pygments_lexer": "ipython3",
   "version": "3.10.6"
  }
 },
 "nbformat": 4,
 "nbformat_minor": 2
}
