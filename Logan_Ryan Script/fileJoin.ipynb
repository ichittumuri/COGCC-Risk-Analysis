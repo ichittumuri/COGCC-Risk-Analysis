{
 "cells": [
  {
   "cell_type": "code",
   "execution_count": 1,
   "metadata": {},
   "outputs": [],
   "source": [
    "import pandas as pd\n",
    "import geopandas as gpd\n",
    "from shapely.geometry import Point\n",
    "\n",
    "# Load the first three rows of each dataset\n",
    "large_dataset_path = 'C:/Users/logan/Research Project/transformed_coordinates.csv'\n",
    "small_dataset_path = 'C:/Users/logan/Research Project/COGCC-Risk-Analysis/Data/flowlines_to_spills.xlsx'\n",
    "\n",
    "large_dataset = pd.read_csv(large_dataset_path, nrows=3)\n",
    "small_dataset = pd.read_excel(small_dataset_path, nrows=3)\n"
   ]
  },
  {
   "cell_type": "code",
   "execution_count": 3,
   "metadata": {},
   "outputs": [],
   "source": [
    "def create_geodataframe(df, lat_col, lon_col):\n",
    "    #Converts a DataFrame with latitude and longitude columns to a GeoDataFrame\n",
    "    gdf = gpd.GeoDataFrame(df, geometry=[Point(xy) for xy in zip(df[lon_col], df[lat_col])])\n",
    "    gdf.crs = \"EPSG:4326\"  # Set CRS to WGS84\n",
    "    return gdf\n",
    "\n",
    "large_gdf = create_geodataframe(large_dataset, 'Latitude', 'Longitude')  # currently working\n",
    "small_gdf = create_geodataframe(small_dataset, 'LAT', 'LONG')  #Convert to geo data \n"
   ]
  },
  {
   "cell_type": "code",
   "execution_count": 5,
   "metadata": {},
   "outputs": [
    {
     "name": "stderr",
     "output_type": "stream",
     "text": [
      "c:\\Users\\logan\\AppData\\Local\\Programs\\Python\\Python39\\lib\\site-packages\\geopandas\\array.py:365: UserWarning: Geometry is in a geographic CRS. Results from 'sjoin_nearest' are likely incorrect. Use 'GeoSeries.to_crs()' to re-project geometries to a projected CRS before this operation.\n",
      "\n",
      "  warnings.warn(\n"
     ]
    },
    {
     "data": {
      "text/html": [
       "<div>\n",
       "<style scoped>\n",
       "    .dataframe tbody tr th:only-of-type {\n",
       "        vertical-align: middle;\n",
       "    }\n",
       "\n",
       "    .dataframe tbody tr th {\n",
       "        vertical-align: top;\n",
       "    }\n",
       "\n",
       "    .dataframe thead th {\n",
       "        text-align: right;\n",
       "    }\n",
       "</style>\n",
       "<table border=\"1\" class=\"dataframe\">\n",
       "  <thead>\n",
       "    <tr style=\"text-align: right;\">\n",
       "      <th></th>\n",
       "      <th>Unnamed: 0</th>\n",
       "      <th>DOC_NUM</th>\n",
       "      <th>FORM_NUM</th>\n",
       "      <th>RECEIVE_DATE</th>\n",
       "      <th>OPERATOR_NUM</th>\n",
       "      <th>COMPANY_NAME</th>\n",
       "      <th>SUBMIT_DATE</th>\n",
       "      <th>STATUS_DATE</th>\n",
       "      <th>FACILITY_ID</th>\n",
       "      <th>STATUS</th>\n",
       "      <th>...</th>\n",
       "      <th>Unnamed: 121</th>\n",
       "      <th>nan.1</th>\n",
       "      <th>On Location?</th>\n",
       "      <th>Fac or Loc ID</th>\n",
       "      <th>geometry</th>\n",
       "      <th>index_right</th>\n",
       "      <th>Line</th>\n",
       "      <th>Longitude</th>\n",
       "      <th>Latitude</th>\n",
       "      <th>distance</th>\n",
       "    </tr>\n",
       "  </thead>\n",
       "  <tbody>\n",
       "  </tbody>\n",
       "</table>\n",
       "<p>0 rows × 131 columns</p>\n",
       "</div>"
      ],
      "text/plain": [
       "Empty GeoDataFrame\n",
       "Columns: [Unnamed: 0, DOC_NUM, FORM_NUM, RECEIVE_DATE, OPERATOR_NUM, COMPANY_NAME, SUBMIT_DATE, STATUS_DATE, FACILITY_ID, STATUS, USER_NAME, DATA_ENTRY_DATE, DATA_ENTRY_OP, LOCATION_ID, LAST_USER, LAST_UPDATE_USER, LAST_UPDATE_DATE, EXPR1, LOCATIONTYPE, NOLOCATIONID, FACILITY_NAME, FACILITY_NUM, COUNTY, QTRQTR, SEC, TWP, RANGE, MERIDIAN, LAT, LONG, PDOP, MEASURE_DATE, INSTRUMENT_OPERATOR, REPORTTYPE, ONECALLCODE, PLANNEDCONSTRUCTDATE, ASBUILTSERVICEDATE, MODABANDINFO, PKEY, SYSTEMTYPE, FLOWLINEID, FLOWLINETYPE, ENDEQUIPTYPE, ENDLAT, ENDLONG, ENDUTMX, ENDUTMY, ENDPDOP, ENDDATE, TYPEOFSTARTLOCATION, STARTEQUIPTYPE, STARTLOCATIONID, STARTLOCATIONOID, STARTFACNAME, STARTFACNUMBER, STARTFACCOUNTY, STARTFACQTRQTR, STARTFACSECTION, STARTFACTWP, STARTFACRANGE, STARTFACMERIDIAN, STARTFACLAT, STARTFACLONG, STARTFACUTMX, STARTFACUTMY, STARTFACPDOP, STARTFACDATE, STARTLAT, STARTLONG, STARTUTMX, STARTUTMY, STARTPDOP, STARTDATE, CONSTRUCTDATE, PIPEMATERIAL, PIPEOTHER, BEDDINGMATERIAL, BEDDINGOTHER, MAXOD, TYPEOFFLUIDTRANS, OTHERFLUID, MAXOPPRESSURE, TESTINGPRESSURE, TESTDATE, FLOWLINEACTION, ACTIONDATE, ACTIONDESCRIPTION, ENTIRELINEREMOVED, OPERATORFLOWLINEID, join_col, trkg_num, Operator Name, operator_num, incident_date, facility_type, Spill_Desc, county, Spill Type, Root Cause, Preventative Measure, ...]\n",
       "Index: []\n",
       "\n",
       "[0 rows x 131 columns]"
      ]
     },
     "execution_count": 5,
     "metadata": {},
     "output_type": "execute_result"
    }
   ],
   "source": [
    "gpd.sjoin_nearest(small_gdf, large_gdf, max_distance=0.01, distance_col=\"distance\")  # 0.01 is an example distance in degrees\n"
   ]
  }
 ],
 "metadata": {
  "kernelspec": {
   "display_name": "Python 3",
   "language": "python",
   "name": "python3"
  },
  "language_info": {
   "codemirror_mode": {
    "name": "ipython",
    "version": 3
   },
   "file_extension": ".py",
   "mimetype": "text/x-python",
   "name": "python",
   "nbconvert_exporter": "python",
   "pygments_lexer": "ipython3",
   "version": "3.9.6"
  }
 },
 "nbformat": 4,
 "nbformat_minor": 2
}
