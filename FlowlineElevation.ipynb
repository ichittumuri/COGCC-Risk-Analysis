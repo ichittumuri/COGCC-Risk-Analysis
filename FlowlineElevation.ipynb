{
  "nbformat": 4,
  "nbformat_minor": 0,
  "metadata": {
    "colab": {
      "provenance": []
    },
    "kernelspec": {
      "name": "python3",
      "display_name": "Python 3"
    },
    "language_info": {
      "name": "python"
    }
  },
  "cells": [
    {
      "cell_type": "code",
      "execution_count": 2,
      "metadata": {
        "id": "7A96BxqfqRGP"
      },
      "outputs": [],
      "source": [
        "import geopandas as gpd\n",
        "import rasterio\n",
        "from rasterio import features\n",
        "import pandas as pd\n",
        "import numpy as np\n",
        "from shapely.geometry import LineString\n"
      ]
    },
    {
      "cell_type": "code",
      "source": [
        "import geopandas as gpd\n",
        "import rasterio\n",
        "import numpy as np\n",
        "import pandas as pd\n",
        "from shapely.geometry import LineString\n",
        "from pyproj import CRS\n",
        "\n",
        "# Load the flowlines GeoJSON file\n",
        "# Replace 'path_to_flowlines.geojson' with your actual file path\n",
        "flowlines = gpd.read_file('final_cleaned_gdf.geojson')\n",
        "\n",
        "# Load the DEM GeoTIFF file\n",
        "# Replace 'path_to_dem.tif' with your actual file path\n",
        "dem = rasterio.open('output_USGS30m.tif')\n",
        "\n",
        "# Ensure both datasets are in the same CRS\n",
        "dem_crs = CRS(dem.crs)\n",
        "\n",
        "if flowlines.crs != dem_crs:\n",
        "    flowlines = flowlines.to_crs(dem_crs)\n",
        "\n",
        "# Define a function to sample elevations along a flowline\n",
        "def sample_elevations_along_line(line_geom, dem, num_samples=100):\n",
        "    \"\"\"\n",
        "    Samples elevations along a line geometry from a DEM raster.\n",
        "\n",
        "    Parameters:\n",
        "    - line_geom: Shapely LineString geometry of the flowline.\n",
        "    - dem: Opened rasterio DEM object.\n",
        "    - num_samples: Number of points to sample along the line.\n",
        "\n",
        "    Returns:\n",
        "    - elevations: List of elevation values sampled from the DEM.\n",
        "    \"\"\"\n",
        "    # Generate equally spaced points along the line\n",
        "    distances = np.linspace(0, line_geom.length, num_samples)\n",
        "    points = [line_geom.interpolate(distance) for distance in distances]\n",
        "    # Get the coordinates of the points\n",
        "    coords = [(point.x, point.y) for point in points]\n",
        "    # Sample the DEM at these points\n",
        "    elevations = []\n",
        "    for coord in coords:\n",
        "        try:\n",
        "            # Sample the DEM at the coordinate\n",
        "            elevation = list(dem.sample([coord]))[0][0]\n",
        "            if dem.nodata is not None and elevation == dem.nodata:\n",
        "                elevations.append(None)\n",
        "            else:\n",
        "                elevations.append(elevation)\n",
        "        except Exception as e:\n",
        "            elevations.append(None)\n",
        "    # Filter out None values\n",
        "    elevations = [e for e in elevations if e is not None and not np.isnan(e)]\n",
        "    return elevations\n",
        "\n",
        "# Prepare a list to store the results\n",
        "results = []\n",
        "\n",
        "# Iterate over each flowline\n",
        "for idx, row in flowlines.iterrows():\n",
        "    line_geom = row.geometry\n",
        "    # Sample elevations along the line\n",
        "    elevations = sample_elevations_along_line(line_geom, dem)\n",
        "    # Check if we have any elevations\n",
        "    if elevations:\n",
        "        max_elev = max(elevations)\n",
        "        min_elev = min(elevations)\n",
        "        avg_elev = sum(elevations) / len(elevations)\n",
        "    else:\n",
        "        max_elev = min_elev = avg_elev = None\n",
        "    # Store the results\n",
        "    results.append({\n",
        "        'Flowline_ID': row.get('id', idx),  # Replace 'id' with your unique identifier field\n",
        "        'Max_Elevation': max_elev,\n",
        "        'Min_Elevation': min_elev,\n",
        "        'Avg_Elevation': avg_elev\n",
        "    })\n",
        "\n",
        "# Create a DataFrame from the results\n",
        "elevation_df = pd.DataFrame(results)\n",
        "\n",
        "# Export the results to an Excel file\n",
        "# Replace 'flowline_elevations.xlsx' with your desired output file name\n",
        "elevation_df.to_excel('flowline_elevations.xlsx', index=False)\n",
        "\n",
        "print(\"Elevation statistics calculated and saved to 'flowline_elevations.xlsx'.\")\n"
      ],
      "metadata": {
        "id": "vyqewFSptMSM",
        "colab": {
          "base_uri": "https://localhost:8080/"
        },
        "outputId": "b903e184-5f38-4159-d6a0-9e234d35440f"
      },
      "execution_count": 7,
      "outputs": [
        {
          "output_type": "stream",
          "name": "stdout",
          "text": [
            "Elevation statistics calculated and saved to 'flowline_elevations.xlsx'.\n"
          ]
        }
      ]
    },
    {
      "cell_type": "code",
      "source": [
        ""
      ],
      "metadata": {
        "id": "yeTSqdFVxd0W"
      },
      "execution_count": null,
      "outputs": []
    },
    {
      "cell_type": "code",
      "source": [],
      "metadata": {
        "id": "fJ_7AM_96eW7"
      },
      "execution_count": null,
      "outputs": []
    }
  ]
}