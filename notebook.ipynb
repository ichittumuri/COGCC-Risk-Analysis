{
 "cells": [
  {
   "cell_type": "code",
   "execution_count": 1,
   "metadata": {},
   "outputs": [
    {
     "name": "stdout",
     "output_type": "stream",
     "text": [
      "os.path.exists(data_path) = True\n"
     ]
    }
   ],
   "source": [
    "import os\n",
    "import numpy as np\n",
    "import pandas as pd\n",
    "import geopandas as gpd\n",
    "\n",
    "data_path = \"ECMC_CSM_Flowline_Data_Access/COGCC_Form44_Off_Location_Flowlines_Approved_CONFIDENTIAL.gdb\"\n",
    "\n",
    "print(f\"{os.path.exists(data_path) = }\")\n"
   ]
  },
  {
   "cell_type": "code",
   "execution_count": 2,
   "metadata": {},
   "outputs": [
    {
     "name": "stdout",
     "output_type": "stream",
     "text": [
      "                               Operator       Fluid      Material  Diam_in  \\\n",
      "0       EVERGREEN NATURAL RESOURCES LLC         Gas         polly      4.0   \n",
      "1                      NOBLE ENERGY INC  Multiphase  Carbon Steel      3.0   \n",
      "2                        PDC ENERGY INC        None          None      NaN   \n",
      "3                      NOBLE ENERGY INC         Gas  Carbon Steel      3.0   \n",
      "4                      NOBLE ENERGY INC  Multiphase  Carbon Steel      3.0   \n",
      "...                                 ...         ...           ...      ...   \n",
      "150717                 NOBLE ENERGY INC  Multiphase  Carbon Steel      3.0   \n",
      "150718                 NOBLE ENERGY INC  Multiphase  Carbon Steel      2.0   \n",
      "150719           TEP ROCKY MOUNTAIN LLC  Multiphase  Coated Steel      2.0   \n",
      "150720           TEP ROCKY MOUNTAIN LLC  Multiphase  Coated Steel      2.0   \n",
      "150721                 NOBLE ENERGY INC  Multiphase  Carbon Steel      3.0   \n",
      "\n",
      "                             Status  Length_ft    Doc_Num  SHAPE_Length  \\\n",
      "0                            Active    2277.71  403322934    693.972162   \n",
      "1                         Abandoned     651.58  402501867    198.525215   \n",
      "2       Partial Removed see comment    1902.59  402839937    579.687012   \n",
      "3                            Active     205.62  402501867     62.649840   \n",
      "4                            Active    2069.90  402263524    630.658768   \n",
      "...                             ...        ...        ...           ...   \n",
      "150717                       Active    1981.71  402199760    603.792317   \n",
      "150718                       Active    1205.17  402159842    367.195194   \n",
      "150719                       Active     543.96  402178130    165.847635   \n",
      "150720                       Active     494.62  402585737    150.834519   \n",
      "150721                    Abandoned     792.39  402501867    241.425830   \n",
      "\n",
      "                                                 geometry  \n",
      "0       MULTILINESTRING ((524642.670 4117088.796, 5246...  \n",
      "1       MULTILINESTRING ((527997.281 4463899.920, 5281...  \n",
      "2       MULTILINESTRING ((537519.211 4475984.687, 5375...  \n",
      "3       MULTILINESTRING ((544793.476 4489156.672, 5447...  \n",
      "4       MULTILINESTRING ((526448.455 4461830.702, 5258...  \n",
      "...                                                   ...  \n",
      "150717  MULTILINESTRING ((531593.314 4464720.539, 5314...  \n",
      "150718  MULTILINESTRING ((540413.380 4470834.510, 5402...  \n",
      "150719  MULTILINESTRING ((239716.326 4374919.629, 2397...  \n",
      "150720  MULTILINESTRING ((231318.580 4376497.602, 2313...  \n",
      "150721  MULTILINESTRING ((523683.075 4467741.773, 5236...  \n",
      "\n",
      "[150722 rows x 9 columns]\n",
      "                          Operator       Fluid      Material  Diam_in  \\\n",
      "0  EVERGREEN NATURAL RESOURCES LLC         Gas         polly      4.0   \n",
      "1                 NOBLE ENERGY INC  Multiphase  Carbon Steel      3.0   \n",
      "2                   PDC ENERGY INC        None          None      NaN   \n",
      "3                 NOBLE ENERGY INC         Gas  Carbon Steel      3.0   \n",
      "4                 NOBLE ENERGY INC  Multiphase  Carbon Steel      3.0   \n",
      "\n",
      "                        Status  Length_ft    Doc_Num  SHAPE_Length  \\\n",
      "0                       Active    2277.71  403322934    693.972162   \n",
      "1                    Abandoned     651.58  402501867    198.525215   \n",
      "2  Partial Removed see comment    1902.59  402839937    579.687012   \n",
      "3                       Active     205.62  402501867     62.649840   \n",
      "4                       Active    2069.90  402263524    630.658768   \n",
      "\n",
      "                                            geometry  \n",
      "0  MULTILINESTRING ((524642.670 4117088.796, 5246...  \n",
      "1  MULTILINESTRING ((527997.281 4463899.920, 5281...  \n",
      "2  MULTILINESTRING ((537519.211 4475984.687, 5375...  \n",
      "3  MULTILINESTRING ((544793.476 4489156.672, 5447...  \n",
      "4  MULTILINESTRING ((526448.455 4461830.702, 5258...  \n"
     ]
    }
   ],
   "source": [
    "\n",
    "df = gpd.read_file(data_path)\n",
    "\n",
    "print(df)\n",
    "print(df.head())"
   ]
  },
  {
   "cell_type": "code",
   "execution_count": null,
   "metadata": {},
   "outputs": [],
   "source": []
  }
 ],
 "metadata": {
  "kernelspec": {
   "display_name": "Python 3",
   "language": "python",
   "name": "python3"
  },
  "language_info": {
   "codemirror_mode": {
    "name": "ipython",
    "version": 3
   },
   "file_extension": ".py",
   "mimetype": "text/x-python",
   "name": "python",
   "nbconvert_exporter": "python",
   "pygments_lexer": "ipython3",
   "version": "3.9.12"
  }
 },
 "nbformat": 4,
 "nbformat_minor": 2
}
